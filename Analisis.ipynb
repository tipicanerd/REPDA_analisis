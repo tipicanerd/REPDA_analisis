{
 "cells": [
  {
   "cell_type": "code",
   "execution_count": null,
   "metadata": {},
   "outputs": [],
   "source": [
    "! mkdir Graficas"
   ]
  },
  {
   "cell_type": "markdown",
   "metadata": {},
   "source": [
    "# Análisis con los datos disponibles del REPDA"
   ]
  },
  {
   "cell_type": "markdown",
   "metadata": {},
   "source": [
    "## ¿De dónde provienen los datos?\n",
    "Los datos provienen del conjunto [Concesiones, asignaciones, permisos otorgados y registros de obras situadas en zonas de libre alumbramiento de CONAGUA](https://datos.gob.mx/busca/dataset/concesiones-asignaciones-permisos-otorgados-y-registros-de-obras-situadas-en-zonas-de-libre-alu), una vez descargados, se hicieron los filtros necesarios para quedarnos únicamente con los datos que corresponden a Morelia. </br>\n",
    "\n",
    "Es importante mencionar que existen dos versiones de este conjunto, la segunda se encuentran disponible en [Consulta a la base de datos del REPDA](https://app.conagua.gob.mx/ConsultaRepda.aspx). Si bien, en esencia son lo mismo, el orden de los atributos son diferentes al igual que los nombres, la codificación de formato es diferente y en ninguno de los dos sitios se indica que existe una relación."
   ]
  },
  {
   "cell_type": "code",
   "execution_count": 1,
   "metadata": {},
   "outputs": [],
   "source": [
    "#Librerías necesarias\n",
    "import matplotlib.pyplot as plt\n",
    "import numpy as np\n",
    "import pandas as pd\n",
    "import seaborn as sns"
   ]
  },
  {
   "cell_type": "code",
   "execution_count": 2,
   "metadata": {},
   "outputs": [],
   "source": [
    "# Configuramos el formato\n",
    "pd.options.display.float_format = '{:.3f}'.format\n",
    "custom_params = {\"axes.spines.right\": False, \"axes.spines.top\": False}\n",
    "sns.set_theme(style=\"ticks\", rc=custom_params)"
   ]
  },
  {
   "cell_type": "markdown",
   "metadata": {},
   "source": [
    "Cargamos los datos"
   ]
  },
  {
   "cell_type": "code",
   "execution_count": 3,
   "metadata": {},
   "outputs": [],
   "source": [
    "folder = './datasets/'"
   ]
  },
  {
   "cell_type": "code",
   "execution_count": 4,
   "metadata": {},
   "outputs": [],
   "source": [
    "repdaMor = pd.read_csv(folder+'RepdaMorelia.csv', parse_dates=['FECHA DE REGISTRO'], infer_datetime_format=True)"
   ]
  },
  {
   "cell_type": "markdown",
   "metadata": {},
   "source": [
    "Revisamos la estructura que tienen"
   ]
  },
  {
   "cell_type": "code",
   "execution_count": 6,
   "metadata": {},
   "outputs": [
    {
     "name": "stdout",
     "output_type": "stream",
     "text": [
      "<class 'pandas.core.frame.DataFrame'>\n",
      "RangeIndex: 529 entries, 0 to 528\n",
      "Data columns (total 14 columns):\n",
      " #   Column                                                                      Non-Null Count  Dtype         \n",
      "---  ------                                                                      --------------  -----         \n",
      " 0   TÍTULO                                                                      529 non-null    object        \n",
      " 1   USO QUE AMPARA EL TÍTULO                                                    529 non-null    object        \n",
      " 2   TITULAR                                                                     529 non-null    object        \n",
      " 3   VOLUMEN DE EXTRACCIÓN ANUAL DE AGUAS NACIONALES QUE AMPARA EL TÍTULO EN m3  529 non-null    float64       \n",
      " 4   APROVECHAMIENTOS SUPERFICIALES QUE AMPARA EL TÍTULO                         529 non-null    int64         \n",
      " 5   VOLUMEN DE EXTRACCIÓN ANUAL DE APROVECHAMIENTOS SUPERFICIALES EN m3         529 non-null    float64       \n",
      " 6   APROVECHAMIENTOS SUBTERRÁNEOS QUE AMPARA EL TÍTULO                          529 non-null    int64         \n",
      " 7   VOLUMEN DE EXTRACCIÓN ANUAL DE APROVECHAMIENTOS SUBTERRÁNEOS EN m3          529 non-null    float64       \n",
      " 8   PUNTOS DE DESCARGA QUE AMPARA EL TÍTULO                                     529 non-null    int64         \n",
      " 9   VOLUMEN DE DESCARGA DIARIO EN m3                                            529 non-null    float64       \n",
      " 10  ZONAS FEDERALES QUE AMPARA EL TITULO                                        529 non-null    int64         \n",
      " 11  SUPERFICIE EN m2                                                            529 non-null    float64       \n",
      " 12  FECHA DE REGISTRO                                                           529 non-null    datetime64[ns]\n",
      " 13  AUTORIDAD QUE EMITE EL ACTO                                                 529 non-null    object        \n",
      "dtypes: datetime64[ns](1), float64(5), int64(4), object(4)\n",
      "memory usage: 58.0+ KB\n"
     ]
    }
   ],
   "source": [
    "repdaMor.info()"
   ]
  },
  {
   "cell_type": "markdown",
   "metadata": {},
   "source": [
    "## Volúmenes de extracción de aguas nacionales"
   ]
  },
  {
   "cell_type": "markdown",
   "metadata": {},
   "source": [
    "El primer punto de interés es el volumn de aguas nacionales que se extrae cada año. Para ello podemos revisar algunos valores estadísticos importantes"
   ]
  },
  {
   "cell_type": "code",
   "execution_count": 7,
   "metadata": {},
   "outputs": [
    {
     "data": {
      "text/plain": [
       "count        529.000\n",
       "mean      290858.855\n",
       "std      2789856.179\n",
       "min            0.000\n",
       "25%            0.000\n",
       "50%         6200.000\n",
       "75%        54000.000\n",
       "max     46372000.000\n",
       "Name: VOLUMEN DE EXTRACCIÓN ANUAL DE AGUAS NACIONALES QUE AMPARA EL TÍTULO EN m3, dtype: float64"
      ]
     },
     "execution_count": 7,
     "metadata": {},
     "output_type": "execute_result"
    }
   ],
   "source": [
    "repdaMor['VOLUMEN DE EXTRACCIÓN ANUAL DE AGUAS NACIONALES QUE AMPARA EL TÍTULO EN m3'].describe()"
   ]
  },
  {
   "cell_type": "markdown",
   "metadata": {},
   "source": [
    "Con esto nos damos cuenta que en promedio se extraen 290,858.85 m³ de agua al año, sin embargo, al menos la mitad de los registros extraen menos de 6,200 m³ al año, incluso hay algunos donde se indica que no s extrae agua, los cuales debemos de revisar a profundidad. "
   ]
  },
  {
   "cell_type": "code",
   "execution_count": 8,
   "metadata": {},
   "outputs": [],
   "source": [
    "sinExtraccion = repdaMor[repdaMor['VOLUMEN DE EXTRACCIÓN ANUAL DE AGUAS NACIONALES QUE AMPARA EL TÍTULO EN m3']==0]"
   ]
  },
  {
   "cell_type": "markdown",
   "metadata": {},
   "source": [
    "Revisemos los usos que amparan estos títulos"
   ]
  },
  {
   "cell_type": "code",
   "execution_count": 9,
   "metadata": {},
   "outputs": [
    {
     "data": {
      "image/png": "[encoded data removed]",
      "text/plain": [
       "<Figure size 432x288 with 1 Axes>"
      ]
     },
     "metadata": {},
     "output_type": "display_data"
    }
   ],
   "source": [
    "sns.countplot(x='USO QUE AMPARA EL TÍTULO', data=sinExtraccion, color='b')\n",
    "plt.title('Usos de los registros que no extraen agua', fontsize=18)\n",
    "plt.ylabel(\"Cantidad de registros\")\n",
    "plt.xticks(rotation=90)\n",
    "plt.savefig('./Graficas/UsosSinExtraccion.svg',dpi=350,bbox_inches=\"tight\")\n",
    "plt.show()"
   ]
  },
  {
   "cell_type": "markdown",
   "metadata": {},
   "source": [
    "Vemos que la mayoría de los registros en los que **no** se extrae agua tienen como fin los servicios. También vemos que hay dos usos que no se entienden, \"OTROS\" y \"DIFERENTES USOS\", los cuales no tenemos forma de saber a qué se refieren."
   ]
  },
  {
   "cell_type": "markdown",
   "metadata": {},
   "source": [
    "Podemos ver los titulares que no extraen agua"
   ]
  },
  {
   "cell_type": "code",
   "execution_count": 10,
   "metadata": {
    "scrolled": true
   },
   "outputs": [
    {
     "name": "stdout",
     "output_type": "stream",
     "text": [
      "ORGANISMO OPERADOR DE AGUA POTABLE, ALCANTARILLADO Y SANEAMIENTO DE MORELIA tiene 5 registros donde no se presenta una extracción de agua nacional.\n",
      "\n",
      "NUEVA WAL-MART DE MEXICO, S. DE R.L. DE C.V. tiene 4 registros donde no se presenta una extracción de agua nacional.\n",
      "\n",
      "INSTITUTO TECNOLOGICO Y DE ESTUDIOS SUPERIORES DE MONTERREY tiene 2 registros donde no se presenta una extracción de agua nacional.\n",
      "\n",
      "TIENDAS COMERCIAL MEXICANA, S.A. DE C.V. tiene 2 registros donde no se presenta una extracción de agua nacional.\n",
      "\n",
      "MARTHA IMELDA GONZALEZ HUERTA tiene 2 registros donde no se presenta una extracción de agua nacional.\n",
      "\n",
      "INMOBILIARIA Y CONSTRUCTORA SOLORZANO S.A. DE C.V. tiene 2 registros donde no se presenta una extracción de agua nacional.\n",
      "\n",
      "LA VOZ DE MICHOACAN, S.A. DE C.V. tiene 2 registros donde no se presenta una extracción de agua nacional.\n",
      "\n",
      "PAROM, S.A. DE C.V. tiene 2 registros donde no se presenta una extracción de agua nacional.\n",
      "\n",
      "FRIGORIFICO Y RASTRO DE MORELIA, S.A. DE C.V. tiene 2 registros donde no se presenta una extracción de agua nacional.\n",
      "\n",
      "ORGANISMO OPERADOR DE AGUA POTABLE ALCANTARILLADO Y SANEAMIENTO DE MORELIA tiene 2 registros donde no se presenta una extracción de agua nacional.\n",
      "\n",
      "UNION NACIONAL DE RESINEROS, A.C. tiene 2 registros donde no se presenta una extracción de agua nacional.\n",
      "\n",
      "JOSE ARMANDO, LILIANA DE LA SALUD Y FRANCISCO JOSE VILLAGOMEZ RIVADENEYRA tiene 2 registros donde no se presenta una extracción de agua nacional.\n",
      "\n",
      "ROSA RODRIGUEZ OCHOA tiene 2 registros donde no se presenta una extracción de agua nacional.\n",
      "\n",
      "CRISOBA INDUSTRIAL, S.A. DE C.V. tiene 2 registros donde no se presenta una extracción de agua nacional.\n",
      "\n",
      "CONSTRUCTORA E INMOBILIARIA VALLADOLID, S. A. DE C. V. tiene 1 registros donde no se presenta una extracción de agua nacional.\n",
      "\n",
      "OCTAVIO RODRIGUEZ DIMAS tiene 1 registros donde no se presenta una extracción de agua nacional.\n",
      "\n",
      "PANAMCO MEXICO, S. A. DE C. V. tiene 1 registros donde no se presenta una extracción de agua nacional.\n",
      "\n",
      "TEAM FOODS MEXICO S. A. DE C. V. tiene 1 registros donde no se presenta una extracción de agua nacional.\n",
      "\n",
      "J. DARIO ANTONIO DE JESUS REYES CORTES tiene 1 registros donde no se presenta una extracción de agua nacional.\n",
      "\n",
      "COMITE PRO-CONSTRUCCION DEL FRACCIONAMIENTO LA PROVIDENCIA tiene 1 registros donde no se presenta una extracción de agua nacional.\n",
      "\n",
      "SAMUEL ALCANTARA RIVERA.-PROPIETARIO DEL BALNEARIO EL EDEN tiene 1 registros donde no se presenta una extracción de agua nacional.\n",
      "\n",
      "MARIA TERESA AYALA GARCIA tiene 1 registros donde no se presenta una extracción de agua nacional.\n",
      "\n",
      "SOFIA LARIS BUITRON tiene 1 registros donde no se presenta una extracción de agua nacional.\n",
      "\n",
      "MARTIN GARCIA ROSAS, JOSE LUIS GARCIA PEREZ Y J. CARMEN GARCIA GARCIA tiene 1 registros donde no se presenta una extracción de agua nacional.\n",
      "\n",
      "CONSTRUCTORA E INMOBILIARIA VALLADOLID, S.A. DE C.V. tiene 1 registros donde no se presenta una extracción de agua nacional.\n",
      "\n",
      "INMOBILIARIA Y CONSTRUCTORA SOLORZANO, S.A. DE C.V. tiene 1 registros donde no se presenta una extracción de agua nacional.\n",
      "\n",
      "PEDRO FAUSTO RANGEL tiene 1 registros donde no se presenta una extracción de agua nacional.\n",
      "\n",
      "KOPLA, S.A. DE C.V. tiene 1 registros donde no se presenta una extracción de agua nacional.\n",
      "\n",
      "ADRIANA GRISELDA GAMIÑO MENDEZ tiene 1 registros donde no se presenta una extracción de agua nacional.\n",
      "\n",
      "CONSTRUCCION Y SUPERVISION TAURO, S.A. DE C.V. tiene 1 registros donde no se presenta una extracción de agua nacional.\n",
      "\n",
      "GREGORIO RODRIGUEZ GUTIERREZ tiene 1 registros donde no se presenta una extracción de agua nacional.\n",
      "\n",
      "YOLANDA LOPEZ MUÑOZ tiene 1 registros donde no se presenta una extracción de agua nacional.\n",
      "\n",
      "SERVICIOS DE SALUD DE MICHOACAN tiene 1 registros donde no se presenta una extracción de agua nacional.\n",
      "\n",
      "FRANCISCO MATEO MARTINEZ GARCIA, JORGE SANTIAGO HERRERA ANDRADE E IVAN CALDERON GUTIERREZ tiene 1 registros donde no se presenta una extracción de agua nacional.\n",
      "\n",
      "JUAN OCTAVIO MEJIA NEGRETE tiene 1 registros donde no se presenta una extracción de agua nacional.\n",
      "\n",
      "BALDEMAR TOVAR TELLEZ tiene 1 registros donde no se presenta una extracción de agua nacional.\n",
      "\n",
      "JOSE JESUS NARANJO NUÑEZ, JESUS EDUARDO Y EDGAR FERNANDO NARANJO GONZALEZ tiene 1 registros donde no se presenta una extracción de agua nacional.\n",
      "\n",
      "RAMON RAZO SANTILLAN tiene 1 registros donde no se presenta una extracción de agua nacional.\n",
      "\n",
      "INMOBILIARIA CARPIR tiene 1 registros donde no se presenta una extracción de agua nacional.\n",
      "\n",
      "JOSE ANTONIO ARIAS IBARRONDO tiene 1 registros donde no se presenta una extracción de agua nacional.\n",
      "\n",
      "REGINA ALEJO CUANAS tiene 1 registros donde no se presenta una extracción de agua nacional.\n",
      "\n",
      "MIGUEL ANGEL SOLORIO PINEDA tiene 1 registros donde no se presenta una extracción de agua nacional.\n",
      "\n",
      "JOSE LUIS CORTEZ DIMAS tiene 1 registros donde no se presenta una extracción de agua nacional.\n",
      "\n",
      "VIRGINIA GARCIA LOPEZ tiene 1 registros donde no se presenta una extracción de agua nacional.\n",
      "\n",
      "INMOBILIARIA CITELIS, S.A. DE C.V. tiene 1 registros donde no se presenta una extracción de agua nacional.\n",
      "\n",
      "GERARDO ORTIZ MURILLO tiene 1 registros donde no se presenta una extracción de agua nacional.\n",
      "\n",
      "NORBERTO VASQUEZ HEREDIA tiene 1 registros donde no se presenta una extracción de agua nacional.\n",
      "\n",
      "JOSE ALFREDO GODINEZ MALFAVON tiene 1 registros donde no se presenta una extracción de agua nacional.\n",
      "\n",
      "GUACAMOLE DE LA SIERRA, S.A. DE C.V. tiene 1 registros donde no se presenta una extracción de agua nacional.\n",
      "\n",
      "SALVADOR VILLICAÑA MALDONADO tiene 1 registros donde no se presenta una extracción de agua nacional.\n",
      "\n",
      "PAULINO ZAMORA FLORES tiene 1 registros donde no se presenta una extracción de agua nacional.\n",
      "\n",
      "RESIDENCIAL BOSQUE MONARCA, S.A. DE C.V. tiene 1 registros donde no se presenta una extracción de agua nacional.\n",
      "\n",
      "EJIDO EMILIANO ZAPATA tiene 1 registros donde no se presenta una extracción de agua nacional.\n",
      "\n",
      "WALPG MEX I, S. DE R. L. DE C. V. tiene 1 registros donde no se presenta una extracción de agua nacional.\n",
      "\n",
      "DAVID ROBLES VALDES tiene 1 registros donde no se presenta una extracción de agua nacional.\n",
      "\n",
      "J. RUBEN VILLANUEVA SANCHEZ tiene 1 registros donde no se presenta una extracción de agua nacional.\n",
      "\n",
      "OSIEL EQUIHUA EQUIHUA tiene 1 registros donde no se presenta una extracción de agua nacional.\n",
      "\n",
      "GAS NATURAL URUAPAN, S. A. DE C. V. tiene 1 registros donde no se presenta una extracción de agua nacional.\n",
      "\n",
      "ANA MARIA GUERRERO VEGA tiene 1 registros donde no se presenta una extracción de agua nacional.\n",
      "\n",
      "AGROVIVIENDAS DE MORELIA A. C. tiene 1 registros donde no se presenta una extracción de agua nacional.\n",
      "\n",
      "ARCOS DE LA CASCADA, ASOCIACION CIVIL tiene 1 registros donde no se presenta una extracción de agua nacional.\n",
      "\n",
      "INMOBILIARIA Y CONSTRUCTORA SOLORZANO S A DE C V tiene 1 registros donde no se presenta una extracción de agua nacional.\n",
      "\n",
      "EDUARDO CHAVEZ CARREON tiene 1 registros donde no se presenta una extracción de agua nacional.\n",
      "\n",
      "ALBERTO VELAZQUEZ VALDES tiene 1 registros donde no se presenta una extracción de agua nacional.\n",
      "\n",
      "COMITE DE AGUA POTABLE DE SAN NICOLAS OBISPO tiene 1 registros donde no se presenta una extracción de agua nacional.\n",
      "\n",
      "LUIS ALFREDO ITURBIDE MEJIA, MARIA AURORA CASAS YAÑEZ, MARCO ANTONIO TENORIO RAMOS, MARIA ELENA ARRIAGA CALDERON, GRACIELA MARTI BORBOLLA Y SERGIO AUGUSTO LEAL LEMUS tiene 1 registros donde no se presenta una extracción de agua nacional.\n",
      "\n",
      "CRISOBA INDUSTRIAL S.A. DE C.V. tiene 1 registros donde no se presenta una extracción de agua nacional.\n",
      "\n",
      "LUIS MANUEL HERRERA Y HECTOR MARTINEZ ROMERO tiene 1 registros donde no se presenta una extracción de agua nacional.\n",
      "\n",
      "CELIA DURAN tiene 1 registros donde no se presenta una extracción de agua nacional.\n",
      "\n",
      "PROMOTORA MICHOACANA DE LA VIVIENDA,-DESARROLLO HABITACIONAL tiene 1 registros donde no se presenta una extracción de agua nacional.\n",
      "\n",
      "CHRISTIAN JANETH GUILLEN AYALA tiene 1 registros donde no se presenta una extracción de agua nacional.\n",
      "\n",
      "LAURA ISABEL FLORES VIZCAINO Y CARMEN MARIA FREGOSO ZUÑIGA tiene 1 registros donde no se presenta una extracción de agua nacional.\n",
      "\n",
      "VICTOR MANUEL VILLICAÑA MALDONADO tiene 1 registros donde no se presenta una extracción de agua nacional.\n",
      "\n",
      "INMOBILIARIA Y CONSTRUCTORA JOLS, S. A. DE C. V. tiene 1 registros donde no se presenta una extracción de agua nacional.\n",
      "\n",
      "JUNTA EDUCACIONAL SOCIAL UNIDA, S.C. tiene 1 registros donde no se presenta una extracción de agua nacional.\n",
      "\n",
      "MA. ISABEL ARRIAGA GALVAN tiene 1 registros donde no se presenta una extracción de agua nacional.\n",
      "\n",
      "RESINAS SINTETICAS S.A. DE C.V. tiene 1 registros donde no se presenta una extracción de agua nacional.\n",
      "\n",
      "FELIPE LOPEZ CEJA tiene 1 registros donde no se presenta una extracción de agua nacional.\n",
      "\n",
      "MARCELA GUADALUPE SANCHEZ HERNANDEZ tiene 1 registros donde no se presenta una extracción de agua nacional.\n",
      "\n",
      "TEAM FOODS MEXICO, S. A. DE C. V. tiene 1 registros donde no se presenta una extracción de agua nacional.\n",
      "\n",
      "INMOBILIARIA DAVILA S.A. DE C.V. tiene 1 registros donde no se presenta una extracción de agua nacional.\n",
      "\n",
      "H. AYUNTAMIENTO CONSTITUCIONAL DE MORELIA tiene 1 registros donde no se presenta una extracción de agua nacional.\n",
      "\n",
      "JOSE ARTURO RICO SANCHEZ tiene 1 registros donde no se presenta una extracción de agua nacional.\n",
      "\n",
      "SIXTO CEJA RUIZ tiene 1 registros donde no se presenta una extracción de agua nacional.\n",
      "\n",
      "COSTCO DE MEXICO, S.A. DE C.V. tiene 1 registros donde no se presenta una extracción de agua nacional.\n",
      "\n",
      "LEONEL MUÑOZ MUÑOZ tiene 1 registros donde no se presenta una extracción de agua nacional.\n",
      "\n",
      "FRACCIONADORA POTRERO DE LA VIRGEN, S.A. DE C.V. tiene 1 registros donde no se presenta una extracción de agua nacional.\n",
      "\n",
      "MA. CLARA ROSEL MARTINEZ tiene 1 registros donde no se presenta una extracción de agua nacional.\n",
      "\n",
      "ENEDINA RIVERA PEREZ tiene 1 registros donde no se presenta una extracción de agua nacional.\n",
      "\n",
      "JESUS MORENO CARVAJAL tiene 1 registros donde no se presenta una extracción de agua nacional.\n",
      "\n",
      "CONSORCIO INMOBILIARIO DE MORELIA S.A. DE C.V. -CONJUNTO EN tiene 1 registros donde no se presenta una extracción de agua nacional.\n",
      "\n",
      "ISAIAS ARROYO GALLEGOS tiene 1 registros donde no se presenta una extracción de agua nacional.\n",
      "\n",
      "ADMINISTRACION DEPORTIVA ESPECIALIZADA, S.A. DE C.V. tiene 1 registros donde no se presenta una extracción de agua nacional.\n",
      "\n",
      "CITARIS DESARROLLOS INMOBILIARIOS S.A. DE C.V. tiene 1 registros donde no se presenta una extracción de agua nacional.\n",
      "\n",
      "EJIDO SAN JUANITO ITZICUARO tiene 1 registros donde no se presenta una extracción de agua nacional.\n",
      "\n",
      "INDUSTRIAL DUEÑAS S.A. DE C.V. tiene 1 registros donde no se presenta una extracción de agua nacional.\n",
      "\n",
      "MA. TERESA RUIZ MARTINEZ tiene 1 registros donde no se presenta una extracción de agua nacional.\n",
      "\n",
      "RICARDO MENDOZA PIMENTEL tiene 1 registros donde no se presenta una extracción de agua nacional.\n",
      "\n",
      "OLIVIA RUIZ BEDOLLA tiene 1 registros donde no se presenta una extracción de agua nacional.\n",
      "\n",
      "ROSA ESTRADA GALVAN tiene 1 registros donde no se presenta una extracción de agua nacional.\n",
      "\n",
      "ALEJANDRA VILLAGOMEZ BUENO tiene 1 registros donde no se presenta una extracción de agua nacional.\n",
      "\n",
      "ROGELIO CANO TOVAR, MARGARITA Y MAGDALENA CANO VILLALON tiene 1 registros donde no se presenta una extracción de agua nacional.\n",
      "\n",
      "INSTITUTO TECNOLOGICO DE MORELIA tiene 1 registros donde no se presenta una extracción de agua nacional.\n",
      "\n",
      "MIGUEL ALVARADO VILLA tiene 1 registros donde no se presenta una extracción de agua nacional.\n",
      "\n",
      "UNIVERSIDAD LATINA DE AMERICA A. C. tiene 1 registros donde no se presenta una extracción de agua nacional.\n",
      "\n",
      "RAFAEL SOPE¤A PINEDA tiene 1 registros donde no se presenta una extracción de agua nacional.\n",
      "\n",
      "FUNDACION TELETON MEXICO, A.C. tiene 1 registros donde no se presenta una extracción de agua nacional.\n",
      "\n",
      "ARRENDADORA DE RESTAURANTES, S.A. DE C.V. tiene 1 registros donde no se presenta una extracción de agua nacional.\n",
      "\n",
      "PROMOTORA TUKASA, S.A DE C.V tiene 1 registros donde no se presenta una extracción de agua nacional.\n",
      "\n",
      "JOSE ARMANDO FERREIRA HERNANDEZ tiene 1 registros donde no se presenta una extracción de agua nacional.\n",
      "\n",
      "UNIVERSIDAD LATINA DE AMERICA, A.C. tiene 1 registros donde no se presenta una extracción de agua nacional.\n",
      "\n",
      "CFE GENERACION II EPS tiene 1 registros donde no se presenta una extracción de agua nacional.\n",
      "\n",
      "ELENA CLARA TOVAR GUZMAN tiene 1 registros donde no se presenta una extracción de agua nacional.\n",
      "\n",
      "JOSE ANTONIO CHAVEZ MEDINA tiene 1 registros donde no se presenta una extracción de agua nacional.\n",
      "\n",
      "RESINAS SINTETICAS, S.A. DE C.V. tiene 1 registros donde no se presenta una extracción de agua nacional.\n",
      "\n",
      "JUNTA LOCAL MUNICIPAL PARA LA OPERACION DEL SISTEMA DE AGUA POTABLE ALCANTARILLADO Y SANEAMIENTO DE LA LOCALIDAD DE TRES MARIAS tiene 1 registros donde no se presenta una extracción de agua nacional.\n",
      "\n",
      "EDGAR VELAZQUEZ SANCHEZ tiene 1 registros donde no se presenta una extracción de agua nacional.\n",
      "\n",
      "GERARDO GONZALEZ MERCADO tiene 1 registros donde no se presenta una extracción de agua nacional.\n",
      "\n",
      "COLEGIO ANAHUAC, A.C. tiene 1 registros donde no se presenta una extracción de agua nacional.\n",
      "\n",
      "ALBERTO GUTIERREZ DEL RIO tiene 1 registros donde no se presenta una extracción de agua nacional.\n",
      "\n",
      "JOSE ALFREDO SERRATO RODRIGUEZ tiene 1 registros donde no se presenta una extracción de agua nacional.\n",
      "\n",
      "EJIDO LA SOLEDAD tiene 1 registros donde no se presenta una extracción de agua nacional.\n",
      "\n",
      "HUGO GONZALEZ SALAS. tiene 1 registros donde no se presenta una extracción de agua nacional.\n",
      "\n",
      "MARIANO COLIN GARCIA tiene 1 registros donde no se presenta una extracción de agua nacional.\n",
      "\n",
      "FERNANDO RIOS FIERRO tiene 1 registros donde no se presenta una extracción de agua nacional.\n",
      "\n",
      "FRANCISCO OTERO PAJARO tiene 1 registros donde no se presenta una extracción de agua nacional.\n",
      "\n",
      "INMOBILIARIA Y COMERCIAL LAS AMERICAS S. A. DE C. V. tiene 1 registros donde no se presenta una extracción de agua nacional.\n",
      "\n",
      "INMOBILIARIA Y COMERCIAL LAS AMERICAS, S.A. DE C.V. tiene 1 registros donde no se presenta una extracción de agua nacional.\n",
      "\n",
      "CORPORATIVO TRES MARIAS S.A.P.I.B. DE C.V. tiene 1 registros donde no se presenta una extracción de agua nacional.\n",
      "\n",
      "DESARROLLO HABITACIONAL SANTA JULIA, S.A. DE C.V. tiene 1 registros donde no se presenta una extracción de agua nacional.\n",
      "\n",
      "INMOBILIARIA Y COMERCIAL LA LOMA S. A. DE C. V. tiene 1 registros donde no se presenta una extracción de agua nacional.\n",
      "\n",
      "GUILLERMO DE LA SALUD ITURBIDE MEJIA tiene 1 registros donde no se presenta una extracción de agua nacional.\n",
      "\n",
      "UNIVERSIDAD AUTONOMA CHAPINGO tiene 1 registros donde no se presenta una extracción de agua nacional.\n",
      "\n",
      "GERARDO AGUILAR CALDERON tiene 1 registros donde no se presenta una extracción de agua nacional.\n",
      "\n",
      "SANDRA DE JESUS ALFARO BROSIG DE BALTAZ AR tiene 1 registros donde no se presenta una extracción de agua nacional.\n",
      "\n",
      "ROSENDO DOMINGUEZ CONTRERAS tiene 1 registros donde no se presenta una extracción de agua nacional.\n",
      "\n",
      "JOSE CRUZ GUILLERMO GUZMAN FUENTES, MARIANO LUIS FELIPE GUZMAN FUENTES tiene 1 registros donde no se presenta una extracción de agua nacional.\n",
      "\n",
      "PROMOTORA INMOBILIARIA PAME, S.A. DE C.V. tiene 1 registros donde no se presenta una extracción de agua nacional.\n",
      "\n",
      "CELIN CORTES GALLEGOS tiene 1 registros donde no se presenta una extracción de agua nacional.\n",
      "\n",
      "FRANCISCO VALENCIA ESPINOZA tiene 1 registros donde no se presenta una extracción de agua nacional.\n",
      "\n",
      "DOMINGO RUIZ LOPEZ tiene 1 registros donde no se presenta una extracción de agua nacional.\n",
      "\n",
      "GLORIA GOMEZ ARREZ tiene 1 registros donde no se presenta una extracción de agua nacional.\n",
      "\n",
      "JUNTA LOCAL DE AGUA POTABLE DE LAS COLONIAS DEL SUR DE SANTA MARIA tiene 1 registros donde no se presenta una extracción de agua nacional.\n",
      "\n",
      "SECRETARIA DE COMUNICACIONES Y TRANSPORTES CENTRO SCT MICHOACAN tiene 1 registros donde no se presenta una extracción de agua nacional.\n",
      "\n",
      "AGRO METALICA MICHOACANA, S.A. DE C.V. tiene 1 registros donde no se presenta una extracción de agua nacional.\n",
      "\n",
      "FERNANDO GARCIA GUTIERREZ tiene 1 registros donde no se presenta una extracción de agua nacional.\n",
      "\n",
      "MIGUEL ANGEL MONTES DE OCA CENTURION tiene 1 registros donde no se presenta una extracción de agua nacional.\n",
      "\n",
      "PROMOTORA TUKASA, S.A. DE C.V. tiene 1 registros donde no se presenta una extracción de agua nacional.\n",
      "\n",
      "PABLO VARGAS ESQUIVIAS tiene 1 registros donde no se presenta una extracción de agua nacional.\n",
      "\n",
      "RAFAEL RIVERA BARRAGAN tiene 1 registros donde no se presenta una extracción de agua nacional.\n",
      "\n",
      "ANA JELY MEDRANO CRUZ tiene 1 registros donde no se presenta una extracción de agua nacional.\n",
      "\n",
      "ELSA HAYDEE VELAZQUEZ ESTRADA tiene 1 registros donde no se presenta una extracción de agua nacional.\n",
      "\n",
      "AGROPECUARIA TARASCA, S. DE P.R. DE R.L. tiene 1 registros donde no se presenta una extracción de agua nacional.\n",
      "\n",
      "INTEGRA MM, S. A. DE C. V. tiene 1 registros donde no se presenta una extracción de agua nacional.\n",
      "\n",
      "JAVIER CARLOS GUADARRAMA AVILA tiene 1 registros donde no se presenta una extracción de agua nacional.\n",
      "\n",
      "DESARROLLO LOS CERRITOS, S. A. DE C. V. tiene 1 registros donde no se presenta una extracción de agua nacional.\n",
      "\n",
      "JUSTO BARRIGA PEREZ GIL.- TENERIA INNOMINADA tiene 1 registros donde no se presenta una extracción de agua nacional.\n",
      "\n",
      "BEBIDAS PURIFICADAS DE MICH. S.A. DE C.V. tiene 1 registros donde no se presenta una extracción de agua nacional.\n",
      "\n",
      "MARIA DOLORES ARREOLA ESTRADA tiene 1 registros donde no se presenta una extracción de agua nacional.\n",
      "\n",
      "RAQUEL VALDES ANAYA tiene 1 registros donde no se presenta una extracción de agua nacional.\n",
      "\n",
      "FERNANDO VILLANUEVA RUIZ tiene 1 registros donde no se presenta una extracción de agua nacional.\n",
      "\n",
      "PAROM S. A. DE C. V. tiene 1 registros donde no se presenta una extracción de agua nacional.\n",
      "\n",
      "ENRIQUE CORTES PONCE tiene 1 registros donde no se presenta una extracción de agua nacional.\n",
      "\n",
      "JUNTA EDUCACIONAL SOCIAL UNIDA, S. C. tiene 1 registros donde no se presenta una extracción de agua nacional.\n",
      "\n",
      "JAVIER DIMAS GALLEGOS tiene 1 registros donde no se presenta una extracción de agua nacional.\n",
      "\n",
      "SERVICIOS ECOTURISTICOS DE COINTZIO tiene 1 registros donde no se presenta una extracción de agua nacional.\n",
      "\n",
      "GILDARDO MILLAN CAMPUZANO Y ARTURO CERVANTES MEZA tiene 1 registros donde no se presenta una extracción de agua nacional.\n",
      "\n",
      "SERVICIO PRINCIPAL, S. A. DE C. V. tiene 1 registros donde no se presenta una extracción de agua nacional.\n",
      "\n",
      "FIRA-BANCO DE MEXICO tiene 1 registros donde no se presenta una extracción de agua nacional.\n",
      "\n",
      "ARTURO NAVA VELAZQUEZ tiene 1 registros donde no se presenta una extracción de agua nacional.\n",
      "\n",
      "JUSTO SIERRA NORIEGA tiene 1 registros donde no se presenta una extracción de agua nacional.\n",
      "\n",
      "URBASUR, S.A. DE C.V. tiene 1 registros donde no se presenta una extracción de agua nacional.\n",
      "\n",
      "CELESTINO ESPINOSA MONTAÑO tiene 1 registros donde no se presenta una extracción de agua nacional.\n",
      "\n",
      "VICTOR MANUEL TORRES OBREGON Y LUZ GABRIELA LEVERONI CASTRO tiene 1 registros donde no se presenta una extracción de agua nacional.\n",
      "\n",
      "LUIS JAVIER NIEMBRO GONZALEZ tiene 1 registros donde no se presenta una extracción de agua nacional.\n",
      "\n",
      "CARLOS ALEJANDRO VILLICAÑA MALDONADO tiene 1 registros donde no se presenta una extracción de agua nacional.\n",
      "\n",
      "RAMIRO RODRIGUEZ CASTILLO tiene 1 registros donde no se presenta una extracción de agua nacional.\n",
      "\n",
      "COL. EL ARQUITO tiene 1 registros donde no se presenta una extracción de agua nacional.\n",
      "\n",
      "FILEMON MELO PEDRAZA tiene 1 registros donde no se presenta una extracción de agua nacional.\n",
      "\n",
      "NORBERTO MARTINEZ GUERRERO tiene 1 registros donde no se presenta una extracción de agua nacional.\n",
      "\n",
      "LUIS MANUEL GARCIA MARTINEZ tiene 1 registros donde no se presenta una extracción de agua nacional.\n",
      "\n",
      "PEMEX REFINACION, SUPERINTENDENCIA LOCAL DE VENTAS MORELIA tiene 1 registros donde no se presenta una extracción de agua nacional.\n",
      "\n",
      "ARRENDADORA DE RESTAURANTES tiene 1 registros donde no se presenta una extracción de agua nacional.\n",
      "\n",
      "HUMBERTO GARCIA TORRES tiene 1 registros donde no se presenta una extracción de agua nacional.\n",
      "\n",
      "CRISTIAN MARANAT MORENO BECERRIL tiene 1 registros donde no se presenta una extracción de agua nacional.\n",
      "\n",
      "UNIVERSIDAD NACIONAL AUTONOMA DE MEXICO tiene 1 registros donde no se presenta una extracción de agua nacional.\n",
      "\n",
      "CELIA MARIA ELENA CHAVEZ HUERTA tiene 1 registros donde no se presenta una extracción de agua nacional.\n",
      "\n",
      "TURBINAS Y EQUIPOS INDUSTRIALES S.A. DE C. V. tiene 1 registros donde no se presenta una extracción de agua nacional.\n",
      "\n",
      "DISTRIBUIDORA DE GAS PEMEX DEL BAJIO S.A. DE C.V. tiene 1 registros donde no se presenta una extracción de agua nacional.\n",
      "\n",
      "INSTITUTO DE SEGURIDAD Y SERVICIOS SOCIALES DE LOS TRABAJADORES DEL ESTADO tiene 1 registros donde no se presenta una extracción de agua nacional.\n",
      "\n",
      "MULTISERVICIOS DE MORELIA S.A. DE C.V. tiene 1 registros donde no se presenta una extracción de agua nacional.\n",
      "\n",
      "TEAM FOODS MEXICO, S.A. DE C.V. tiene 1 registros donde no se presenta una extracción de agua nacional.\n",
      "\n",
      "ANTONIO MENDOZA CISNEROS tiene 1 registros donde no se presenta una extracción de agua nacional.\n",
      "\n",
      "MARTHA MONROY BOLAÑOS tiene 1 registros donde no se presenta una extracción de agua nacional.\n",
      "\n",
      "BEBIDAS AZTECA DEL CENTRO, S.A. DE C.V. tiene 1 registros donde no se presenta una extracción de agua nacional.\n",
      "\n",
      "PANAMCO BAJIO, S.A. DE C.V. tiene 1 registros donde no se presenta una extracción de agua nacional.\n",
      "\n",
      "MANUELA BOLEA MURGA tiene 1 registros donde no se presenta una extracción de agua nacional.\n",
      "\n",
      "AURELIO CORTES TELLEZ tiene 1 registros donde no se presenta una extracción de agua nacional.\n",
      "\n",
      "VA TECH ESCHER WYSS, S.A. DE C.V. tiene 1 registros donde no se presenta una extracción de agua nacional.\n",
      "\n",
      "URBASUR tiene 1 registros donde no se presenta una extracción de agua nacional.\n",
      "\n",
      "BENJAMIN MENDOZA SANCHEZ tiene 1 registros donde no se presenta una extracción de agua nacional.\n",
      "\n",
      "JOSE ABELARDO RAMIREZ GOMEZ tiene 1 registros donde no se presenta una extracción de agua nacional.\n",
      "\n",
      "JOSE OCTAVIO VIVEROS SANDOVAL tiene 1 registros donde no se presenta una extracción de agua nacional.\n",
      "\n",
      "RODOLFO RODRIGUEZ MARTINEZ tiene 1 registros donde no se presenta una extracción de agua nacional.\n",
      "\n",
      "MARTHA THOMAS REYES tiene 1 registros donde no se presenta una extracción de agua nacional.\n",
      "\n",
      "RESIDENCIAL TORREON NUEVO, S.A. DE C.V. tiene 1 registros donde no se presenta una extracción de agua nacional.\n",
      "\n",
      "CLUB CAMPESTRE DE MORELIA, PROPIEDAD EN CONDOMINIO tiene 1 registros donde no se presenta una extracción de agua nacional.\n",
      "\n",
      "FRANCISCO JAVIER CEDEÑO SERENO tiene 1 registros donde no se presenta una extracción de agua nacional.\n",
      "\n",
      "CARLOS RENE PAREDEZ HERNANDEZ tiene 1 registros donde no se presenta una extracción de agua nacional.\n",
      "\n",
      "ODILON GONZALEZ AGUILAR tiene 1 registros donde no se presenta una extracción de agua nacional.\n",
      "\n",
      "FRACCIONAMIENTO ECOLOGICO EL PUEBLITO, A. C. tiene 1 registros donde no se presenta una extracción de agua nacional.\n",
      "\n",
      "UNION DE COLONOS DE EL CHARAQUENDO A. C. tiene 1 registros donde no se presenta una extracción de agua nacional.\n",
      "\n"
     ]
    }
   ],
   "source": [
    "for titular, registros in zip(sinExtraccion.TITULAR.value_counts().index,sinExtraccion.TITULAR.value_counts()):\n",
    "    print(f\"{titular} tiene {registros} registros donde no se presenta una extracción de agua nacional.\\n\")"
   ]
  },
  {
   "cell_type": "markdown",
   "metadata": {},
   "source": [
    "De esta lista llama la atencia que el OOAPAS esté registrado de dos maneras diferentes, como _ORGANISMO OPERADOR DE AGUA POTABLE, ALCANTARILLADO Y SANEAMIENTO DE MORELIA_ y _ORGANISMO OPERADOR DE AGUA POTABLE ALCANTARILLADO Y SANEAMIENTO DE MORELIA_, lo que nos indica una inconsistencia en los registros, por lo que debemos de arregrarlo."
   ]
  },
  {
   "cell_type": "code",
   "execution_count": 11,
   "metadata": {},
   "outputs": [
    {
     "name": "stderr",
     "output_type": "stream",
     "text": [
      "/home/jazminlc/.local/lib/python3.8/site-packages/pandas/core/series.py:4575: SettingWithCopyWarning: \n",
      "A value is trying to be set on a copy of a slice from a DataFrame\n",
      "\n",
      "See the caveats in the documentation: https://pandas.pydata.org/pandas-docs/stable/user_guide/indexing.html#returning-a-view-versus-a-copy\n",
      "  return super().replace(\n"
     ]
    }
   ],
   "source": [
    "repdaMor['TITULAR'].replace('ORGANISMO OPERADOR DE AGUA POTABLE, ALCANTARILLADO Y SANEAMIENTO DE MORELIA','ORGANISMO OPERADOR DE AGUA POTABLE ALCANTARILLADO Y SANEAMIENTO DE MORELIA', inplace=True)\n",
    "sinExtraccion['TITULAR'].replace('ORGANISMO OPERADOR DE AGUA POTABLE, ALCANTARILLADO Y SANEAMIENTO DE MORELIA','ORGANISMO OPERADOR DE AGUA POTABLE ALCANTARILLADO Y SANEAMIENTO DE MORELIA', inplace=True)"
   ]
  },
  {
   "cell_type": "markdown",
   "metadata": {},
   "source": [
    "Volvemos a revisar a los titulares que no extraen agua"
   ]
  },
  {
   "cell_type": "code",
   "execution_count": 12,
   "metadata": {
    "scrolled": true
   },
   "outputs": [
    {
     "name": "stdout",
     "output_type": "stream",
     "text": [
      "ORGANISMO OPERADOR DE AGUA POTABLE ALCANTARILLADO Y SANEAMIENTO DE MORELIA tiene 7 registros donde no se presenta una extracción de agua nacional.\n",
      "\n",
      "NUEVA WAL-MART DE MEXICO, S. DE R.L. DE C.V. tiene 4 registros donde no se presenta una extracción de agua nacional.\n",
      "\n",
      "INSTITUTO TECNOLOGICO Y DE ESTUDIOS SUPERIORES DE MONTERREY tiene 2 registros donde no se presenta una extracción de agua nacional.\n",
      "\n",
      "INMOBILIARIA Y CONSTRUCTORA SOLORZANO S.A. DE C.V. tiene 2 registros donde no se presenta una extracción de agua nacional.\n",
      "\n",
      "LA VOZ DE MICHOACAN, S.A. DE C.V. tiene 2 registros donde no se presenta una extracción de agua nacional.\n",
      "\n",
      "MARTHA IMELDA GONZALEZ HUERTA tiene 2 registros donde no se presenta una extracción de agua nacional.\n",
      "\n",
      "PAROM, S.A. DE C.V. tiene 2 registros donde no se presenta una extracción de agua nacional.\n",
      "\n",
      "FRIGORIFICO Y RASTRO DE MORELIA, S.A. DE C.V. tiene 2 registros donde no se presenta una extracción de agua nacional.\n",
      "\n",
      "UNION NACIONAL DE RESINEROS, A.C. tiene 2 registros donde no se presenta una extracción de agua nacional.\n",
      "\n",
      "TIENDAS COMERCIAL MEXICANA, S.A. DE C.V. tiene 2 registros donde no se presenta una extracción de agua nacional.\n",
      "\n",
      "ROSA RODRIGUEZ OCHOA tiene 2 registros donde no se presenta una extracción de agua nacional.\n",
      "\n",
      "JOSE ARMANDO, LILIANA DE LA SALUD Y FRANCISCO JOSE VILLAGOMEZ RIVADENEYRA tiene 2 registros donde no se presenta una extracción de agua nacional.\n",
      "\n",
      "CRISOBA INDUSTRIAL, S.A. DE C.V. tiene 2 registros donde no se presenta una extracción de agua nacional.\n",
      "\n",
      "MARTIN GARCIA ROSAS, JOSE LUIS GARCIA PEREZ Y J. CARMEN GARCIA GARCIA tiene 1 registros donde no se presenta una extracción de agua nacional.\n",
      "\n",
      "ADRIANA GRISELDA GAMIÑO MENDEZ tiene 1 registros donde no se presenta una extracción de agua nacional.\n",
      "\n",
      "TEAM FOODS MEXICO S. A. DE C. V. tiene 1 registros donde no se presenta una extracción de agua nacional.\n",
      "\n",
      "J. DARIO ANTONIO DE JESUS REYES CORTES tiene 1 registros donde no se presenta una extracción de agua nacional.\n",
      "\n",
      "PANAMCO MEXICO, S. A. DE C. V. tiene 1 registros donde no se presenta una extracción de agua nacional.\n",
      "\n",
      "COMITE PRO-CONSTRUCCION DEL FRACCIONAMIENTO LA PROVIDENCIA tiene 1 registros donde no se presenta una extracción de agua nacional.\n",
      "\n",
      "MARIA TERESA AYALA GARCIA tiene 1 registros donde no se presenta una extracción de agua nacional.\n",
      "\n",
      "OCTAVIO RODRIGUEZ DIMAS tiene 1 registros donde no se presenta una extracción de agua nacional.\n",
      "\n",
      "SOFIA LARIS BUITRON tiene 1 registros donde no se presenta una extracción de agua nacional.\n",
      "\n",
      "CONSTRUCTORA E INMOBILIARIA VALLADOLID, S. A. DE C. V. tiene 1 registros donde no se presenta una extracción de agua nacional.\n",
      "\n",
      "SAMUEL ALCANTARA RIVERA.-PROPIETARIO DEL BALNEARIO EL EDEN tiene 1 registros donde no se presenta una extracción de agua nacional.\n",
      "\n",
      "PEDRO FAUSTO RANGEL tiene 1 registros donde no se presenta una extracción de agua nacional.\n",
      "\n",
      "INMOBILIARIA Y CONSTRUCTORA SOLORZANO, S.A. DE C.V. tiene 1 registros donde no se presenta una extracción de agua nacional.\n",
      "\n",
      "KOPLA, S.A. DE C.V. tiene 1 registros donde no se presenta una extracción de agua nacional.\n",
      "\n",
      "CONSTRUCTORA E INMOBILIARIA VALLADOLID, S.A. DE C.V. tiene 1 registros donde no se presenta una extracción de agua nacional.\n",
      "\n",
      "CONSTRUCCION Y SUPERVISION TAURO, S.A. DE C.V. tiene 1 registros donde no se presenta una extracción de agua nacional.\n",
      "\n",
      "GREGORIO RODRIGUEZ GUTIERREZ tiene 1 registros donde no se presenta una extracción de agua nacional.\n",
      "\n",
      "YOLANDA LOPEZ MUÑOZ tiene 1 registros donde no se presenta una extracción de agua nacional.\n",
      "\n",
      "SERVICIOS DE SALUD DE MICHOACAN tiene 1 registros donde no se presenta una extracción de agua nacional.\n",
      "\n",
      "FRANCISCO MATEO MARTINEZ GARCIA, JORGE SANTIAGO HERRERA ANDRADE E IVAN CALDERON GUTIERREZ tiene 1 registros donde no se presenta una extracción de agua nacional.\n",
      "\n",
      "NORBERTO VASQUEZ HEREDIA tiene 1 registros donde no se presenta una extracción de agua nacional.\n",
      "\n",
      "UNIVERSIDAD LATINA DE AMERICA, A.C. tiene 1 registros donde no se presenta una extracción de agua nacional.\n",
      "\n",
      "BALDEMAR TOVAR TELLEZ tiene 1 registros donde no se presenta una extracción de agua nacional.\n",
      "\n",
      "JOSE JESUS NARANJO NUÑEZ, JESUS EDUARDO Y EDGAR FERNANDO NARANJO GONZALEZ tiene 1 registros donde no se presenta una extracción de agua nacional.\n",
      "\n",
      "RAMON RAZO SANTILLAN tiene 1 registros donde no se presenta una extracción de agua nacional.\n",
      "\n",
      "INMOBILIARIA CARPIR tiene 1 registros donde no se presenta una extracción de agua nacional.\n",
      "\n",
      "JOSE ANTONIO ARIAS IBARRONDO tiene 1 registros donde no se presenta una extracción de agua nacional.\n",
      "\n",
      "REGINA ALEJO CUANAS tiene 1 registros donde no se presenta una extracción de agua nacional.\n",
      "\n",
      "MIGUEL ANGEL SOLORIO PINEDA tiene 1 registros donde no se presenta una extracción de agua nacional.\n",
      "\n",
      "JOSE LUIS CORTEZ DIMAS tiene 1 registros donde no se presenta una extracción de agua nacional.\n",
      "\n",
      "VIRGINIA GARCIA LOPEZ tiene 1 registros donde no se presenta una extracción de agua nacional.\n",
      "\n",
      "INMOBILIARIA CITELIS, S.A. DE C.V. tiene 1 registros donde no se presenta una extracción de agua nacional.\n",
      "\n",
      "JUAN OCTAVIO MEJIA NEGRETE tiene 1 registros donde no se presenta una extracción de agua nacional.\n",
      "\n",
      "GERARDO ORTIZ MURILLO tiene 1 registros donde no se presenta una extracción de agua nacional.\n",
      "\n",
      "JOSE ALFREDO GODINEZ MALFAVON tiene 1 registros donde no se presenta una extracción de agua nacional.\n",
      "\n",
      "GUACAMOLE DE LA SIERRA, S.A. DE C.V. tiene 1 registros donde no se presenta una extracción de agua nacional.\n",
      "\n",
      "SALVADOR VILLICAÑA MALDONADO tiene 1 registros donde no se presenta una extracción de agua nacional.\n",
      "\n",
      "PAULINO ZAMORA FLORES tiene 1 registros donde no se presenta una extracción de agua nacional.\n",
      "\n",
      "RESIDENCIAL BOSQUE MONARCA, S.A. DE C.V. tiene 1 registros donde no se presenta una extracción de agua nacional.\n",
      "\n",
      "EJIDO EMILIANO ZAPATA tiene 1 registros donde no se presenta una extracción de agua nacional.\n",
      "\n",
      "WALPG MEX I, S. DE R. L. DE C. V. tiene 1 registros donde no se presenta una extracción de agua nacional.\n",
      "\n",
      "DAVID ROBLES VALDES tiene 1 registros donde no se presenta una extracción de agua nacional.\n",
      "\n",
      "J. RUBEN VILLANUEVA SANCHEZ tiene 1 registros donde no se presenta una extracción de agua nacional.\n",
      "\n",
      "OSIEL EQUIHUA EQUIHUA tiene 1 registros donde no se presenta una extracción de agua nacional.\n",
      "\n",
      "GAS NATURAL URUAPAN, S. A. DE C. V. tiene 1 registros donde no se presenta una extracción de agua nacional.\n",
      "\n",
      "ENEDINA RIVERA PEREZ tiene 1 registros donde no se presenta una extracción de agua nacional.\n",
      "\n",
      "AGROVIVIENDAS DE MORELIA A. C. tiene 1 registros donde no se presenta una extracción de agua nacional.\n",
      "\n",
      "LAURA ISABEL FLORES VIZCAINO Y CARMEN MARIA FREGOSO ZUÑIGA tiene 1 registros donde no se presenta una extracción de agua nacional.\n",
      "\n",
      "INMOBILIARIA Y CONSTRUCTORA SOLORZANO S A DE C V tiene 1 registros donde no se presenta una extracción de agua nacional.\n",
      "\n",
      "EDUARDO CHAVEZ CARREON tiene 1 registros donde no se presenta una extracción de agua nacional.\n",
      "\n",
      "ALBERTO VELAZQUEZ VALDES tiene 1 registros donde no se presenta una extracción de agua nacional.\n",
      "\n",
      "COMITE DE AGUA POTABLE DE SAN NICOLAS OBISPO tiene 1 registros donde no se presenta una extracción de agua nacional.\n",
      "\n",
      "LUIS ALFREDO ITURBIDE MEJIA, MARIA AURORA CASAS YAÑEZ, MARCO ANTONIO TENORIO RAMOS, MARIA ELENA ARRIAGA CALDERON, GRACIELA MARTI BORBOLLA Y SERGIO AUGUSTO LEAL LEMUS tiene 1 registros donde no se presenta una extracción de agua nacional.\n",
      "\n",
      "UNIVERSIDAD AUTONOMA CHAPINGO tiene 1 registros donde no se presenta una extracción de agua nacional.\n",
      "\n",
      "LUIS MANUEL HERRERA Y HECTOR MARTINEZ ROMERO tiene 1 registros donde no se presenta una extracción de agua nacional.\n",
      "\n",
      "CELIA DURAN tiene 1 registros donde no se presenta una extracción de agua nacional.\n",
      "\n",
      "PROMOTORA MICHOACANA DE LA VIVIENDA,-DESARROLLO HABITACIONAL tiene 1 registros donde no se presenta una extracción de agua nacional.\n",
      "\n",
      "CHRISTIAN JANETH GUILLEN AYALA tiene 1 registros donde no se presenta una extracción de agua nacional.\n",
      "\n",
      "VICTOR MANUEL VILLICAÑA MALDONADO tiene 1 registros donde no se presenta una extracción de agua nacional.\n",
      "\n",
      "LEONEL MUÑOZ MUÑOZ tiene 1 registros donde no se presenta una extracción de agua nacional.\n",
      "\n",
      "INMOBILIARIA Y CONSTRUCTORA JOLS, S. A. DE C. V. tiene 1 registros donde no se presenta una extracción de agua nacional.\n",
      "\n",
      "JUNTA EDUCACIONAL SOCIAL UNIDA, S.C. tiene 1 registros donde no se presenta una extracción de agua nacional.\n",
      "\n",
      "MA. ISABEL ARRIAGA GALVAN tiene 1 registros donde no se presenta una extracción de agua nacional.\n",
      "\n",
      "RESINAS SINTETICAS S.A. DE C.V. tiene 1 registros donde no se presenta una extracción de agua nacional.\n",
      "\n",
      "FELIPE LOPEZ CEJA tiene 1 registros donde no se presenta una extracción de agua nacional.\n",
      "\n",
      "MARCELA GUADALUPE SANCHEZ HERNANDEZ tiene 1 registros donde no se presenta una extracción de agua nacional.\n",
      "\n",
      "TEAM FOODS MEXICO, S. A. DE C. V. tiene 1 registros donde no se presenta una extracción de agua nacional.\n",
      "\n",
      "INMOBILIARIA DAVILA S.A. DE C.V. tiene 1 registros donde no se presenta una extracción de agua nacional.\n",
      "\n",
      "H. AYUNTAMIENTO CONSTITUCIONAL DE MORELIA tiene 1 registros donde no se presenta una extracción de agua nacional.\n",
      "\n",
      "JOSE ARTURO RICO SANCHEZ tiene 1 registros donde no se presenta una extracción de agua nacional.\n",
      "\n",
      "COSTCO DE MEXICO, S.A. DE C.V. tiene 1 registros donde no se presenta una extracción de agua nacional.\n",
      "\n",
      "FRACCIONADORA POTRERO DE LA VIRGEN, S.A. DE C.V. tiene 1 registros donde no se presenta una extracción de agua nacional.\n",
      "\n",
      "ARCOS DE LA CASCADA, ASOCIACION CIVIL tiene 1 registros donde no se presenta una extracción de agua nacional.\n",
      "\n",
      "MA. CLARA ROSEL MARTINEZ tiene 1 registros donde no se presenta una extracción de agua nacional.\n",
      "\n",
      "ELENA CLARA TOVAR GUZMAN tiene 1 registros donde no se presenta una extracción de agua nacional.\n",
      "\n",
      "ANA MARIA GUERRERO VEGA tiene 1 registros donde no se presenta una extracción de agua nacional.\n",
      "\n",
      "CONSORCIO INMOBILIARIO DE MORELIA S.A. DE C.V. -CONJUNTO EN tiene 1 registros donde no se presenta una extracción de agua nacional.\n",
      "\n",
      "ISAIAS ARROYO GALLEGOS tiene 1 registros donde no se presenta una extracción de agua nacional.\n",
      "\n",
      "ADMINISTRACION DEPORTIVA ESPECIALIZADA, S.A. DE C.V. tiene 1 registros donde no se presenta una extracción de agua nacional.\n",
      "\n",
      "CITARIS DESARROLLOS INMOBILIARIOS S.A. DE C.V. tiene 1 registros donde no se presenta una extracción de agua nacional.\n",
      "\n",
      "EJIDO SAN JUANITO ITZICUARO tiene 1 registros donde no se presenta una extracción de agua nacional.\n",
      "\n",
      "INDUSTRIAL DUEÑAS S.A. DE C.V. tiene 1 registros donde no se presenta una extracción de agua nacional.\n",
      "\n",
      "MA. TERESA RUIZ MARTINEZ tiene 1 registros donde no se presenta una extracción de agua nacional.\n",
      "\n",
      "RICARDO MENDOZA PIMENTEL tiene 1 registros donde no se presenta una extracción de agua nacional.\n",
      "\n",
      "OLIVIA RUIZ BEDOLLA tiene 1 registros donde no se presenta una extracción de agua nacional.\n",
      "\n",
      "ROSA ESTRADA GALVAN tiene 1 registros donde no se presenta una extracción de agua nacional.\n",
      "\n",
      "ALEJANDRA VILLAGOMEZ BUENO tiene 1 registros donde no se presenta una extracción de agua nacional.\n",
      "\n",
      "ROGELIO CANO TOVAR, MARGARITA Y MAGDALENA CANO VILLALON tiene 1 registros donde no se presenta una extracción de agua nacional.\n",
      "\n",
      "INSTITUTO TECNOLOGICO DE MORELIA tiene 1 registros donde no se presenta una extracción de agua nacional.\n",
      "\n",
      "MIGUEL ALVARADO VILLA tiene 1 registros donde no se presenta una extracción de agua nacional.\n",
      "\n",
      "UNIVERSIDAD LATINA DE AMERICA A. C. tiene 1 registros donde no se presenta una extracción de agua nacional.\n",
      "\n",
      "RAFAEL SOPE¤A PINEDA tiene 1 registros donde no se presenta una extracción de agua nacional.\n",
      "\n",
      "FUNDACION TELETON MEXICO, A.C. tiene 1 registros donde no se presenta una extracción de agua nacional.\n",
      "\n",
      "ARRENDADORA DE RESTAURANTES, S.A. DE C.V. tiene 1 registros donde no se presenta una extracción de agua nacional.\n",
      "\n",
      "PROMOTORA TUKASA, S.A DE C.V tiene 1 registros donde no se presenta una extracción de agua nacional.\n",
      "\n",
      "JOSE ARMANDO FERREIRA HERNANDEZ tiene 1 registros donde no se presenta una extracción de agua nacional.\n",
      "\n",
      "JESUS MORENO CARVAJAL tiene 1 registros donde no se presenta una extracción de agua nacional.\n",
      "\n",
      "ARRENDADORA DE RESTAURANTES tiene 1 registros donde no se presenta una extracción de agua nacional.\n",
      "\n",
      "FRANCISCO OTERO PAJARO tiene 1 registros donde no se presenta una extracción de agua nacional.\n",
      "\n",
      "FERNANDO RIOS FIERRO tiene 1 registros donde no se presenta una extracción de agua nacional.\n",
      "\n",
      "RESINAS SINTETICAS, S.A. DE C.V. tiene 1 registros donde no se presenta una extracción de agua nacional.\n",
      "\n",
      "JUNTA LOCAL MUNICIPAL PARA LA OPERACION DEL SISTEMA DE AGUA POTABLE ALCANTARILLADO Y SANEAMIENTO DE LA LOCALIDAD DE TRES MARIAS tiene 1 registros donde no se presenta una extracción de agua nacional.\n",
      "\n",
      "EDGAR VELAZQUEZ SANCHEZ tiene 1 registros donde no se presenta una extracción de agua nacional.\n",
      "\n",
      "COLEGIO ANAHUAC, A.C. tiene 1 registros donde no se presenta una extracción de agua nacional.\n",
      "\n",
      "ALBERTO GUTIERREZ DEL RIO tiene 1 registros donde no se presenta una extracción de agua nacional.\n",
      "\n",
      "JOSE ALFREDO SERRATO RODRIGUEZ tiene 1 registros donde no se presenta una extracción de agua nacional.\n",
      "\n",
      "EJIDO LA SOLEDAD tiene 1 registros donde no se presenta una extracción de agua nacional.\n",
      "\n",
      "HUGO GONZALEZ SALAS. tiene 1 registros donde no se presenta una extracción de agua nacional.\n",
      "\n",
      "MARIANO COLIN GARCIA tiene 1 registros donde no se presenta una extracción de agua nacional.\n",
      "\n",
      "JOSE ANTONIO CHAVEZ MEDINA tiene 1 registros donde no se presenta una extracción de agua nacional.\n",
      "\n",
      "INMOBILIARIA Y COMERCIAL LAS AMERICAS S. A. DE C. V. tiene 1 registros donde no se presenta una extracción de agua nacional.\n",
      "\n",
      "UNIVERSIDAD NACIONAL AUTONOMA DE MEXICO tiene 1 registros donde no se presenta una extracción de agua nacional.\n",
      "\n",
      "INMOBILIARIA Y COMERCIAL LAS AMERICAS, S.A. DE C.V. tiene 1 registros donde no se presenta una extracción de agua nacional.\n",
      "\n",
      "GERARDO GONZALEZ MERCADO tiene 1 registros donde no se presenta una extracción de agua nacional.\n",
      "\n",
      "DESARROLLO HABITACIONAL SANTA JULIA, S.A. DE C.V. tiene 1 registros donde no se presenta una extracción de agua nacional.\n",
      "\n",
      "INMOBILIARIA Y COMERCIAL LA LOMA S. A. DE C. V. tiene 1 registros donde no se presenta una extracción de agua nacional.\n",
      "\n",
      "GUILLERMO DE LA SALUD ITURBIDE MEJIA tiene 1 registros donde no se presenta una extracción de agua nacional.\n",
      "\n",
      "GERARDO AGUILAR CALDERON tiene 1 registros donde no se presenta una extracción de agua nacional.\n",
      "\n",
      "SANDRA DE JESUS ALFARO BROSIG DE BALTAZ AR tiene 1 registros donde no se presenta una extracción de agua nacional.\n",
      "\n",
      "ROSENDO DOMINGUEZ CONTRERAS tiene 1 registros donde no se presenta una extracción de agua nacional.\n",
      "\n",
      "PAROM S. A. DE C. V. tiene 1 registros donde no se presenta una extracción de agua nacional.\n",
      "\n",
      "ENRIQUE CORTES PONCE tiene 1 registros donde no se presenta una extracción de agua nacional.\n",
      "\n",
      "JOSE CRUZ GUILLERMO GUZMAN FUENTES, MARIANO LUIS FELIPE GUZMAN FUENTES tiene 1 registros donde no se presenta una extracción de agua nacional.\n",
      "\n",
      "PROMOTORA INMOBILIARIA PAME, S.A. DE C.V. tiene 1 registros donde no se presenta una extracción de agua nacional.\n",
      "\n",
      "CELIN CORTES GALLEGOS tiene 1 registros donde no se presenta una extracción de agua nacional.\n",
      "\n",
      "FRANCISCO VALENCIA ESPINOZA tiene 1 registros donde no se presenta una extracción de agua nacional.\n",
      "\n",
      "DOMINGO RUIZ LOPEZ tiene 1 registros donde no se presenta una extracción de agua nacional.\n",
      "\n",
      "GLORIA GOMEZ ARREZ tiene 1 registros donde no se presenta una extracción de agua nacional.\n",
      "\n",
      "JUNTA LOCAL DE AGUA POTABLE DE LAS COLONIAS DEL SUR DE SANTA MARIA tiene 1 registros donde no se presenta una extracción de agua nacional.\n",
      "\n",
      "SECRETARIA DE COMUNICACIONES Y TRANSPORTES CENTRO SCT MICHOACAN tiene 1 registros donde no se presenta una extracción de agua nacional.\n",
      "\n",
      "AGRO METALICA MICHOACANA, S.A. DE C.V. tiene 1 registros donde no se presenta una extracción de agua nacional.\n",
      "\n",
      "FERNANDO GARCIA GUTIERREZ tiene 1 registros donde no se presenta una extracción de agua nacional.\n",
      "\n",
      "MIGUEL ANGEL MONTES DE OCA CENTURION tiene 1 registros donde no se presenta una extracción de agua nacional.\n",
      "\n",
      "PROMOTORA TUKASA, S.A. DE C.V. tiene 1 registros donde no se presenta una extracción de agua nacional.\n",
      "\n",
      "PABLO VARGAS ESQUIVIAS tiene 1 registros donde no se presenta una extracción de agua nacional.\n",
      "\n",
      "RAFAEL RIVERA BARRAGAN tiene 1 registros donde no se presenta una extracción de agua nacional.\n",
      "\n",
      "ANA JELY MEDRANO CRUZ tiene 1 registros donde no se presenta una extracción de agua nacional.\n",
      "\n",
      "ELSA HAYDEE VELAZQUEZ ESTRADA tiene 1 registros donde no se presenta una extracción de agua nacional.\n",
      "\n",
      "AGROPECUARIA TARASCA, S. DE P.R. DE R.L. tiene 1 registros donde no se presenta una extracción de agua nacional.\n",
      "\n",
      "INTEGRA MM, S. A. DE C. V. tiene 1 registros donde no se presenta una extracción de agua nacional.\n",
      "\n",
      "JAVIER CARLOS GUADARRAMA AVILA tiene 1 registros donde no se presenta una extracción de agua nacional.\n",
      "\n",
      "DESARROLLO LOS CERRITOS, S. A. DE C. V. tiene 1 registros donde no se presenta una extracción de agua nacional.\n",
      "\n",
      "JUSTO BARRIGA PEREZ GIL.- TENERIA INNOMINADA tiene 1 registros donde no se presenta una extracción de agua nacional.\n",
      "\n",
      "BEBIDAS PURIFICADAS DE MICH. S.A. DE C.V. tiene 1 registros donde no se presenta una extracción de agua nacional.\n",
      "\n",
      "MARIA DOLORES ARREOLA ESTRADA tiene 1 registros donde no se presenta una extracción de agua nacional.\n",
      "\n",
      "RAQUEL VALDES ANAYA tiene 1 registros donde no se presenta una extracción de agua nacional.\n",
      "\n",
      "FERNANDO VILLANUEVA RUIZ tiene 1 registros donde no se presenta una extracción de agua nacional.\n",
      "\n",
      "JUNTA EDUCACIONAL SOCIAL UNIDA, S. C. tiene 1 registros donde no se presenta una extracción de agua nacional.\n",
      "\n",
      "DISTRIBUIDORA DE GAS PEMEX DEL BAJIO S.A. DE C.V. tiene 1 registros donde no se presenta una extracción de agua nacional.\n",
      "\n",
      "MULTISERVICIOS DE MORELIA S.A. DE C.V. tiene 1 registros donde no se presenta una extracción de agua nacional.\n",
      "\n",
      "CELIA MARIA ELENA CHAVEZ HUERTA tiene 1 registros donde no se presenta una extracción de agua nacional.\n",
      "\n",
      "GILDARDO MILLAN CAMPUZANO Y ARTURO CERVANTES MEZA tiene 1 registros donde no se presenta una extracción de agua nacional.\n",
      "\n",
      "SERVICIO PRINCIPAL, S. A. DE C. V. tiene 1 registros donde no se presenta una extracción de agua nacional.\n",
      "\n",
      "CORPORATIVO TRES MARIAS S.A.P.I.B. DE C.V. tiene 1 registros donde no se presenta una extracción de agua nacional.\n",
      "\n",
      "FIRA-BANCO DE MEXICO tiene 1 registros donde no se presenta una extracción de agua nacional.\n",
      "\n",
      "ARTURO NAVA VELAZQUEZ tiene 1 registros donde no se presenta una extracción de agua nacional.\n",
      "\n",
      "JUSTO SIERRA NORIEGA tiene 1 registros donde no se presenta una extracción de agua nacional.\n",
      "\n",
      "URBASUR, S.A. DE C.V. tiene 1 registros donde no se presenta una extracción de agua nacional.\n",
      "\n",
      "CELESTINO ESPINOSA MONTAÑO tiene 1 registros donde no se presenta una extracción de agua nacional.\n",
      "\n",
      "VICTOR MANUEL TORRES OBREGON Y LUZ GABRIELA LEVERONI CASTRO tiene 1 registros donde no se presenta una extracción de agua nacional.\n",
      "\n",
      "LUIS JAVIER NIEMBRO GONZALEZ tiene 1 registros donde no se presenta una extracción de agua nacional.\n",
      "\n",
      "CARLOS ALEJANDRO VILLICAÑA MALDONADO tiene 1 registros donde no se presenta una extracción de agua nacional.\n",
      "\n",
      "RAMIRO RODRIGUEZ CASTILLO tiene 1 registros donde no se presenta una extracción de agua nacional.\n",
      "\n",
      "COL. EL ARQUITO tiene 1 registros donde no se presenta una extracción de agua nacional.\n",
      "\n",
      "FILEMON MELO PEDRAZA tiene 1 registros donde no se presenta una extracción de agua nacional.\n",
      "\n",
      "UNION DE COLONOS DE EL CHARAQUENDO A. C. tiene 1 registros donde no se presenta una extracción de agua nacional.\n",
      "\n",
      "NORBERTO MARTINEZ GUERRERO tiene 1 registros donde no se presenta una extracción de agua nacional.\n",
      "\n",
      "LUIS MANUEL GARCIA MARTINEZ tiene 1 registros donde no se presenta una extracción de agua nacional.\n",
      "\n",
      "PEMEX REFINACION, SUPERINTENDENCIA LOCAL DE VENTAS MORELIA tiene 1 registros donde no se presenta una extracción de agua nacional.\n",
      "\n",
      "HUMBERTO GARCIA TORRES tiene 1 registros donde no se presenta una extracción de agua nacional.\n",
      "\n",
      "CFE GENERACION II EPS tiene 1 registros donde no se presenta una extracción de agua nacional.\n",
      "\n",
      "CRISTIAN MARANAT MORENO BECERRIL tiene 1 registros donde no se presenta una extracción de agua nacional.\n",
      "\n",
      "SERVICIOS ECOTURISTICOS DE COINTZIO tiene 1 registros donde no se presenta una extracción de agua nacional.\n",
      "\n",
      "JAVIER DIMAS GALLEGOS tiene 1 registros donde no se presenta una extracción de agua nacional.\n",
      "\n",
      "TEAM FOODS MEXICO, S.A. DE C.V. tiene 1 registros donde no se presenta una extracción de agua nacional.\n",
      "\n",
      "TURBINAS Y EQUIPOS INDUSTRIALES S.A. DE C. V. tiene 1 registros donde no se presenta una extracción de agua nacional.\n",
      "\n",
      "ANTONIO MENDOZA CISNEROS tiene 1 registros donde no se presenta una extracción de agua nacional.\n",
      "\n",
      "MARTHA MONROY BOLAÑOS tiene 1 registros donde no se presenta una extracción de agua nacional.\n",
      "\n",
      "BEBIDAS AZTECA DEL CENTRO, S.A. DE C.V. tiene 1 registros donde no se presenta una extracción de agua nacional.\n",
      "\n",
      "PANAMCO BAJIO, S.A. DE C.V. tiene 1 registros donde no se presenta una extracción de agua nacional.\n",
      "\n",
      "MANUELA BOLEA MURGA tiene 1 registros donde no se presenta una extracción de agua nacional.\n",
      "\n",
      "AURELIO CORTES TELLEZ tiene 1 registros donde no se presenta una extracción de agua nacional.\n",
      "\n",
      "VA TECH ESCHER WYSS, S.A. DE C.V. tiene 1 registros donde no se presenta una extracción de agua nacional.\n",
      "\n",
      "URBASUR tiene 1 registros donde no se presenta una extracción de agua nacional.\n",
      "\n",
      "CRISOBA INDUSTRIAL S.A. DE C.V. tiene 1 registros donde no se presenta una extracción de agua nacional.\n",
      "\n",
      "BENJAMIN MENDOZA SANCHEZ tiene 1 registros donde no se presenta una extracción de agua nacional.\n",
      "\n",
      "JOSE ABELARDO RAMIREZ GOMEZ tiene 1 registros donde no se presenta una extracción de agua nacional.\n",
      "\n",
      "JOSE OCTAVIO VIVEROS SANDOVAL tiene 1 registros donde no se presenta una extracción de agua nacional.\n",
      "\n",
      "RODOLFO RODRIGUEZ MARTINEZ tiene 1 registros donde no se presenta una extracción de agua nacional.\n",
      "\n",
      "MARTHA THOMAS REYES tiene 1 registros donde no se presenta una extracción de agua nacional.\n",
      "\n",
      "RESIDENCIAL TORREON NUEVO, S.A. DE C.V. tiene 1 registros donde no se presenta una extracción de agua nacional.\n",
      "\n",
      "CLUB CAMPESTRE DE MORELIA, PROPIEDAD EN CONDOMINIO tiene 1 registros donde no se presenta una extracción de agua nacional.\n",
      "\n",
      "FRANCISCO JAVIER CEDEÑO SERENO tiene 1 registros donde no se presenta una extracción de agua nacional.\n",
      "\n",
      "CARLOS RENE PAREDEZ HERNANDEZ tiene 1 registros donde no se presenta una extracción de agua nacional.\n",
      "\n",
      "ODILON GONZALEZ AGUILAR tiene 1 registros donde no se presenta una extracción de agua nacional.\n",
      "\n",
      "FRACCIONAMIENTO ECOLOGICO EL PUEBLITO, A. C. tiene 1 registros donde no se presenta una extracción de agua nacional.\n",
      "\n",
      "INSTITUTO DE SEGURIDAD Y SERVICIOS SOCIALES DE LOS TRABAJADORES DEL ESTADO tiene 1 registros donde no se presenta una extracción de agua nacional.\n",
      "\n",
      "SIXTO CEJA RUIZ tiene 1 registros donde no se presenta una extracción de agua nacional.\n",
      "\n"
     ]
    }
   ],
   "source": [
    "for titular, registros in zip(sinExtraccion.TITULAR.value_counts().index,sinExtraccion.TITULAR.value_counts()):\n",
    "    print(f\"{titular} tiene {registros} registros donde no se presenta una extracción de agua nacional.\\n\")"
   ]
  },
  {
   "cell_type": "markdown",
   "metadata": {},
   "source": [
    "Otra información que puede ser relevante a la hora de entender porqué hay registros que no extraen agua, es la fecha, ya que es posible que sean registros que se hicieron en cuerpos de agua que ahora ya no existen."
   ]
  },
  {
   "cell_type": "code",
   "execution_count": 13,
   "metadata": {},
   "outputs": [
    {
     "data": {
      "text/plain": [
       "count                              231\n",
       "mean     2005-09-20 07:16:21.818181760\n",
       "min                1994-07-07 00:00:00\n",
       "25%                1998-04-08 00:00:00\n",
       "50%                2004-08-03 00:00:00\n",
       "75%                2012-09-14 00:00:00\n",
       "max                2021-07-09 00:00:00\n",
       "Name: FECHA DE REGISTRO, dtype: object"
      ]
     },
     "execution_count": 13,
     "metadata": {},
     "output_type": "execute_result"
    }
   ],
   "source": [
    "sinExtraccion['FECHA DE REGISTRO'].describe(datetime_is_numeric=True)"
   ]
  },
  {
   "cell_type": "markdown",
   "metadata": {},
   "source": [
    "Vemos que las fechas son realmente variadas por lo que no podemos suponer nada."
   ]
  },
  {
   "cell_type": "markdown",
   "metadata": {},
   "source": [
    "Finalmente, debemos destacar el hecho de que el 43.67% de los registros no extraen aguas nacionales."
   ]
  },
  {
   "cell_type": "markdown",
   "metadata": {},
   "source": [
    "Ahora podemos enfocarnos en los registros donde sí se extrae agua nacional"
   ]
  },
  {
   "cell_type": "code",
   "execution_count": 14,
   "metadata": {},
   "outputs": [],
   "source": [
    "conExtraccion = repdaMor[~repdaMor.TÍTULO.isin(sinExtraccion.TÍTULO)]"
   ]
  },
  {
   "cell_type": "code",
   "execution_count": 15,
   "metadata": {},
   "outputs": [
    {
     "data": {
      "image/png": "[encoded data removed]",
      "text/plain": [
       "<Figure size 432x288 with 1 Axes>"
      ]
     },
     "metadata": {},
     "output_type": "display_data"
    }
   ],
   "source": [
    "sns.countplot(x='USO QUE AMPARA EL TÍTULO', data=conExtraccion, color='b')\n",
    "plt.title('Usos de los registros que extraen agua', fontsize=18)\n",
    "plt.ylabel('Cantidad de registros')\n",
    "plt.xticks(rotation=90)\n",
    "plt.savefig('./Graficas/UsosConExtraccion.svg',dpi=350,bbox_inches=\"tight\")\n",
    "plt.show()"
   ]
  },
  {
   "cell_type": "markdown",
   "metadata": {},
   "source": [
    "Vemos que la mayoría son de uso agrícola, lo cual coincide con el hecho de que el 76% del agua en México se utilicen con fines agrícolas [con18]. Pero, gracias a la información que tenemos podemos la cantidad de agua que se extra en total para cada uso."
   ]
  },
  {
   "cell_type": "code",
   "execution_count": 16,
   "metadata": {},
   "outputs": [],
   "source": [
    "sumExtUso = pd.pivot_table(data=conExtraccion, index = 'USO QUE AMPARA EL TÍTULO', values = 'VOLUMEN DE EXTRACCIÓN ANUAL DE AGUAS NACIONALES QUE AMPARA EL TÍTULO EN m3', aggfunc=np.sum).sort_values(by= 'VOLUMEN DE EXTRACCIÓN ANUAL DE AGUAS NACIONALES QUE AMPARA EL TÍTULO EN m3', ascending=False)"
   ]
  },
  {
   "cell_type": "code",
   "execution_count": 17,
   "metadata": {},
   "outputs": [
    {
     "data": {
      "text/html": [
       "<div>\n",
       "<style scoped>\n",
       "    .dataframe tbody tr th:only-of-type {\n",
       "        vertical-align: middle;\n",
       "    }\n",
       "\n",
       "    .dataframe tbody tr th {\n",
       "        vertical-align: top;\n",
       "    }\n",
       "\n",
       "    .dataframe thead th {\n",
       "        text-align: right;\n",
       "    }\n",
       "</style>\n",
       "<table border=\"1\" class=\"dataframe\">\n",
       "  <thead>\n",
       "    <tr style=\"text-align: right;\">\n",
       "      <th></th>\n",
       "      <th>VOLUMEN DE EXTRACCIÓN ANUAL DE AGUAS NACIONALES QUE AMPARA EL TÍTULO EN m3</th>\n",
       "    </tr>\n",
       "    <tr>\n",
       "      <th>USO QUE AMPARA EL TÍTULO</th>\n",
       "      <th></th>\n",
       "    </tr>\n",
       "  </thead>\n",
       "  <tbody>\n",
       "    <tr>\n",
       "      <th>PÚBLICO URBANO</th>\n",
       "      <td>92063753.140</td>\n",
       "    </tr>\n",
       "    <tr>\n",
       "      <th>INDUSTRIAL</th>\n",
       "      <td>26098004.000</td>\n",
       "    </tr>\n",
       "    <tr>\n",
       "      <th>GENERACIÓN  DE ENERGÍA ELÉCTRICA</th>\n",
       "      <td>17125000.000</td>\n",
       "    </tr>\n",
       "    <tr>\n",
       "      <th>AGRÍCOLA</th>\n",
       "      <td>13096837.280</td>\n",
       "    </tr>\n",
       "    <tr>\n",
       "      <th>SERVICIOS</th>\n",
       "      <td>2710206.770</td>\n",
       "    </tr>\n",
       "    <tr>\n",
       "      <th>DIFERENTES USOS</th>\n",
       "      <td>1995300.620</td>\n",
       "    </tr>\n",
       "    <tr>\n",
       "      <th>DOMÉSTICO</th>\n",
       "      <td>544262.650</td>\n",
       "    </tr>\n",
       "    <tr>\n",
       "      <th>ACUACULTURA</th>\n",
       "      <td>217598.400</td>\n",
       "    </tr>\n",
       "    <tr>\n",
       "      <th>PECUARIO</th>\n",
       "      <td>13371.260</td>\n",
       "    </tr>\n",
       "  </tbody>\n",
       "</table>\n",
       "</div>"
      ],
      "text/plain": [
       "                                  VOLUMEN DE EXTRACCIÓN ANUAL DE AGUAS NACIONALES QUE AMPARA EL TÍTULO EN m3\n",
       "USO QUE AMPARA EL TÍTULO                                                                                    \n",
       "PÚBLICO URBANO                                                         92063753.140                         \n",
       "INDUSTRIAL                                                             26098004.000                         \n",
       "GENERACIÓN  DE ENERGÍA ELÉCTRICA                                       17125000.000                         \n",
       "AGRÍCOLA                                                               13096837.280                         \n",
       "SERVICIOS                                                               2710206.770                         \n",
       "DIFERENTES USOS                                                         1995300.620                         \n",
       "DOMÉSTICO                                                                544262.650                         \n",
       "ACUACULTURA                                                              217598.400                         \n",
       "PECUARIO                                                                  13371.260                         "
      ]
     },
     "execution_count": 17,
     "metadata": {},
     "output_type": "execute_result"
    }
   ],
   "source": [
    "sumExtUso"
   ]
  },
  {
   "cell_type": "code",
   "execution_count": 18,
   "metadata": {},
   "outputs": [
    {
     "data": {
      "image/png": "[encoded data removed]",
      "text/plain": [
       "<Figure size 432x288 with 1 Axes>"
      ]
     },
     "metadata": {},
     "output_type": "display_data"
    }
   ],
   "source": [
    "sns.barplot(x=sumExtUso.index,y='VOLUMEN DE EXTRACCIÓN ANUAL DE AGUAS NACIONALES QUE AMPARA EL TÍTULO EN m3', data=sumExtUso,color='b')\n",
    "plt.title('Volumen de extracción de de aguas nacionales\\nsegún su uso', fontsize=18)\n",
    "plt.ylabel('Volumen\\n(hm³/año)')\n",
    "plt.xticks(rotation=90)\n",
    "plt.yticks(ticks=[int(i) for i in range(0,int(100e6),int(10e6))],labels=[int(i/1e6) for i in range(0,int(100e6),int(10e6))])\n",
    "plt.savefig('./Graficas/VolumenExtraccionSegunUso.svg',dpi=350,bbox_inches=\"tight\")\n",
    "plt.show()"
   ]
  },
  {
   "cell_type": "markdown",
   "metadata": {},
   "source": [
    "Vemos que a pesar de ser el uso más común, el uso agrícola es el cuarto que más extrae agua, siendo el primero el público urbano, seguido del industrial. Otra cosa que llama mucho la atención es el uso de generación de energía eléctrica, pues es el menos común, pero es el tercero que más extrae agua."
   ]
  },
  {
   "cell_type": "markdown",
   "metadata": {},
   "source": [
    "## Usos"
   ]
  },
  {
   "cell_type": "markdown",
   "metadata": {},
   "source": [
    "Ya que pusimos parte de nuestra atención en los usos, valdría la pena revisarlos a fondo."
   ]
  },
  {
   "cell_type": "markdown",
   "metadata": {},
   "source": [
    "Lo primero que podemos hacer es revisar la cantidad de registros que hay para cada título."
   ]
  },
  {
   "cell_type": "code",
   "execution_count": 19,
   "metadata": {},
   "outputs": [
    {
     "data": {
      "image/png": "[encoded data removed]",
      "text/plain": [
       "<Figure size 432x288 with 1 Axes>"
      ]
     },
     "metadata": {},
     "output_type": "display_data"
    }
   ],
   "source": [
    "#Distribución\n",
    "sns.countplot(x='USO QUE AMPARA EL TÍTULO', data=repdaMor, color='b')\n",
    "plt.title('Distribución de usos', fontsize=18)\n",
    "plt.ylabel(\"Cantidad de registros\")\n",
    "plt.xticks(rotation=90)\n",
    "plt.savefig('./Graficas/DistribucionUsos.svg',dpi=350,bbox_inches=\"tight\")\n",
    "plt.show()"
   ]
  },
  {
   "cell_type": "markdown",
   "metadata": {},
   "source": [
    "Vemos que la mayoría de los registros tienen como fin el uso de servicios."
   ]
  },
  {
   "cell_type": "markdown",
   "metadata": {},
   "source": [
    "Lo siguienet que puede llamar la atención, es si hay tiutulares que tengan control sobre cierto uso"
   ]
  },
  {
   "cell_type": "code",
   "execution_count": 20,
   "metadata": {},
   "outputs": [],
   "source": [
    "usosTitular = pd.pivot_table(data=repdaMor, columns='USO QUE AMPARA EL TÍTULO', values='VOLUMEN DE EXTRACCIÓN ANUAL DE AGUAS NACIONALES QUE AMPARA EL TÍTULO EN m3',index='TITULAR', aggfunc='count')\n",
    "usosTitular.fillna(0,inplace=True)"
   ]
  },
  {
   "cell_type": "code",
   "execution_count": 21,
   "metadata": {},
   "outputs": [
    {
     "data": {
      "text/html": [
       "<div>\n",
       "<style scoped>\n",
       "    .dataframe tbody tr th:only-of-type {\n",
       "        vertical-align: middle;\n",
       "    }\n",
       "\n",
       "    .dataframe tbody tr th {\n",
       "        vertical-align: top;\n",
       "    }\n",
       "\n",
       "    .dataframe thead th {\n",
       "        text-align: right;\n",
       "    }\n",
       "</style>\n",
       "<table border=\"1\" class=\"dataframe\">\n",
       "  <thead>\n",
       "    <tr style=\"text-align: right;\">\n",
       "      <th>USO QUE AMPARA EL TÍTULO</th>\n",
       "      <th>ACUACULTURA</th>\n",
       "      <th>AGRÍCOLA</th>\n",
       "      <th>DIFERENTES USOS</th>\n",
       "      <th>DOMÉSTICO</th>\n",
       "      <th>GENERACIÓN  DE ENERGÍA ELÉCTRICA</th>\n",
       "      <th>INDUSTRIAL</th>\n",
       "      <th>OTROS</th>\n",
       "      <th>PECUARIO</th>\n",
       "      <th>PÚBLICO URBANO</th>\n",
       "      <th>SERVICIOS</th>\n",
       "    </tr>\n",
       "    <tr>\n",
       "      <th>TITULAR</th>\n",
       "      <th></th>\n",
       "      <th></th>\n",
       "      <th></th>\n",
       "      <th></th>\n",
       "      <th></th>\n",
       "      <th></th>\n",
       "      <th></th>\n",
       "      <th></th>\n",
       "      <th></th>\n",
       "      <th></th>\n",
       "    </tr>\n",
       "  </thead>\n",
       "  <tbody>\n",
       "    <tr>\n",
       "      <th>AAK MEXICO, S. A. DE C. V.</th>\n",
       "      <td>0.000</td>\n",
       "      <td>0.000</td>\n",
       "      <td>0.000</td>\n",
       "      <td>0.000</td>\n",
       "      <td>0.000</td>\n",
       "      <td>1.000</td>\n",
       "      <td>0.000</td>\n",
       "      <td>0.000</td>\n",
       "      <td>0.000</td>\n",
       "      <td>0.000</td>\n",
       "    </tr>\n",
       "    <tr>\n",
       "      <th>ABELINO JAVIER GUTIERREZ VENEGAS</th>\n",
       "      <td>0.000</td>\n",
       "      <td>0.000</td>\n",
       "      <td>1.000</td>\n",
       "      <td>0.000</td>\n",
       "      <td>0.000</td>\n",
       "      <td>0.000</td>\n",
       "      <td>0.000</td>\n",
       "      <td>0.000</td>\n",
       "      <td>0.000</td>\n",
       "      <td>0.000</td>\n",
       "    </tr>\n",
       "    <tr>\n",
       "      <th>ACEITES ESPECIALES TH, S. A. DE C. V.</th>\n",
       "      <td>0.000</td>\n",
       "      <td>0.000</td>\n",
       "      <td>0.000</td>\n",
       "      <td>0.000</td>\n",
       "      <td>0.000</td>\n",
       "      <td>1.000</td>\n",
       "      <td>0.000</td>\n",
       "      <td>0.000</td>\n",
       "      <td>0.000</td>\n",
       "      <td>0.000</td>\n",
       "    </tr>\n",
       "    <tr>\n",
       "      <th>ADAN RENTERIA LOMELI</th>\n",
       "      <td>0.000</td>\n",
       "      <td>0.000</td>\n",
       "      <td>1.000</td>\n",
       "      <td>0.000</td>\n",
       "      <td>0.000</td>\n",
       "      <td>0.000</td>\n",
       "      <td>0.000</td>\n",
       "      <td>0.000</td>\n",
       "      <td>0.000</td>\n",
       "      <td>0.000</td>\n",
       "    </tr>\n",
       "    <tr>\n",
       "      <th>ADMINISTRACION DEPORTIVA ESPECIALIZADA, S.A. DE C.V.</th>\n",
       "      <td>0.000</td>\n",
       "      <td>0.000</td>\n",
       "      <td>0.000</td>\n",
       "      <td>0.000</td>\n",
       "      <td>0.000</td>\n",
       "      <td>0.000</td>\n",
       "      <td>0.000</td>\n",
       "      <td>0.000</td>\n",
       "      <td>0.000</td>\n",
       "      <td>1.000</td>\n",
       "    </tr>\n",
       "  </tbody>\n",
       "</table>\n",
       "</div>"
      ],
      "text/plain": [
       "USO QUE AMPARA EL TÍTULO                            ACUACULTURA  AGRÍCOLA  \\\n",
       "TITULAR                                                                     \n",
       "AAK MEXICO, S. A. DE C. V.                                0.000     0.000   \n",
       "ABELINO JAVIER GUTIERREZ VENEGAS                          0.000     0.000   \n",
       "ACEITES ESPECIALES TH, S. A. DE C. V.                     0.000     0.000   \n",
       "ADAN RENTERIA LOMELI                                      0.000     0.000   \n",
       "ADMINISTRACION DEPORTIVA ESPECIALIZADA, S.A. DE...        0.000     0.000   \n",
       "\n",
       "USO QUE AMPARA EL TÍTULO                            DIFERENTES USOS  \\\n",
       "TITULAR                                                               \n",
       "AAK MEXICO, S. A. DE C. V.                                    0.000   \n",
       "ABELINO JAVIER GUTIERREZ VENEGAS                              1.000   \n",
       "ACEITES ESPECIALES TH, S. A. DE C. V.                         0.000   \n",
       "ADAN RENTERIA LOMELI                                          1.000   \n",
       "ADMINISTRACION DEPORTIVA ESPECIALIZADA, S.A. DE...            0.000   \n",
       "\n",
       "USO QUE AMPARA EL TÍTULO                            DOMÉSTICO  \\\n",
       "TITULAR                                                         \n",
       "AAK MEXICO, S. A. DE C. V.                              0.000   \n",
       "ABELINO JAVIER GUTIERREZ VENEGAS                        0.000   \n",
       "ACEITES ESPECIALES TH, S. A. DE C. V.                   0.000   \n",
       "ADAN RENTERIA LOMELI                                    0.000   \n",
       "ADMINISTRACION DEPORTIVA ESPECIALIZADA, S.A. DE...      0.000   \n",
       "\n",
       "USO QUE AMPARA EL TÍTULO                            GENERACIÓN  DE ENERGÍA ELÉCTRICA  \\\n",
       "TITULAR                                                                                \n",
       "AAK MEXICO, S. A. DE C. V.                                                     0.000   \n",
       "ABELINO JAVIER GUTIERREZ VENEGAS                                               0.000   \n",
       "ACEITES ESPECIALES TH, S. A. DE C. V.                                          0.000   \n",
       "ADAN RENTERIA LOMELI                                                           0.000   \n",
       "ADMINISTRACION DEPORTIVA ESPECIALIZADA, S.A. DE...                             0.000   \n",
       "\n",
       "USO QUE AMPARA EL TÍTULO                            INDUSTRIAL  OTROS  \\\n",
       "TITULAR                                                                 \n",
       "AAK MEXICO, S. A. DE C. V.                               1.000  0.000   \n",
       "ABELINO JAVIER GUTIERREZ VENEGAS                         0.000  0.000   \n",
       "ACEITES ESPECIALES TH, S. A. DE C. V.                    1.000  0.000   \n",
       "ADAN RENTERIA LOMELI                                     0.000  0.000   \n",
       "ADMINISTRACION DEPORTIVA ESPECIALIZADA, S.A. DE...       0.000  0.000   \n",
       "\n",
       "USO QUE AMPARA EL TÍTULO                            PECUARIO  PÚBLICO URBANO  \\\n",
       "TITULAR                                                                        \n",
       "AAK MEXICO, S. A. DE C. V.                             0.000           0.000   \n",
       "ABELINO JAVIER GUTIERREZ VENEGAS                       0.000           0.000   \n",
       "ACEITES ESPECIALES TH, S. A. DE C. V.                  0.000           0.000   \n",
       "ADAN RENTERIA LOMELI                                   0.000           0.000   \n",
       "ADMINISTRACION DEPORTIVA ESPECIALIZADA, S.A. DE...     0.000           0.000   \n",
       "\n",
       "USO QUE AMPARA EL TÍTULO                            SERVICIOS  \n",
       "TITULAR                                                        \n",
       "AAK MEXICO, S. A. DE C. V.                              0.000  \n",
       "ABELINO JAVIER GUTIERREZ VENEGAS                        0.000  \n",
       "ACEITES ESPECIALES TH, S. A. DE C. V.                   0.000  \n",
       "ADAN RENTERIA LOMELI                                    0.000  \n",
       "ADMINISTRACION DEPORTIVA ESPECIALIZADA, S.A. DE...      1.000  "
      ]
     },
     "execution_count": 21,
     "metadata": {},
     "output_type": "execute_result"
    }
   ],
   "source": [
    "usosTitular.head()"
   ]
  },
  {
   "cell_type": "markdown",
   "metadata": {},
   "source": [
    "Revisamos los tres titulares con más títulos para cada uno de los usos"
   ]
  },
  {
   "cell_type": "code",
   "execution_count": 22,
   "metadata": {
    "scrolled": true
   },
   "outputs": [
    {
     "name": "stdout",
     "output_type": "stream",
     "text": [
      "                                  ACUACULTURA                                   \n",
      "TITULAR\n",
      "JORGE ARMANDO JIMENEZ DE LA TORRE   1.000\n",
      "ESVEYDE MARTINEZ BASURTO            1.000\n",
      "AAK MEXICO, S. A. DE C. V.          0.000\n",
      "Name: ACUACULTURA, dtype: float64\n",
      "                                    AGRÍCOLA                                    \n",
      "TITULAR\n",
      "JOSE ALFREDO GODINEZ MALFAVON                     2.000\n",
      "UNIVERSIDAD AUTONOMA CHAPINGO                     2.000\n",
      "ROMULO AMARO GONZALEZ, HELIODORO AMARO GONZALEZ   2.000\n",
      "Name: AGRÍCOLA, dtype: float64\n",
      "                                DIFERENTES USOS                                 \n",
      "TITULAR\n",
      "EJIDO COINTZIO                         2.000\n",
      "VICTOR MANUEL VILLICAÑA MALDONADO      2.000\n",
      "CARLOS ALEJANDRO VILLICAÑA MALDONADO   2.000\n",
      "Name: DIFERENTES USOS, dtype: float64\n",
      "                                   DOMÉSTICO                                    \n",
      "TITULAR\n",
      "SALVADOR ABUD ANTONIO            1.000\n",
      "AMPLIACION DEL EJIDO EL PARIAN   1.000\n",
      "PLACIDO PEREZ CORTES             1.000\n",
      "Name: DOMÉSTICO, dtype: float64\n",
      "                        GENERACIÓN  DE ENERGÍA ELÉCTRICA                        \n",
      "TITULAR\n",
      "COMISION FEDERAL DE ELECTRICIDAD   1.000\n",
      "AAK MEXICO, S. A. DE C. V.         0.000\n",
      "LEODEGARIO PEÑALOZA MALDONADO      0.000\n",
      "Name: GENERACIÓN  DE ENERGÍA ELÉCTRICA, dtype: float64\n",
      "                                   INDUSTRIAL                                   \n",
      "TITULAR\n",
      "RESINAS SINTETICAS, S.A. DE C.V.          2.000\n",
      "BEBIDAS AZTECA DEL CENTRO, S.A. DE C.V.   2.000\n",
      "UNION GANADERA REGIONAL DE MICHOACAN      2.000\n",
      "Name: INDUSTRIAL, dtype: float64\n",
      "                                     OTROS                                      \n",
      "TITULAR\n",
      "FERNANDO VILLANUEVA RUIZ         1.000\n",
      "JOSE ALFREDO SERRATO RODRIGUEZ   1.000\n",
      "GLORIA GOMEZ ARREZ               1.000\n",
      "Name: OTROS, dtype: float64\n",
      "                                    PECUARIO                                    \n",
      "TITULAR\n",
      "JAVIER CARLOS GUADARRAMA AVILA   1.000\n",
      "ROSENDO DOMINGUEZ CONTRERAS      1.000\n",
      "MIGUEL ALVARADO VILLA            1.000\n",
      "Name: PECUARIO, dtype: float64\n",
      "                                 PÚBLICO URBANO                                 \n",
      "TITULAR\n",
      "ORGANISMO OPERADOR DE AGUA POTABLE ALCANTARILLADO Y SANEAMIENTO DE MORELIA   45.000\n",
      "ELENA CLARA TOVAR GUZMAN                                                      1.000\n",
      "COL. EL ARQUITO                                                               1.000\n",
      "Name: PÚBLICO URBANO, dtype: float64\n",
      "                                   SERVICIOS                                    \n",
      "TITULAR\n",
      "ORGANISMO OPERADOR DE AGUA POTABLE ALCANTARILLADO Y SANEAMIENTO DE MORELIA   5.000\n",
      "NUEVA WAL-MART DE MEXICO, S. DE R.L. DE C.V.                                 4.000\n",
      "LA VOZ DE MICHOACAN, S.A. DE C.V.                                            3.000\n",
      "Name: SERVICIOS, dtype: float64\n"
     ]
    }
   ],
   "source": [
    "for col in usosTitular.columns:\n",
    "    print(col.center(80))\n",
    "    print(usosTitular.sort_values(by=col, ascending=False)[col].head(3))"
   ]
  },
  {
   "cell_type": "markdown",
   "metadata": {},
   "source": [
    "Vemos que realmente solo para el la generación de energía eléctrica y el uso público urbano, que son dominados por la CFE y el OOAPAS respectivamente. "
   ]
  },
  {
   "cell_type": "markdown",
   "metadata": {},
   "source": [
    "Lo siguiente en lo que nos podemos enfocar es en la superficie total de cada uso."
   ]
  },
  {
   "cell_type": "code",
   "execution_count": 23,
   "metadata": {},
   "outputs": [],
   "source": [
    "sumSupUso = pd.pivot_table(data=repdaMor, index = 'USO QUE AMPARA EL TÍTULO', values = 'SUPERFICIE EN m2', aggfunc=np.sum).sort_values(by='SUPERFICIE EN m2', ascending=False)"
   ]
  },
  {
   "cell_type": "code",
   "execution_count": 24,
   "metadata": {},
   "outputs": [
    {
     "data": {
      "text/html": [
       "<div>\n",
       "<style scoped>\n",
       "    .dataframe tbody tr th:only-of-type {\n",
       "        vertical-align: middle;\n",
       "    }\n",
       "\n",
       "    .dataframe tbody tr th {\n",
       "        vertical-align: top;\n",
       "    }\n",
       "\n",
       "    .dataframe thead th {\n",
       "        text-align: right;\n",
       "    }\n",
       "</style>\n",
       "<table border=\"1\" class=\"dataframe\">\n",
       "  <thead>\n",
       "    <tr style=\"text-align: right;\">\n",
       "      <th></th>\n",
       "      <th>SUPERFICIE EN m2</th>\n",
       "    </tr>\n",
       "    <tr>\n",
       "      <th>USO QUE AMPARA EL TÍTULO</th>\n",
       "      <th></th>\n",
       "    </tr>\n",
       "  </thead>\n",
       "  <tbody>\n",
       "    <tr>\n",
       "      <th>SERVICIOS</th>\n",
       "      <td>314293.800</td>\n",
       "    </tr>\n",
       "    <tr>\n",
       "      <th>AGRÍCOLA</th>\n",
       "      <td>191730.250</td>\n",
       "    </tr>\n",
       "    <tr>\n",
       "      <th>PECUARIO</th>\n",
       "      <td>42935.000</td>\n",
       "    </tr>\n",
       "    <tr>\n",
       "      <th>OTROS</th>\n",
       "      <td>9510.000</td>\n",
       "    </tr>\n",
       "    <tr>\n",
       "      <th>DIFERENTES USOS</th>\n",
       "      <td>448.720</td>\n",
       "    </tr>\n",
       "    <tr>\n",
       "      <th>INDUSTRIAL</th>\n",
       "      <td>20.000</td>\n",
       "    </tr>\n",
       "    <tr>\n",
       "      <th>ACUACULTURA</th>\n",
       "      <td>0.000</td>\n",
       "    </tr>\n",
       "    <tr>\n",
       "      <th>DOMÉSTICO</th>\n",
       "      <td>0.000</td>\n",
       "    </tr>\n",
       "    <tr>\n",
       "      <th>GENERACIÓN  DE ENERGÍA ELÉCTRICA</th>\n",
       "      <td>0.000</td>\n",
       "    </tr>\n",
       "    <tr>\n",
       "      <th>PÚBLICO URBANO</th>\n",
       "      <td>0.000</td>\n",
       "    </tr>\n",
       "  </tbody>\n",
       "</table>\n",
       "</div>"
      ],
      "text/plain": [
       "                                  SUPERFICIE EN m2\n",
       "USO QUE AMPARA EL TÍTULO                          \n",
       "SERVICIOS                               314293.800\n",
       "AGRÍCOLA                                191730.250\n",
       "PECUARIO                                 42935.000\n",
       "OTROS                                     9510.000\n",
       "DIFERENTES USOS                            448.720\n",
       "INDUSTRIAL                                  20.000\n",
       "ACUACULTURA                                  0.000\n",
       "DOMÉSTICO                                    0.000\n",
       "GENERACIÓN  DE ENERGÍA ELÉCTRICA             0.000\n",
       "PÚBLICO URBANO                               0.000"
      ]
     },
     "execution_count": 24,
     "metadata": {},
     "output_type": "execute_result"
    }
   ],
   "source": [
    "sumSupUso"
   ]
  },
  {
   "cell_type": "code",
   "execution_count": 25,
   "metadata": {},
   "outputs": [
    {
     "data": {
      "image/png": "[encoded data removed]",
      "text/plain": [
       "<Figure size 432x288 with 1 Axes>"
      ]
     },
     "metadata": {},
     "output_type": "display_data"
    }
   ],
   "source": [
    "sns.barplot(x=sumSupUso.index,y='SUPERFICIE EN m2', data=sumSupUso, color='b')\n",
    "plt.title('Superficie de las aguas nacionales \\nsegún su uso', fontsize=18)\n",
    "plt.ylabel('Superficie (m²)')\n",
    "plt.xticks(rotation=90)\n",
    "plt.savefig('./Graficas/SuperficieUsos.svg',dpi=350,bbox_inches=\"tight\")\n",
    "plt.show()"
   ]
  },
  {
   "cell_type": "markdown",
   "metadata": {},
   "source": [
    "Llama la atención que no se cuente con la información de la superficie de los tres usos que más extraen agua, por lo que debemos revisar qué pasa con estre atributo."
   ]
  },
  {
   "cell_type": "code",
   "execution_count": 26,
   "metadata": {},
   "outputs": [
    {
     "data": {
      "text/plain": [
       "count     529.000\n",
       "mean     1056.593\n",
       "std      4361.806\n",
       "min         0.000\n",
       "25%         0.000\n",
       "50%         0.000\n",
       "75%        80.000\n",
       "max     40520.000\n",
       "Name: SUPERFICIE EN m2, dtype: float64"
      ]
     },
     "execution_count": 26,
     "metadata": {},
     "output_type": "execute_result"
    }
   ],
   "source": [
    "repdaMor['SUPERFICIE EN m2'].describe()"
   ]
  },
  {
   "cell_type": "markdown",
   "metadata": {},
   "source": [
    "Vemos que no se cuenta con esta información para más de la mitad de los registros."
   ]
  },
  {
   "cell_type": "code",
   "execution_count": 27,
   "metadata": {},
   "outputs": [
    {
     "name": "stdout",
     "output_type": "stream",
     "text": [
      "No se cuenta con la superficie del 67.108% de los datos\n"
     ]
    }
   ],
   "source": [
    "print(f\"No se cuenta con la superficie del {sum(repdaMor['SUPERFICIE EN m2']==0)/repdaMor.shape[0]*100:.3f}% de los datos\")"
   ]
  },
  {
   "cell_type": "markdown",
   "metadata": {},
   "source": [
    "## Anexos\n",
    "Los anexos hacen referencia a los cuerpos de agua que están registrados para cada título, un título puede tener más de un anexo y de diferente clase. Las clases de anexos son _superficiales,subterráneos, zonas federales_ y _descargas_."
   ]
  },
  {
   "cell_type": "markdown",
   "metadata": {},
   "source": [
    "Lo primero que nos puede interesar es ver la cantidad total de anexos que hay por uso."
   ]
  },
  {
   "cell_type": "code",
   "execution_count": 28,
   "metadata": {},
   "outputs": [],
   "source": [
    "#Anexos\n",
    "repdaMor['TOTAL DE ANEXOS'] = repdaMor['APROVECHAMIENTOS SUPERFICIALES QUE AMPARA EL TÍTULO']+repdaMor['APROVECHAMIENTOS SUBTERRÁNEOS QUE AMPARA EL TÍTULO']+repdaMor['PUNTOS DE DESCARGA QUE AMPARA EL TÍTULO']+repdaMor['ZONAS FEDERALES QUE AMPARA EL TITULO']"
   ]
  },
  {
   "cell_type": "code",
   "execution_count": 29,
   "metadata": {},
   "outputs": [
    {
     "data": {
      "text/html": [
       "<div>\n",
       "<style scoped>\n",
       "    .dataframe tbody tr th:only-of-type {\n",
       "        vertical-align: middle;\n",
       "    }\n",
       "\n",
       "    .dataframe tbody tr th {\n",
       "        vertical-align: top;\n",
       "    }\n",
       "\n",
       "    .dataframe thead th {\n",
       "        text-align: right;\n",
       "    }\n",
       "</style>\n",
       "<table border=\"1\" class=\"dataframe\">\n",
       "  <thead>\n",
       "    <tr style=\"text-align: right;\">\n",
       "      <th></th>\n",
       "      <th>TOTAL DE ANEXOS</th>\n",
       "    </tr>\n",
       "    <tr>\n",
       "      <th>USO QUE AMPARA EL TÍTULO</th>\n",
       "      <th></th>\n",
       "    </tr>\n",
       "  </thead>\n",
       "  <tbody>\n",
       "    <tr>\n",
       "      <th>SERVICIOS</th>\n",
       "      <td>267</td>\n",
       "    </tr>\n",
       "    <tr>\n",
       "      <th>PÚBLICO URBANO</th>\n",
       "      <td>152</td>\n",
       "    </tr>\n",
       "    <tr>\n",
       "      <th>AGRÍCOLA</th>\n",
       "      <td>145</td>\n",
       "    </tr>\n",
       "    <tr>\n",
       "      <th>DIFERENTES USOS</th>\n",
       "      <td>57</td>\n",
       "    </tr>\n",
       "    <tr>\n",
       "      <th>INDUSTRIAL</th>\n",
       "      <td>45</td>\n",
       "    </tr>\n",
       "    <tr>\n",
       "      <th>OTROS</th>\n",
       "      <td>22</td>\n",
       "    </tr>\n",
       "    <tr>\n",
       "      <th>DOMÉSTICO</th>\n",
       "      <td>18</td>\n",
       "    </tr>\n",
       "    <tr>\n",
       "      <th>PECUARIO</th>\n",
       "      <td>8</td>\n",
       "    </tr>\n",
       "    <tr>\n",
       "      <th>ACUACULTURA</th>\n",
       "      <td>3</td>\n",
       "    </tr>\n",
       "    <tr>\n",
       "      <th>GENERACIÓN  DE ENERGÍA ELÉCTRICA</th>\n",
       "      <td>1</td>\n",
       "    </tr>\n",
       "  </tbody>\n",
       "</table>\n",
       "</div>"
      ],
      "text/plain": [
       "                                  TOTAL DE ANEXOS\n",
       "USO QUE AMPARA EL TÍTULO                         \n",
       "SERVICIOS                                     267\n",
       "PÚBLICO URBANO                                152\n",
       "AGRÍCOLA                                      145\n",
       "DIFERENTES USOS                                57\n",
       "INDUSTRIAL                                     45\n",
       "OTROS                                          22\n",
       "DOMÉSTICO                                      18\n",
       "PECUARIO                                        8\n",
       "ACUACULTURA                                     3\n",
       "GENERACIÓN  DE ENERGÍA ELÉCTRICA                1"
      ]
     },
     "execution_count": 29,
     "metadata": {},
     "output_type": "execute_result"
    }
   ],
   "source": [
    "usosAnexos =  pd.pivot_table(data=repdaMor, index='USO QUE AMPARA EL TÍTULO', values='TOTAL DE ANEXOS', aggfunc='sum').sort_values('TOTAL DE ANEXOS', ascending=False)\n",
    "usosAnexos"
   ]
  },
  {
   "cell_type": "code",
   "execution_count": 30,
   "metadata": {},
   "outputs": [
    {
     "data": {
      "image/png": "[encoded data removed]",
      "text/plain": [
       "<Figure size 432x288 with 1 Axes>"
      ]
     },
     "metadata": {},
     "output_type": "display_data"
    }
   ],
   "source": [
    "sns.barplot(x=usosAnexos.index,y='TOTAL DE ANEXOS', data=usosAnexos, color='b')\n",
    "plt.title('Distribución de anexos\\nsegún su uso', fontsize=18)\n",
    "plt.ylabel('Cantidad de anexos')\n",
    "plt.xticks(rotation=90)\n",
    "plt.savefig('./Graficas/AnexosUsos.svg',dpi=350,bbox_inches=\"tight\")\n",
    "plt.show()"
   ]
  },
  {
   "cell_type": "markdown",
   "metadata": {},
   "source": [
    "Vemos que el resultado es similar al del total de registros, lo cual tiene sentido."
   ]
  },
  {
   "cell_type": "markdown",
   "metadata": {},
   "source": [
    "Lo siguiente es fijarnos en cada tipo de anexo."
   ]
  },
  {
   "cell_type": "markdown",
   "metadata": {},
   "source": [
    "## Superficiales"
   ]
  },
  {
   "cell_type": "code",
   "execution_count": 31,
   "metadata": {},
   "outputs": [],
   "source": [
    "usosSup = pd.pivot_table(data=repdaMor, index='USO QUE AMPARA EL TÍTULO', values=['APROVECHAMIENTOS SUPERFICIALES QUE AMPARA EL TÍTULO','VOLUMEN DE EXTRACCIÓN ANUAL DE APROVECHAMIENTOS SUPERFICIALES EN m3'], aggfunc='sum')\n",
    "usosSup = usosSup.sort_values(by = 'VOLUMEN DE EXTRACCIÓN ANUAL DE APROVECHAMIENTOS SUPERFICIALES EN m3', ascending=False)"
   ]
  },
  {
   "cell_type": "code",
   "execution_count": 32,
   "metadata": {},
   "outputs": [
    {
     "data": {
      "text/html": [
       "<div>\n",
       "<style scoped>\n",
       "    .dataframe tbody tr th:only-of-type {\n",
       "        vertical-align: middle;\n",
       "    }\n",
       "\n",
       "    .dataframe tbody tr th {\n",
       "        vertical-align: top;\n",
       "    }\n",
       "\n",
       "    .dataframe thead th {\n",
       "        text-align: right;\n",
       "    }\n",
       "</style>\n",
       "<table border=\"1\" class=\"dataframe\">\n",
       "  <thead>\n",
       "    <tr style=\"text-align: right;\">\n",
       "      <th></th>\n",
       "      <th>APROVECHAMIENTOS SUPERFICIALES QUE AMPARA EL TÍTULO</th>\n",
       "      <th>VOLUMEN DE EXTRACCIÓN ANUAL DE APROVECHAMIENTOS SUPERFICIALES EN m3</th>\n",
       "    </tr>\n",
       "    <tr>\n",
       "      <th>USO QUE AMPARA EL TÍTULO</th>\n",
       "      <th></th>\n",
       "      <th></th>\n",
       "    </tr>\n",
       "  </thead>\n",
       "  <tbody>\n",
       "    <tr>\n",
       "      <th>PÚBLICO URBANO</th>\n",
       "      <td>19</td>\n",
       "      <td>61092195.640</td>\n",
       "    </tr>\n",
       "    <tr>\n",
       "      <th>GENERACIÓN  DE ENERGÍA ELÉCTRICA</th>\n",
       "      <td>1</td>\n",
       "      <td>17125000.000</td>\n",
       "    </tr>\n",
       "    <tr>\n",
       "      <th>INDUSTRIAL</th>\n",
       "      <td>1</td>\n",
       "      <td>11037600.000</td>\n",
       "    </tr>\n",
       "    <tr>\n",
       "      <th>AGRÍCOLA</th>\n",
       "      <td>34</td>\n",
       "      <td>7956111.520</td>\n",
       "    </tr>\n",
       "    <tr>\n",
       "      <th>DIFERENTES USOS</th>\n",
       "      <td>12</td>\n",
       "      <td>752534.920</td>\n",
       "    </tr>\n",
       "    <tr>\n",
       "      <th>DOMÉSTICO</th>\n",
       "      <td>11</td>\n",
       "      <td>445583.650</td>\n",
       "    </tr>\n",
       "    <tr>\n",
       "      <th>SERVICIOS</th>\n",
       "      <td>5</td>\n",
       "      <td>278821.570</td>\n",
       "    </tr>\n",
       "    <tr>\n",
       "      <th>ACUACULTURA</th>\n",
       "      <td>3</td>\n",
       "      <td>217598.400</td>\n",
       "    </tr>\n",
       "    <tr>\n",
       "      <th>PECUARIO</th>\n",
       "      <td>2</td>\n",
       "      <td>13371.260</td>\n",
       "    </tr>\n",
       "    <tr>\n",
       "      <th>OTROS</th>\n",
       "      <td>1</td>\n",
       "      <td>0.000</td>\n",
       "    </tr>\n",
       "  </tbody>\n",
       "</table>\n",
       "</div>"
      ],
      "text/plain": [
       "                                  APROVECHAMIENTOS SUPERFICIALES QUE AMPARA EL TÍTULO  \\\n",
       "USO QUE AMPARA EL TÍTULO                                                                \n",
       "PÚBLICO URBANO                                                                   19     \n",
       "GENERACIÓN  DE ENERGÍA ELÉCTRICA                                                  1     \n",
       "INDUSTRIAL                                                                        1     \n",
       "AGRÍCOLA                                                                         34     \n",
       "DIFERENTES USOS                                                                  12     \n",
       "DOMÉSTICO                                                                        11     \n",
       "SERVICIOS                                                                         5     \n",
       "ACUACULTURA                                                                       3     \n",
       "PECUARIO                                                                          2     \n",
       "OTROS                                                                             1     \n",
       "\n",
       "                                  VOLUMEN DE EXTRACCIÓN ANUAL DE APROVECHAMIENTOS SUPERFICIALES EN m3  \n",
       "USO QUE AMPARA EL TÍTULO                                                                               \n",
       "PÚBLICO URBANO                                                         61092195.640                    \n",
       "GENERACIÓN  DE ENERGÍA ELÉCTRICA                                       17125000.000                    \n",
       "INDUSTRIAL                                                             11037600.000                    \n",
       "AGRÍCOLA                                                                7956111.520                    \n",
       "DIFERENTES USOS                                                          752534.920                    \n",
       "DOMÉSTICO                                                                445583.650                    \n",
       "SERVICIOS                                                                278821.570                    \n",
       "ACUACULTURA                                                              217598.400                    \n",
       "PECUARIO                                                                  13371.260                    \n",
       "OTROS                                                                         0.000                    "
      ]
     },
     "execution_count": 32,
     "metadata": {},
     "output_type": "execute_result"
    }
   ],
   "source": [
    "usosSup"
   ]
  },
  {
   "cell_type": "markdown",
   "metadata": {},
   "source": [
    "En este caso vemos que el uso agrícola es el que tiene más anexos de tipo superficiales, sin emabrgo, no es el que más extrae agua de este tipo, ese es el público úrbano. En particular, algo que llama la atención es que la generación de energía eléctrica es el segundo uso que más extrae agua de este tipo a pesar de ser un único anexo, es decir, la CFE es el segundo mayor extractor de aguas superficiales en Morelia."
   ]
  },
  {
   "cell_type": "markdown",
   "metadata": {},
   "source": [
    "### Subterráneos"
   ]
  },
  {
   "cell_type": "code",
   "execution_count": 33,
   "metadata": {},
   "outputs": [],
   "source": [
    "usosSub = pd.pivot_table(data=repdaMor, index='USO QUE AMPARA EL TÍTULO', values=['APROVECHAMIENTOS SUBTERRÁNEOS QUE AMPARA EL TÍTULO','VOLUMEN DE EXTRACCIÓN ANUAL DE APROVECHAMIENTOS SUBTERRÁNEOS EN m3'], aggfunc='sum')\n",
    "usosSub = usosSub.sort_values(by = 'VOLUMEN DE EXTRACCIÓN ANUAL DE APROVECHAMIENTOS SUBTERRÁNEOS EN m3', ascending=False)"
   ]
  },
  {
   "cell_type": "code",
   "execution_count": 34,
   "metadata": {},
   "outputs": [
    {
     "data": {
      "text/html": [
       "<div>\n",
       "<style scoped>\n",
       "    .dataframe tbody tr th:only-of-type {\n",
       "        vertical-align: middle;\n",
       "    }\n",
       "\n",
       "    .dataframe tbody tr th {\n",
       "        vertical-align: top;\n",
       "    }\n",
       "\n",
       "    .dataframe thead th {\n",
       "        text-align: right;\n",
       "    }\n",
       "</style>\n",
       "<table border=\"1\" class=\"dataframe\">\n",
       "  <thead>\n",
       "    <tr style=\"text-align: right;\">\n",
       "      <th></th>\n",
       "      <th>APROVECHAMIENTOS SUBTERRÁNEOS QUE AMPARA EL TÍTULO</th>\n",
       "      <th>VOLUMEN DE EXTRACCIÓN ANUAL DE APROVECHAMIENTOS SUBTERRÁNEOS EN m3</th>\n",
       "    </tr>\n",
       "    <tr>\n",
       "      <th>USO QUE AMPARA EL TÍTULO</th>\n",
       "      <th></th>\n",
       "      <th></th>\n",
       "    </tr>\n",
       "  </thead>\n",
       "  <tbody>\n",
       "    <tr>\n",
       "      <th>PÚBLICO URBANO</th>\n",
       "      <td>110</td>\n",
       "      <td>30971557.500</td>\n",
       "    </tr>\n",
       "    <tr>\n",
       "      <th>INDUSTRIAL</th>\n",
       "      <td>33</td>\n",
       "      <td>15060404.000</td>\n",
       "    </tr>\n",
       "    <tr>\n",
       "      <th>AGRÍCOLA</th>\n",
       "      <td>71</td>\n",
       "      <td>5140725.760</td>\n",
       "    </tr>\n",
       "    <tr>\n",
       "      <th>SERVICIOS</th>\n",
       "      <td>52</td>\n",
       "      <td>2431385.200</td>\n",
       "    </tr>\n",
       "    <tr>\n",
       "      <th>DIFERENTES USOS</th>\n",
       "      <td>22</td>\n",
       "      <td>1242765.700</td>\n",
       "    </tr>\n",
       "    <tr>\n",
       "      <th>DOMÉSTICO</th>\n",
       "      <td>7</td>\n",
       "      <td>98679.000</td>\n",
       "    </tr>\n",
       "    <tr>\n",
       "      <th>ACUACULTURA</th>\n",
       "      <td>0</td>\n",
       "      <td>0.000</td>\n",
       "    </tr>\n",
       "    <tr>\n",
       "      <th>GENERACIÓN  DE ENERGÍA ELÉCTRICA</th>\n",
       "      <td>0</td>\n",
       "      <td>0.000</td>\n",
       "    </tr>\n",
       "    <tr>\n",
       "      <th>OTROS</th>\n",
       "      <td>0</td>\n",
       "      <td>0.000</td>\n",
       "    </tr>\n",
       "    <tr>\n",
       "      <th>PECUARIO</th>\n",
       "      <td>0</td>\n",
       "      <td>0.000</td>\n",
       "    </tr>\n",
       "  </tbody>\n",
       "</table>\n",
       "</div>"
      ],
      "text/plain": [
       "                                  APROVECHAMIENTOS SUBTERRÁNEOS QUE AMPARA EL TÍTULO  \\\n",
       "USO QUE AMPARA EL TÍTULO                                                               \n",
       "PÚBLICO URBANO                                                                  110    \n",
       "INDUSTRIAL                                                                       33    \n",
       "AGRÍCOLA                                                                         71    \n",
       "SERVICIOS                                                                        52    \n",
       "DIFERENTES USOS                                                                  22    \n",
       "DOMÉSTICO                                                                         7    \n",
       "ACUACULTURA                                                                       0    \n",
       "GENERACIÓN  DE ENERGÍA ELÉCTRICA                                                  0    \n",
       "OTROS                                                                             0    \n",
       "PECUARIO                                                                          0    \n",
       "\n",
       "                                  VOLUMEN DE EXTRACCIÓN ANUAL DE APROVECHAMIENTOS SUBTERRÁNEOS EN m3  \n",
       "USO QUE AMPARA EL TÍTULO                                                                              \n",
       "PÚBLICO URBANO                                                         30971557.500                   \n",
       "INDUSTRIAL                                                             15060404.000                   \n",
       "AGRÍCOLA                                                                5140725.760                   \n",
       "SERVICIOS                                                               2431385.200                   \n",
       "DIFERENTES USOS                                                         1242765.700                   \n",
       "DOMÉSTICO                                                                 98679.000                   \n",
       "ACUACULTURA                                                                   0.000                   \n",
       "GENERACIÓN  DE ENERGÍA ELÉCTRICA                                              0.000                   \n",
       "OTROS                                                                         0.000                   \n",
       "PECUARIO                                                                      0.000                   "
      ]
     },
     "execution_count": 34,
     "metadata": {},
     "output_type": "execute_result"
    }
   ],
   "source": [
    "usosSub"
   ]
  },
  {
   "cell_type": "markdown",
   "metadata": {},
   "source": [
    "Para este tipo de anexo, vemos que de nuevo el uso público urbano es el  que extrae más agua. Sin embargo, algo que llama la atención es que el uso industrial extrae 2.93 veces más agua que el uso agrícola a pesar de tener menos de la mitad de anexos."
   ]
  },
  {
   "cell_type": "markdown",
   "metadata": {},
   "source": [
    "#### Zonas Federales"
   ]
  },
  {
   "cell_type": "code",
   "execution_count": 35,
   "metadata": {},
   "outputs": [],
   "source": [
    "usosZonFed = pd.pivot_table(data=repdaMor, index='USO QUE AMPARA EL TÍTULO', values=['ZONAS FEDERALES QUE AMPARA EL TITULO','SUPERFICIE EN m2'], aggfunc='sum')\n",
    "usosZonFed = usosZonFed.sort_values(by = 'SUPERFICIE EN m2', ascending=False)"
   ]
  },
  {
   "cell_type": "code",
   "execution_count": 36,
   "metadata": {},
   "outputs": [
    {
     "data": {
      "text/html": [
       "<div>\n",
       "<style scoped>\n",
       "    .dataframe tbody tr th:only-of-type {\n",
       "        vertical-align: middle;\n",
       "    }\n",
       "\n",
       "    .dataframe tbody tr th {\n",
       "        vertical-align: top;\n",
       "    }\n",
       "\n",
       "    .dataframe thead th {\n",
       "        text-align: right;\n",
       "    }\n",
       "</style>\n",
       "<table border=\"1\" class=\"dataframe\">\n",
       "  <thead>\n",
       "    <tr style=\"text-align: right;\">\n",
       "      <th></th>\n",
       "      <th>SUPERFICIE EN m2</th>\n",
       "      <th>ZONAS FEDERALES QUE AMPARA EL TITULO</th>\n",
       "    </tr>\n",
       "    <tr>\n",
       "      <th>USO QUE AMPARA EL TÍTULO</th>\n",
       "      <th></th>\n",
       "      <th></th>\n",
       "    </tr>\n",
       "  </thead>\n",
       "  <tbody>\n",
       "    <tr>\n",
       "      <th>SERVICIOS</th>\n",
       "      <td>314293.800</td>\n",
       "      <td>174</td>\n",
       "    </tr>\n",
       "    <tr>\n",
       "      <th>AGRÍCOLA</th>\n",
       "      <td>191730.250</td>\n",
       "      <td>40</td>\n",
       "    </tr>\n",
       "    <tr>\n",
       "      <th>PECUARIO</th>\n",
       "      <td>42935.000</td>\n",
       "      <td>5</td>\n",
       "    </tr>\n",
       "    <tr>\n",
       "      <th>OTROS</th>\n",
       "      <td>9510.000</td>\n",
       "      <td>21</td>\n",
       "    </tr>\n",
       "    <tr>\n",
       "      <th>DIFERENTES USOS</th>\n",
       "      <td>448.720</td>\n",
       "      <td>3</td>\n",
       "    </tr>\n",
       "    <tr>\n",
       "      <th>INDUSTRIAL</th>\n",
       "      <td>20.000</td>\n",
       "      <td>1</td>\n",
       "    </tr>\n",
       "    <tr>\n",
       "      <th>ACUACULTURA</th>\n",
       "      <td>0.000</td>\n",
       "      <td>0</td>\n",
       "    </tr>\n",
       "    <tr>\n",
       "      <th>DOMÉSTICO</th>\n",
       "      <td>0.000</td>\n",
       "      <td>0</td>\n",
       "    </tr>\n",
       "    <tr>\n",
       "      <th>GENERACIÓN  DE ENERGÍA ELÉCTRICA</th>\n",
       "      <td>0.000</td>\n",
       "      <td>0</td>\n",
       "    </tr>\n",
       "    <tr>\n",
       "      <th>PÚBLICO URBANO</th>\n",
       "      <td>0.000</td>\n",
       "      <td>0</td>\n",
       "    </tr>\n",
       "  </tbody>\n",
       "</table>\n",
       "</div>"
      ],
      "text/plain": [
       "                                  SUPERFICIE EN m2  \\\n",
       "USO QUE AMPARA EL TÍTULO                             \n",
       "SERVICIOS                               314293.800   \n",
       "AGRÍCOLA                                191730.250   \n",
       "PECUARIO                                 42935.000   \n",
       "OTROS                                     9510.000   \n",
       "DIFERENTES USOS                            448.720   \n",
       "INDUSTRIAL                                  20.000   \n",
       "ACUACULTURA                                  0.000   \n",
       "DOMÉSTICO                                    0.000   \n",
       "GENERACIÓN  DE ENERGÍA ELÉCTRICA             0.000   \n",
       "PÚBLICO URBANO                               0.000   \n",
       "\n",
       "                                  ZONAS FEDERALES QUE AMPARA EL TITULO  \n",
       "USO QUE AMPARA EL TÍTULO                                                \n",
       "SERVICIOS                                                          174  \n",
       "AGRÍCOLA                                                            40  \n",
       "PECUARIO                                                             5  \n",
       "OTROS                                                               21  \n",
       "DIFERENTES USOS                                                      3  \n",
       "INDUSTRIAL                                                           1  \n",
       "ACUACULTURA                                                          0  \n",
       "DOMÉSTICO                                                            0  \n",
       "GENERACIÓN  DE ENERGÍA ELÉCTRICA                                     0  \n",
       "PÚBLICO URBANO                                                       0  "
      ]
     },
     "execution_count": 36,
     "metadata": {},
     "output_type": "execute_result"
    }
   ],
   "source": [
    "usosZonFed"
   ]
  },
  {
   "cell_type": "markdown",
   "metadata": {},
   "source": [
    "Vemos que nos da exactamente los mismos resultados que cuando analizamos la superficie según los usos, por lo que ahora sabemos que el atributo de superficie solo está presente en aquellos registros con una zona federal. Por esto debemos ver aquellos títulos donde se tengan exclusivamente zonas federales."
   ]
  },
  {
   "cell_type": "code",
   "execution_count": 37,
   "metadata": {},
   "outputs": [
    {
     "name": "stdout",
     "output_type": "stream",
     "text": [
      "Hay 172 registros que solo tienen zonas federales.\n",
      "Eso representa el 32.514% de los datos totales.\n",
      "Y el 74.459% de los registros que no extraen agua\n"
     ]
    }
   ],
   "source": [
    "temp = repdaMor[(repdaMor['ZONAS FEDERALES QUE AMPARA EL TITULO']>0)&(repdaMor['APROVECHAMIENTOS SUBTERRÁNEOS QUE AMPARA EL TÍTULO']==0)&(repdaMor['APROVECHAMIENTOS SUPERFICIALES QUE AMPARA EL TÍTULO']==0)&(repdaMor['PUNTOS DE DESCARGA QUE AMPARA EL TÍTULO']==0)].shape[0]\n",
    "print(f\"Hay {temp} registros que solo tienen zonas federales.\")\n",
    "print(f\"Eso representa el {temp/repdaMor.shape[0]*100:.3f}% de los datos totales.\")\n",
    "print(f\"Y el {temp/231*100:.3f}% de los registros que no extraen agua\")"
   ]
  },
  {
   "cell_type": "markdown",
   "metadata": {},
   "source": [
    "### Descargas"
   ]
  },
  {
   "cell_type": "code",
   "execution_count": 38,
   "metadata": {},
   "outputs": [],
   "source": [
    "usosDes = pd.pivot_table(data=repdaMor, index='USO QUE AMPARA EL TÍTULO', values=['PUNTOS DE DESCARGA QUE AMPARA EL TÍTULO','VOLUMEN DE DESCARGA DIARIO EN m3'], aggfunc='sum')\n",
    "usosDes = usosDes.sort_values(by =  'VOLUMEN DE DESCARGA DIARIO EN m3', ascending=False)"
   ]
  },
  {
   "cell_type": "code",
   "execution_count": 39,
   "metadata": {},
   "outputs": [
    {
     "data": {
      "text/html": [
       "<div>\n",
       "<style scoped>\n",
       "    .dataframe tbody tr th:only-of-type {\n",
       "        vertical-align: middle;\n",
       "    }\n",
       "\n",
       "    .dataframe tbody tr th {\n",
       "        vertical-align: top;\n",
       "    }\n",
       "\n",
       "    .dataframe thead th {\n",
       "        text-align: right;\n",
       "    }\n",
       "</style>\n",
       "<table border=\"1\" class=\"dataframe\">\n",
       "  <thead>\n",
       "    <tr style=\"text-align: right;\">\n",
       "      <th></th>\n",
       "      <th>PUNTOS DE DESCARGA QUE AMPARA EL TÍTULO</th>\n",
       "      <th>VOLUMEN DE DESCARGA DIARIO EN m3</th>\n",
       "    </tr>\n",
       "    <tr>\n",
       "      <th>USO QUE AMPARA EL TÍTULO</th>\n",
       "      <th></th>\n",
       "      <th></th>\n",
       "    </tr>\n",
       "  </thead>\n",
       "  <tbody>\n",
       "    <tr>\n",
       "      <th>PÚBLICO URBANO</th>\n",
       "      <td>23</td>\n",
       "      <td>153051.380</td>\n",
       "    </tr>\n",
       "    <tr>\n",
       "      <th>INDUSTRIAL</th>\n",
       "      <td>10</td>\n",
       "      <td>29418.900</td>\n",
       "    </tr>\n",
       "    <tr>\n",
       "      <th>SERVICIOS</th>\n",
       "      <td>36</td>\n",
       "      <td>1332.740</td>\n",
       "    </tr>\n",
       "    <tr>\n",
       "      <th>DIFERENTES USOS</th>\n",
       "      <td>20</td>\n",
       "      <td>102.000</td>\n",
       "    </tr>\n",
       "    <tr>\n",
       "      <th>PECUARIO</th>\n",
       "      <td>1</td>\n",
       "      <td>0.450</td>\n",
       "    </tr>\n",
       "    <tr>\n",
       "      <th>ACUACULTURA</th>\n",
       "      <td>0</td>\n",
       "      <td>0.000</td>\n",
       "    </tr>\n",
       "    <tr>\n",
       "      <th>AGRÍCOLA</th>\n",
       "      <td>0</td>\n",
       "      <td>0.000</td>\n",
       "    </tr>\n",
       "    <tr>\n",
       "      <th>DOMÉSTICO</th>\n",
       "      <td>0</td>\n",
       "      <td>0.000</td>\n",
       "    </tr>\n",
       "    <tr>\n",
       "      <th>GENERACIÓN  DE ENERGÍA ELÉCTRICA</th>\n",
       "      <td>0</td>\n",
       "      <td>0.000</td>\n",
       "    </tr>\n",
       "    <tr>\n",
       "      <th>OTROS</th>\n",
       "      <td>0</td>\n",
       "      <td>0.000</td>\n",
       "    </tr>\n",
       "  </tbody>\n",
       "</table>\n",
       "</div>"
      ],
      "text/plain": [
       "                                  PUNTOS DE DESCARGA QUE AMPARA EL TÍTULO  \\\n",
       "USO QUE AMPARA EL TÍTULO                                                    \n",
       "PÚBLICO URBANO                                                         23   \n",
       "INDUSTRIAL                                                             10   \n",
       "SERVICIOS                                                              36   \n",
       "DIFERENTES USOS                                                        20   \n",
       "PECUARIO                                                                1   \n",
       "ACUACULTURA                                                             0   \n",
       "AGRÍCOLA                                                                0   \n",
       "DOMÉSTICO                                                               0   \n",
       "GENERACIÓN  DE ENERGÍA ELÉCTRICA                                        0   \n",
       "OTROS                                                                   0   \n",
       "\n",
       "                                  VOLUMEN DE DESCARGA DIARIO EN m3  \n",
       "USO QUE AMPARA EL TÍTULO                                            \n",
       "PÚBLICO URBANO                                          153051.380  \n",
       "INDUSTRIAL                                               29418.900  \n",
       "SERVICIOS                                                 1332.740  \n",
       "DIFERENTES USOS                                            102.000  \n",
       "PECUARIO                                                     0.450  \n",
       "ACUACULTURA                                                  0.000  \n",
       "AGRÍCOLA                                                     0.000  \n",
       "DOMÉSTICO                                                    0.000  \n",
       "GENERACIÓN  DE ENERGÍA ELÉCTRICA                             0.000  \n",
       "OTROS                                                        0.000  "
      ]
     },
     "execution_count": 39,
     "metadata": {},
     "output_type": "execute_result"
    }
   ],
   "source": [
    "usosDes"
   ]
  },
  {
   "cell_type": "markdown",
   "metadata": {},
   "source": [
    "De nuevo es el uso público el que mayor volumen tiene, sin embargo, llama la atención que solo se presente el volumen diario cuando en los otros anexos se nos presenta el volumen anual, y es más interesante porque dentro de la base de anexos que está disponible, sí se cuenta con el volumen anual de descarga. También valdría la pena revisar qué pasa con el volumen de extracción de aguas cuando solo se cuenta con este tipo de anexo."
   ]
  },
  {
   "cell_type": "code",
   "execution_count": 40,
   "metadata": {},
   "outputs": [
    {
     "name": "stdout",
     "output_type": "stream",
     "text": [
      "Hay 56 registros que solo tienen puntos de descarga.\n",
      "Eso representa el 10.586% de los datos totales.\n",
      "Y el 24.242% de los registros que no extraen agua\n"
     ]
    }
   ],
   "source": [
    "temp = repdaMor[(repdaMor['ZONAS FEDERALES QUE AMPARA EL TITULO']==0)&(repdaMor['APROVECHAMIENTOS SUBTERRÁNEOS QUE AMPARA EL TÍTULO']==0)&(repdaMor['APROVECHAMIENTOS SUPERFICIALES QUE AMPARA EL TÍTULO']==0)&(repdaMor['PUNTOS DE DESCARGA QUE AMPARA EL TÍTULO']>0)].shape[0]\n",
    "print(f\"Hay {temp} registros que solo tienen puntos de descarga.\")\n",
    "print(f\"Eso representa el {temp/repdaMor.shape[0]*100:.3f}% de los datos totales.\")\n",
    "print(f\"Y el {temp/231*100:.3f}% de los registros que no extraen agua\")"
   ]
  },
  {
   "cell_type": "markdown",
   "metadata": {},
   "source": [
    "Con esto ya tenemos cubierto la mayor parte de los registros donde no se extrae agua."
   ]
  },
  {
   "cell_type": "markdown",
   "metadata": {},
   "source": [
    "## Titulares"
   ]
  },
  {
   "cell_type": "markdown",
   "metadata": {},
   "source": [
    "El siguiente punto de interés es revisar quién es dueño del agua, por lo que nos enfocaremos en los titulares que aparecen en el registro."
   ]
  },
  {
   "cell_type": "code",
   "execution_count": 41,
   "metadata": {},
   "outputs": [],
   "source": [
    "#Con más de un registro\n",
    "titgt2 = repdaMor.TITULAR.value_counts()[:36].index"
   ]
  },
  {
   "cell_type": "markdown",
   "metadata": {},
   "source": [
    "Usos"
   ]
  },
  {
   "cell_type": "code",
   "execution_count": 42,
   "metadata": {},
   "outputs": [],
   "source": [
    "titularUsos = pd.pivot_table(data=repdaMor[repdaMor.TITULAR.isin(titgt2)], columns='USO QUE AMPARA EL TÍTULO', values='VOLUMEN DE EXTRACCIÓN ANUAL DE AGUAS NACIONALES QUE AMPARA EL TÍTULO EN m3',index='TITULAR', aggfunc='count')\n",
    "titularUsos.fillna(0,inplace=True)\n",
    "titularUsos['TOTAL'] = sum([usosTitular[col] for col in usosTitular.columns])\n",
    "titularUsos.sort_values(by='TOTAL', ascending=False,inplace=True)"
   ]
  },
  {
   "cell_type": "code",
   "execution_count": 43,
   "metadata": {
    "scrolled": true
   },
   "outputs": [
    {
     "data": {
      "text/html": [
       "<div>\n",
       "<style scoped>\n",
       "    .dataframe tbody tr th:only-of-type {\n",
       "        vertical-align: middle;\n",
       "    }\n",
       "\n",
       "    .dataframe tbody tr th {\n",
       "        vertical-align: top;\n",
       "    }\n",
       "\n",
       "    .dataframe thead th {\n",
       "        text-align: right;\n",
       "    }\n",
       "</style>\n",
       "<table border=\"1\" class=\"dataframe\">\n",
       "  <thead>\n",
       "    <tr style=\"text-align: right;\">\n",
       "      <th>USO QUE AMPARA EL TÍTULO</th>\n",
       "      <th>ACUACULTURA</th>\n",
       "      <th>AGRÍCOLA</th>\n",
       "      <th>DIFERENTES USOS</th>\n",
       "      <th>INDUSTRIAL</th>\n",
       "      <th>OTROS</th>\n",
       "      <th>PECUARIO</th>\n",
       "      <th>PÚBLICO URBANO</th>\n",
       "      <th>SERVICIOS</th>\n",
       "      <th>TOTAL</th>\n",
       "    </tr>\n",
       "    <tr>\n",
       "      <th>TITULAR</th>\n",
       "      <th></th>\n",
       "      <th></th>\n",
       "      <th></th>\n",
       "      <th></th>\n",
       "      <th></th>\n",
       "      <th></th>\n",
       "      <th></th>\n",
       "      <th></th>\n",
       "      <th></th>\n",
       "    </tr>\n",
       "  </thead>\n",
       "  <tbody>\n",
       "    <tr>\n",
       "      <th>ORGANISMO OPERADOR DE AGUA POTABLE ALCANTARILLADO Y SANEAMIENTO DE MORELIA</th>\n",
       "      <td>0.000</td>\n",
       "      <td>0.000</td>\n",
       "      <td>0.000</td>\n",
       "      <td>0.000</td>\n",
       "      <td>0.000</td>\n",
       "      <td>0.000</td>\n",
       "      <td>45.000</td>\n",
       "      <td>5.000</td>\n",
       "      <td>50.000</td>\n",
       "    </tr>\n",
       "    <tr>\n",
       "      <th>NUEVA WAL-MART DE MEXICO, S. DE R.L. DE C.V.</th>\n",
       "      <td>0.000</td>\n",
       "      <td>0.000</td>\n",
       "      <td>0.000</td>\n",
       "      <td>0.000</td>\n",
       "      <td>0.000</td>\n",
       "      <td>0.000</td>\n",
       "      <td>0.000</td>\n",
       "      <td>4.000</td>\n",
       "      <td>4.000</td>\n",
       "    </tr>\n",
       "    <tr>\n",
       "      <th>BEBIDAS AZTECA DEL CENTRO, S.A. DE C.V.</th>\n",
       "      <td>0.000</td>\n",
       "      <td>0.000</td>\n",
       "      <td>0.000</td>\n",
       "      <td>2.000</td>\n",
       "      <td>1.000</td>\n",
       "      <td>0.000</td>\n",
       "      <td>0.000</td>\n",
       "      <td>0.000</td>\n",
       "      <td>3.000</td>\n",
       "    </tr>\n",
       "    <tr>\n",
       "      <th>LA VOZ DE MICHOACAN, S.A. DE C.V.</th>\n",
       "      <td>0.000</td>\n",
       "      <td>0.000</td>\n",
       "      <td>0.000</td>\n",
       "      <td>0.000</td>\n",
       "      <td>0.000</td>\n",
       "      <td>0.000</td>\n",
       "      <td>0.000</td>\n",
       "      <td>3.000</td>\n",
       "      <td>3.000</td>\n",
       "    </tr>\n",
       "    <tr>\n",
       "      <th>RESIDENCIAL TORREON NUEVO, S. A. DE C. V.</th>\n",
       "      <td>0.000</td>\n",
       "      <td>0.000</td>\n",
       "      <td>0.000</td>\n",
       "      <td>0.000</td>\n",
       "      <td>0.000</td>\n",
       "      <td>0.000</td>\n",
       "      <td>0.000</td>\n",
       "      <td>3.000</td>\n",
       "      <td>3.000</td>\n",
       "    </tr>\n",
       "    <tr>\n",
       "      <th>INSTITUTO TECNOLOGICO Y DE ESTUDIOS SUPERIORES DE MONTERREY</th>\n",
       "      <td>0.000</td>\n",
       "      <td>0.000</td>\n",
       "      <td>0.000</td>\n",
       "      <td>0.000</td>\n",
       "      <td>0.000</td>\n",
       "      <td>0.000</td>\n",
       "      <td>0.000</td>\n",
       "      <td>3.000</td>\n",
       "      <td>3.000</td>\n",
       "    </tr>\n",
       "    <tr>\n",
       "      <th>ROMULO AMARO GONZALEZ, HELIODORO AMARO GONZALEZ</th>\n",
       "      <td>0.000</td>\n",
       "      <td>2.000</td>\n",
       "      <td>0.000</td>\n",
       "      <td>0.000</td>\n",
       "      <td>0.000</td>\n",
       "      <td>0.000</td>\n",
       "      <td>0.000</td>\n",
       "      <td>0.000</td>\n",
       "      <td>2.000</td>\n",
       "    </tr>\n",
       "    <tr>\n",
       "      <th>PAROM, S.A. DE C.V.</th>\n",
       "      <td>0.000</td>\n",
       "      <td>0.000</td>\n",
       "      <td>0.000</td>\n",
       "      <td>0.000</td>\n",
       "      <td>0.000</td>\n",
       "      <td>0.000</td>\n",
       "      <td>0.000</td>\n",
       "      <td>2.000</td>\n",
       "      <td>2.000</td>\n",
       "    </tr>\n",
       "    <tr>\n",
       "      <th>RESINAS SINTETICAS, S.A. DE C.V.</th>\n",
       "      <td>0.000</td>\n",
       "      <td>0.000</td>\n",
       "      <td>0.000</td>\n",
       "      <td>2.000</td>\n",
       "      <td>0.000</td>\n",
       "      <td>0.000</td>\n",
       "      <td>0.000</td>\n",
       "      <td>0.000</td>\n",
       "      <td>2.000</td>\n",
       "    </tr>\n",
       "    <tr>\n",
       "      <th>RICARDO NARANJO GONZALEZ</th>\n",
       "      <td>0.000</td>\n",
       "      <td>2.000</td>\n",
       "      <td>0.000</td>\n",
       "      <td>0.000</td>\n",
       "      <td>0.000</td>\n",
       "      <td>0.000</td>\n",
       "      <td>0.000</td>\n",
       "      <td>0.000</td>\n",
       "      <td>2.000</td>\n",
       "    </tr>\n",
       "    <tr>\n",
       "      <th>ANICETO MAGAÑA URBINA</th>\n",
       "      <td>0.000</td>\n",
       "      <td>2.000</td>\n",
       "      <td>0.000</td>\n",
       "      <td>0.000</td>\n",
       "      <td>0.000</td>\n",
       "      <td>0.000</td>\n",
       "      <td>0.000</td>\n",
       "      <td>0.000</td>\n",
       "      <td>2.000</td>\n",
       "    </tr>\n",
       "    <tr>\n",
       "      <th>SALVADOR VILLICAÑA MALDONADO</th>\n",
       "      <td>0.000</td>\n",
       "      <td>0.000</td>\n",
       "      <td>1.000</td>\n",
       "      <td>0.000</td>\n",
       "      <td>0.000</td>\n",
       "      <td>1.000</td>\n",
       "      <td>0.000</td>\n",
       "      <td>0.000</td>\n",
       "      <td>2.000</td>\n",
       "    </tr>\n",
       "    <tr>\n",
       "      <th>TIENDAS COMERCIAL MEXICANA, S.A. DE C.V.</th>\n",
       "      <td>0.000</td>\n",
       "      <td>0.000</td>\n",
       "      <td>0.000</td>\n",
       "      <td>0.000</td>\n",
       "      <td>0.000</td>\n",
       "      <td>0.000</td>\n",
       "      <td>0.000</td>\n",
       "      <td>2.000</td>\n",
       "      <td>2.000</td>\n",
       "    </tr>\n",
       "    <tr>\n",
       "      <th>UNION GANADERA REGIONAL DE MICHOACAN</th>\n",
       "      <td>0.000</td>\n",
       "      <td>0.000</td>\n",
       "      <td>0.000</td>\n",
       "      <td>2.000</td>\n",
       "      <td>0.000</td>\n",
       "      <td>0.000</td>\n",
       "      <td>0.000</td>\n",
       "      <td>0.000</td>\n",
       "      <td>2.000</td>\n",
       "    </tr>\n",
       "    <tr>\n",
       "      <th>UNION NACIONAL DE RESINEROS, A.C.</th>\n",
       "      <td>0.000</td>\n",
       "      <td>0.000</td>\n",
       "      <td>0.000</td>\n",
       "      <td>0.000</td>\n",
       "      <td>0.000</td>\n",
       "      <td>0.000</td>\n",
       "      <td>0.000</td>\n",
       "      <td>2.000</td>\n",
       "      <td>2.000</td>\n",
       "    </tr>\n",
       "    <tr>\n",
       "      <th>UNIVERSIDAD AUTONOMA CHAPINGO</th>\n",
       "      <td>0.000</td>\n",
       "      <td>2.000</td>\n",
       "      <td>0.000</td>\n",
       "      <td>0.000</td>\n",
       "      <td>0.000</td>\n",
       "      <td>0.000</td>\n",
       "      <td>0.000</td>\n",
       "      <td>0.000</td>\n",
       "      <td>2.000</td>\n",
       "    </tr>\n",
       "    <tr>\n",
       "      <th>UNIVERSIDAD LATINA DE AMERICA, A.C.</th>\n",
       "      <td>0.000</td>\n",
       "      <td>0.000</td>\n",
       "      <td>0.000</td>\n",
       "      <td>0.000</td>\n",
       "      <td>0.000</td>\n",
       "      <td>0.000</td>\n",
       "      <td>0.000</td>\n",
       "      <td>2.000</td>\n",
       "      <td>2.000</td>\n",
       "    </tr>\n",
       "    <tr>\n",
       "      <th>UNIVERSIDAD NACIONAL AUTONOMA DE MEXICO</th>\n",
       "      <td>0.000</td>\n",
       "      <td>0.000</td>\n",
       "      <td>0.000</td>\n",
       "      <td>0.000</td>\n",
       "      <td>0.000</td>\n",
       "      <td>0.000</td>\n",
       "      <td>0.000</td>\n",
       "      <td>2.000</td>\n",
       "      <td>2.000</td>\n",
       "    </tr>\n",
       "    <tr>\n",
       "      <th>ROSA RODRIGUEZ OCHOA</th>\n",
       "      <td>0.000</td>\n",
       "      <td>0.000</td>\n",
       "      <td>0.000</td>\n",
       "      <td>0.000</td>\n",
       "      <td>0.000</td>\n",
       "      <td>0.000</td>\n",
       "      <td>0.000</td>\n",
       "      <td>2.000</td>\n",
       "      <td>2.000</td>\n",
       "    </tr>\n",
       "    <tr>\n",
       "      <th>MARTHA IMELDA GONZALEZ HUERTA</th>\n",
       "      <td>0.000</td>\n",
       "      <td>2.000</td>\n",
       "      <td>0.000</td>\n",
       "      <td>0.000</td>\n",
       "      <td>0.000</td>\n",
       "      <td>0.000</td>\n",
       "      <td>0.000</td>\n",
       "      <td>0.000</td>\n",
       "      <td>2.000</td>\n",
       "    </tr>\n",
       "    <tr>\n",
       "      <th>MIGUEL RUIZ DE CHAVEZ URBINA</th>\n",
       "      <td>0.000</td>\n",
       "      <td>1.000</td>\n",
       "      <td>1.000</td>\n",
       "      <td>0.000</td>\n",
       "      <td>0.000</td>\n",
       "      <td>0.000</td>\n",
       "      <td>0.000</td>\n",
       "      <td>0.000</td>\n",
       "      <td>2.000</td>\n",
       "    </tr>\n",
       "    <tr>\n",
       "      <th>MARCELA GUADALUPE SANCHEZ HERNANDEZ</th>\n",
       "      <td>0.000</td>\n",
       "      <td>0.000</td>\n",
       "      <td>1.000</td>\n",
       "      <td>0.000</td>\n",
       "      <td>0.000</td>\n",
       "      <td>0.000</td>\n",
       "      <td>0.000</td>\n",
       "      <td>1.000</td>\n",
       "      <td>2.000</td>\n",
       "    </tr>\n",
       "    <tr>\n",
       "      <th>JUAN OCTAVIO MEJIA NEGRETE</th>\n",
       "      <td>0.000</td>\n",
       "      <td>0.000</td>\n",
       "      <td>0.000</td>\n",
       "      <td>0.000</td>\n",
       "      <td>0.000</td>\n",
       "      <td>0.000</td>\n",
       "      <td>1.000</td>\n",
       "      <td>1.000</td>\n",
       "      <td>2.000</td>\n",
       "    </tr>\n",
       "    <tr>\n",
       "      <th>JOSE ARMANDO, LILIANA DE LA SALUD Y FRANCISCO JOSE VILLAGOMEZ RIVADENEYRA</th>\n",
       "      <td>0.000</td>\n",
       "      <td>2.000</td>\n",
       "      <td>0.000</td>\n",
       "      <td>0.000</td>\n",
       "      <td>0.000</td>\n",
       "      <td>0.000</td>\n",
       "      <td>0.000</td>\n",
       "      <td>0.000</td>\n",
       "      <td>2.000</td>\n",
       "    </tr>\n",
       "    <tr>\n",
       "      <th>JOSE ALFREDO GODINEZ MALFAVON</th>\n",
       "      <td>0.000</td>\n",
       "      <td>2.000</td>\n",
       "      <td>0.000</td>\n",
       "      <td>0.000</td>\n",
       "      <td>0.000</td>\n",
       "      <td>0.000</td>\n",
       "      <td>0.000</td>\n",
       "      <td>0.000</td>\n",
       "      <td>2.000</td>\n",
       "    </tr>\n",
       "    <tr>\n",
       "      <th>INMOBILIARIA Y CONSTRUCTORA SOLORZANO S.A. DE C.V.</th>\n",
       "      <td>0.000</td>\n",
       "      <td>0.000</td>\n",
       "      <td>0.000</td>\n",
       "      <td>0.000</td>\n",
       "      <td>0.000</td>\n",
       "      <td>0.000</td>\n",
       "      <td>0.000</td>\n",
       "      <td>2.000</td>\n",
       "      <td>2.000</td>\n",
       "    </tr>\n",
       "    <tr>\n",
       "      <th>FRIGORIFICO Y RASTRO DE MORELIA, S.A. DE C.V.</th>\n",
       "      <td>0.000</td>\n",
       "      <td>0.000</td>\n",
       "      <td>0.000</td>\n",
       "      <td>1.000</td>\n",
       "      <td>0.000</td>\n",
       "      <td>0.000</td>\n",
       "      <td>0.000</td>\n",
       "      <td>1.000</td>\n",
       "      <td>2.000</td>\n",
       "    </tr>\n",
       "    <tr>\n",
       "      <th>FRANCISCO OTERO PAJARO</th>\n",
       "      <td>0.000</td>\n",
       "      <td>0.000</td>\n",
       "      <td>0.000</td>\n",
       "      <td>0.000</td>\n",
       "      <td>0.000</td>\n",
       "      <td>0.000</td>\n",
       "      <td>0.000</td>\n",
       "      <td>2.000</td>\n",
       "      <td>2.000</td>\n",
       "    </tr>\n",
       "    <tr>\n",
       "      <th>ESVEYDE MARTINEZ BASURTO</th>\n",
       "      <td>1.000</td>\n",
       "      <td>1.000</td>\n",
       "      <td>0.000</td>\n",
       "      <td>0.000</td>\n",
       "      <td>0.000</td>\n",
       "      <td>0.000</td>\n",
       "      <td>0.000</td>\n",
       "      <td>0.000</td>\n",
       "      <td>2.000</td>\n",
       "    </tr>\n",
       "    <tr>\n",
       "      <th>EJIDO COINTZIO</th>\n",
       "      <td>0.000</td>\n",
       "      <td>0.000</td>\n",
       "      <td>2.000</td>\n",
       "      <td>0.000</td>\n",
       "      <td>0.000</td>\n",
       "      <td>0.000</td>\n",
       "      <td>0.000</td>\n",
       "      <td>0.000</td>\n",
       "      <td>2.000</td>\n",
       "    </tr>\n",
       "    <tr>\n",
       "      <th>CRISOBA INDUSTRIAL, S.A. DE C.V.</th>\n",
       "      <td>0.000</td>\n",
       "      <td>0.000</td>\n",
       "      <td>0.000</td>\n",
       "      <td>1.000</td>\n",
       "      <td>1.000</td>\n",
       "      <td>0.000</td>\n",
       "      <td>0.000</td>\n",
       "      <td>0.000</td>\n",
       "      <td>2.000</td>\n",
       "    </tr>\n",
       "    <tr>\n",
       "      <th>CRISOBA INDUSTRIAL S.A. DE C.V.</th>\n",
       "      <td>0.000</td>\n",
       "      <td>0.000</td>\n",
       "      <td>0.000</td>\n",
       "      <td>1.000</td>\n",
       "      <td>1.000</td>\n",
       "      <td>0.000</td>\n",
       "      <td>0.000</td>\n",
       "      <td>0.000</td>\n",
       "      <td>2.000</td>\n",
       "    </tr>\n",
       "    <tr>\n",
       "      <th>CLUB CAMPESTRE DE MORELIA, PROPIEDAD EN CONDOMINIO</th>\n",
       "      <td>0.000</td>\n",
       "      <td>0.000</td>\n",
       "      <td>0.000</td>\n",
       "      <td>0.000</td>\n",
       "      <td>0.000</td>\n",
       "      <td>0.000</td>\n",
       "      <td>0.000</td>\n",
       "      <td>2.000</td>\n",
       "      <td>2.000</td>\n",
       "    </tr>\n",
       "    <tr>\n",
       "      <th>CARLOS ALEJANDRO VILLICAÑA MALDONADO</th>\n",
       "      <td>0.000</td>\n",
       "      <td>0.000</td>\n",
       "      <td>2.000</td>\n",
       "      <td>0.000</td>\n",
       "      <td>0.000</td>\n",
       "      <td>0.000</td>\n",
       "      <td>0.000</td>\n",
       "      <td>0.000</td>\n",
       "      <td>2.000</td>\n",
       "    </tr>\n",
       "    <tr>\n",
       "      <th>VICTOR MANUEL VILLICAÑA MALDONADO</th>\n",
       "      <td>0.000</td>\n",
       "      <td>0.000</td>\n",
       "      <td>2.000</td>\n",
       "      <td>0.000</td>\n",
       "      <td>0.000</td>\n",
       "      <td>0.000</td>\n",
       "      <td>0.000</td>\n",
       "      <td>0.000</td>\n",
       "      <td>2.000</td>\n",
       "    </tr>\n",
       "    <tr>\n",
       "      <th>EJIDO SAN MIGUEL COAPA</th>\n",
       "      <td>0.000</td>\n",
       "      <td>0.000</td>\n",
       "      <td>1.000</td>\n",
       "      <td>0.000</td>\n",
       "      <td>0.000</td>\n",
       "      <td>0.000</td>\n",
       "      <td>0.000</td>\n",
       "      <td>0.000</td>\n",
       "      <td>1.000</td>\n",
       "    </tr>\n",
       "  </tbody>\n",
       "</table>\n",
       "</div>"
      ],
      "text/plain": [
       "USO QUE AMPARA EL TÍTULO                            ACUACULTURA  AGRÍCOLA  \\\n",
       "TITULAR                                                                     \n",
       "ORGANISMO OPERADOR DE AGUA POTABLE ALCANTARILLA...        0.000     0.000   \n",
       "NUEVA WAL-MART DE MEXICO, S. DE R.L. DE C.V.              0.000     0.000   \n",
       "BEBIDAS AZTECA DEL CENTRO, S.A. DE C.V.                   0.000     0.000   \n",
       "LA VOZ DE MICHOACAN, S.A. DE C.V.                         0.000     0.000   \n",
       "RESIDENCIAL TORREON NUEVO, S. A. DE C. V.                 0.000     0.000   \n",
       "INSTITUTO TECNOLOGICO Y DE ESTUDIOS SUPERIORES ...        0.000     0.000   \n",
       "ROMULO AMARO GONZALEZ, HELIODORO AMARO GONZALEZ           0.000     2.000   \n",
       "PAROM, S.A. DE C.V.                                       0.000     0.000   \n",
       "RESINAS SINTETICAS, S.A. DE C.V.                          0.000     0.000   \n",
       "RICARDO NARANJO GONZALEZ                                  0.000     2.000   \n",
       "ANICETO MAGAÑA URBINA                                     0.000     2.000   \n",
       "SALVADOR VILLICAÑA MALDONADO                              0.000     0.000   \n",
       "TIENDAS COMERCIAL MEXICANA, S.A. DE C.V.                  0.000     0.000   \n",
       "UNION GANADERA REGIONAL DE MICHOACAN                      0.000     0.000   \n",
       "UNION NACIONAL DE RESINEROS, A.C.                         0.000     0.000   \n",
       "UNIVERSIDAD AUTONOMA CHAPINGO                             0.000     2.000   \n",
       "UNIVERSIDAD LATINA DE AMERICA, A.C.                       0.000     0.000   \n",
       "UNIVERSIDAD NACIONAL AUTONOMA DE MEXICO                   0.000     0.000   \n",
       "ROSA RODRIGUEZ OCHOA                                      0.000     0.000   \n",
       "MARTHA IMELDA GONZALEZ HUERTA                             0.000     2.000   \n",
       "MIGUEL RUIZ DE CHAVEZ URBINA                              0.000     1.000   \n",
       "MARCELA GUADALUPE SANCHEZ HERNANDEZ                       0.000     0.000   \n",
       "JUAN OCTAVIO MEJIA NEGRETE                                0.000     0.000   \n",
       "JOSE ARMANDO, LILIANA DE LA SALUD Y FRANCISCO J...        0.000     2.000   \n",
       "JOSE ALFREDO GODINEZ MALFAVON                             0.000     2.000   \n",
       "INMOBILIARIA Y CONSTRUCTORA SOLORZANO S.A. DE C.V.        0.000     0.000   \n",
       "FRIGORIFICO Y RASTRO DE MORELIA, S.A. DE C.V.             0.000     0.000   \n",
       "FRANCISCO OTERO PAJARO                                    0.000     0.000   \n",
       "ESVEYDE MARTINEZ BASURTO                                  1.000     1.000   \n",
       "EJIDO COINTZIO                                            0.000     0.000   \n",
       "CRISOBA INDUSTRIAL, S.A. DE C.V.                          0.000     0.000   \n",
       "CRISOBA INDUSTRIAL S.A. DE C.V.                           0.000     0.000   \n",
       "CLUB CAMPESTRE DE MORELIA, PROPIEDAD EN CONDOMINIO        0.000     0.000   \n",
       "CARLOS ALEJANDRO VILLICAÑA MALDONADO                      0.000     0.000   \n",
       "VICTOR MANUEL VILLICAÑA MALDONADO                         0.000     0.000   \n",
       "EJIDO SAN MIGUEL COAPA                                    0.000     0.000   \n",
       "\n",
       "USO QUE AMPARA EL TÍTULO                            DIFERENTES USOS  \\\n",
       "TITULAR                                                               \n",
       "ORGANISMO OPERADOR DE AGUA POTABLE ALCANTARILLA...            0.000   \n",
       "NUEVA WAL-MART DE MEXICO, S. DE R.L. DE C.V.                  0.000   \n",
       "BEBIDAS AZTECA DEL CENTRO, S.A. DE C.V.                       0.000   \n",
       "LA VOZ DE MICHOACAN, S.A. DE C.V.                             0.000   \n",
       "RESIDENCIAL TORREON NUEVO, S. A. DE C. V.                     0.000   \n",
       "INSTITUTO TECNOLOGICO Y DE ESTUDIOS SUPERIORES ...            0.000   \n",
       "ROMULO AMARO GONZALEZ, HELIODORO AMARO GONZALEZ               0.000   \n",
       "PAROM, S.A. DE C.V.                                           0.000   \n",
       "RESINAS SINTETICAS, S.A. DE C.V.                              0.000   \n",
       "RICARDO NARANJO GONZALEZ                                      0.000   \n",
       "ANICETO MAGAÑA URBINA                                         0.000   \n",
       "SALVADOR VILLICAÑA MALDONADO                                  1.000   \n",
       "TIENDAS COMERCIAL MEXICANA, S.A. DE C.V.                      0.000   \n",
       "UNION GANADERA REGIONAL DE MICHOACAN                          0.000   \n",
       "UNION NACIONAL DE RESINEROS, A.C.                             0.000   \n",
       "UNIVERSIDAD AUTONOMA CHAPINGO                                 0.000   \n",
       "UNIVERSIDAD LATINA DE AMERICA, A.C.                           0.000   \n",
       "UNIVERSIDAD NACIONAL AUTONOMA DE MEXICO                       0.000   \n",
       "ROSA RODRIGUEZ OCHOA                                          0.000   \n",
       "MARTHA IMELDA GONZALEZ HUERTA                                 0.000   \n",
       "MIGUEL RUIZ DE CHAVEZ URBINA                                  1.000   \n",
       "MARCELA GUADALUPE SANCHEZ HERNANDEZ                           1.000   \n",
       "JUAN OCTAVIO MEJIA NEGRETE                                    0.000   \n",
       "JOSE ARMANDO, LILIANA DE LA SALUD Y FRANCISCO J...            0.000   \n",
       "JOSE ALFREDO GODINEZ MALFAVON                                 0.000   \n",
       "INMOBILIARIA Y CONSTRUCTORA SOLORZANO S.A. DE C.V.            0.000   \n",
       "FRIGORIFICO Y RASTRO DE MORELIA, S.A. DE C.V.                 0.000   \n",
       "FRANCISCO OTERO PAJARO                                        0.000   \n",
       "ESVEYDE MARTINEZ BASURTO                                      0.000   \n",
       "EJIDO COINTZIO                                                2.000   \n",
       "CRISOBA INDUSTRIAL, S.A. DE C.V.                              0.000   \n",
       "CRISOBA INDUSTRIAL S.A. DE C.V.                               0.000   \n",
       "CLUB CAMPESTRE DE MORELIA, PROPIEDAD EN CONDOMINIO            0.000   \n",
       "CARLOS ALEJANDRO VILLICAÑA MALDONADO                          2.000   \n",
       "VICTOR MANUEL VILLICAÑA MALDONADO                             2.000   \n",
       "EJIDO SAN MIGUEL COAPA                                        1.000   \n",
       "\n",
       "USO QUE AMPARA EL TÍTULO                            INDUSTRIAL  OTROS  \\\n",
       "TITULAR                                                                 \n",
       "ORGANISMO OPERADOR DE AGUA POTABLE ALCANTARILLA...       0.000  0.000   \n",
       "NUEVA WAL-MART DE MEXICO, S. DE R.L. DE C.V.             0.000  0.000   \n",
       "BEBIDAS AZTECA DEL CENTRO, S.A. DE C.V.                  2.000  1.000   \n",
       "LA VOZ DE MICHOACAN, S.A. DE C.V.                        0.000  0.000   \n",
       "RESIDENCIAL TORREON NUEVO, S. A. DE C. V.                0.000  0.000   \n",
       "INSTITUTO TECNOLOGICO Y DE ESTUDIOS SUPERIORES ...       0.000  0.000   \n",
       "ROMULO AMARO GONZALEZ, HELIODORO AMARO GONZALEZ          0.000  0.000   \n",
       "PAROM, S.A. DE C.V.                                      0.000  0.000   \n",
       "RESINAS SINTETICAS, S.A. DE C.V.                         2.000  0.000   \n",
       "RICARDO NARANJO GONZALEZ                                 0.000  0.000   \n",
       "ANICETO MAGAÑA URBINA                                    0.000  0.000   \n",
       "SALVADOR VILLICAÑA MALDONADO                             0.000  0.000   \n",
       "TIENDAS COMERCIAL MEXICANA, S.A. DE C.V.                 0.000  0.000   \n",
       "UNION GANADERA REGIONAL DE MICHOACAN                     2.000  0.000   \n",
       "UNION NACIONAL DE RESINEROS, A.C.                        0.000  0.000   \n",
       "UNIVERSIDAD AUTONOMA CHAPINGO                            0.000  0.000   \n",
       "UNIVERSIDAD LATINA DE AMERICA, A.C.                      0.000  0.000   \n",
       "UNIVERSIDAD NACIONAL AUTONOMA DE MEXICO                  0.000  0.000   \n",
       "ROSA RODRIGUEZ OCHOA                                     0.000  0.000   \n",
       "MARTHA IMELDA GONZALEZ HUERTA                            0.000  0.000   \n",
       "MIGUEL RUIZ DE CHAVEZ URBINA                             0.000  0.000   \n",
       "MARCELA GUADALUPE SANCHEZ HERNANDEZ                      0.000  0.000   \n",
       "JUAN OCTAVIO MEJIA NEGRETE                               0.000  0.000   \n",
       "JOSE ARMANDO, LILIANA DE LA SALUD Y FRANCISCO J...       0.000  0.000   \n",
       "JOSE ALFREDO GODINEZ MALFAVON                            0.000  0.000   \n",
       "INMOBILIARIA Y CONSTRUCTORA SOLORZANO S.A. DE C.V.       0.000  0.000   \n",
       "FRIGORIFICO Y RASTRO DE MORELIA, S.A. DE C.V.            1.000  0.000   \n",
       "FRANCISCO OTERO PAJARO                                   0.000  0.000   \n",
       "ESVEYDE MARTINEZ BASURTO                                 0.000  0.000   \n",
       "EJIDO COINTZIO                                           0.000  0.000   \n",
       "CRISOBA INDUSTRIAL, S.A. DE C.V.                         1.000  1.000   \n",
       "CRISOBA INDUSTRIAL S.A. DE C.V.                          1.000  1.000   \n",
       "CLUB CAMPESTRE DE MORELIA, PROPIEDAD EN CONDOMINIO       0.000  0.000   \n",
       "CARLOS ALEJANDRO VILLICAÑA MALDONADO                     0.000  0.000   \n",
       "VICTOR MANUEL VILLICAÑA MALDONADO                        0.000  0.000   \n",
       "EJIDO SAN MIGUEL COAPA                                   0.000  0.000   \n",
       "\n",
       "USO QUE AMPARA EL TÍTULO                            PECUARIO  PÚBLICO URBANO  \\\n",
       "TITULAR                                                                        \n",
       "ORGANISMO OPERADOR DE AGUA POTABLE ALCANTARILLA...     0.000          45.000   \n",
       "NUEVA WAL-MART DE MEXICO, S. DE R.L. DE C.V.           0.000           0.000   \n",
       "BEBIDAS AZTECA DEL CENTRO, S.A. DE C.V.                0.000           0.000   \n",
       "LA VOZ DE MICHOACAN, S.A. DE C.V.                      0.000           0.000   \n",
       "RESIDENCIAL TORREON NUEVO, S. A. DE C. V.              0.000           0.000   \n",
       "INSTITUTO TECNOLOGICO Y DE ESTUDIOS SUPERIORES ...     0.000           0.000   \n",
       "ROMULO AMARO GONZALEZ, HELIODORO AMARO GONZALEZ        0.000           0.000   \n",
       "PAROM, S.A. DE C.V.                                    0.000           0.000   \n",
       "RESINAS SINTETICAS, S.A. DE C.V.                       0.000           0.000   \n",
       "RICARDO NARANJO GONZALEZ                               0.000           0.000   \n",
       "ANICETO MAGAÑA URBINA                                  0.000           0.000   \n",
       "SALVADOR VILLICAÑA MALDONADO                           1.000           0.000   \n",
       "TIENDAS COMERCIAL MEXICANA, S.A. DE C.V.               0.000           0.000   \n",
       "UNION GANADERA REGIONAL DE MICHOACAN                   0.000           0.000   \n",
       "UNION NACIONAL DE RESINEROS, A.C.                      0.000           0.000   \n",
       "UNIVERSIDAD AUTONOMA CHAPINGO                          0.000           0.000   \n",
       "UNIVERSIDAD LATINA DE AMERICA, A.C.                    0.000           0.000   \n",
       "UNIVERSIDAD NACIONAL AUTONOMA DE MEXICO                0.000           0.000   \n",
       "ROSA RODRIGUEZ OCHOA                                   0.000           0.000   \n",
       "MARTHA IMELDA GONZALEZ HUERTA                          0.000           0.000   \n",
       "MIGUEL RUIZ DE CHAVEZ URBINA                           0.000           0.000   \n",
       "MARCELA GUADALUPE SANCHEZ HERNANDEZ                    0.000           0.000   \n",
       "JUAN OCTAVIO MEJIA NEGRETE                             0.000           1.000   \n",
       "JOSE ARMANDO, LILIANA DE LA SALUD Y FRANCISCO J...     0.000           0.000   \n",
       "JOSE ALFREDO GODINEZ MALFAVON                          0.000           0.000   \n",
       "INMOBILIARIA Y CONSTRUCTORA SOLORZANO S.A. DE C.V.     0.000           0.000   \n",
       "FRIGORIFICO Y RASTRO DE MORELIA, S.A. DE C.V.          0.000           0.000   \n",
       "FRANCISCO OTERO PAJARO                                 0.000           0.000   \n",
       "ESVEYDE MARTINEZ BASURTO                               0.000           0.000   \n",
       "EJIDO COINTZIO                                         0.000           0.000   \n",
       "CRISOBA INDUSTRIAL, S.A. DE C.V.                       0.000           0.000   \n",
       "CRISOBA INDUSTRIAL S.A. DE C.V.                        0.000           0.000   \n",
       "CLUB CAMPESTRE DE MORELIA, PROPIEDAD EN CONDOMINIO     0.000           0.000   \n",
       "CARLOS ALEJANDRO VILLICAÑA MALDONADO                   0.000           0.000   \n",
       "VICTOR MANUEL VILLICAÑA MALDONADO                      0.000           0.000   \n",
       "EJIDO SAN MIGUEL COAPA                                 0.000           0.000   \n",
       "\n",
       "USO QUE AMPARA EL TÍTULO                            SERVICIOS  TOTAL  \n",
       "TITULAR                                                               \n",
       "ORGANISMO OPERADOR DE AGUA POTABLE ALCANTARILLA...      5.000 50.000  \n",
       "NUEVA WAL-MART DE MEXICO, S. DE R.L. DE C.V.            4.000  4.000  \n",
       "BEBIDAS AZTECA DEL CENTRO, S.A. DE C.V.                 0.000  3.000  \n",
       "LA VOZ DE MICHOACAN, S.A. DE C.V.                       3.000  3.000  \n",
       "RESIDENCIAL TORREON NUEVO, S. A. DE C. V.               3.000  3.000  \n",
       "INSTITUTO TECNOLOGICO Y DE ESTUDIOS SUPERIORES ...      3.000  3.000  \n",
       "ROMULO AMARO GONZALEZ, HELIODORO AMARO GONZALEZ         0.000  2.000  \n",
       "PAROM, S.A. DE C.V.                                     2.000  2.000  \n",
       "RESINAS SINTETICAS, S.A. DE C.V.                        0.000  2.000  \n",
       "RICARDO NARANJO GONZALEZ                                0.000  2.000  \n",
       "ANICETO MAGAÑA URBINA                                   0.000  2.000  \n",
       "SALVADOR VILLICAÑA MALDONADO                            0.000  2.000  \n",
       "TIENDAS COMERCIAL MEXICANA, S.A. DE C.V.                2.000  2.000  \n",
       "UNION GANADERA REGIONAL DE MICHOACAN                    0.000  2.000  \n",
       "UNION NACIONAL DE RESINEROS, A.C.                       2.000  2.000  \n",
       "UNIVERSIDAD AUTONOMA CHAPINGO                           0.000  2.000  \n",
       "UNIVERSIDAD LATINA DE AMERICA, A.C.                     2.000  2.000  \n",
       "UNIVERSIDAD NACIONAL AUTONOMA DE MEXICO                 2.000  2.000  \n",
       "ROSA RODRIGUEZ OCHOA                                    2.000  2.000  \n",
       "MARTHA IMELDA GONZALEZ HUERTA                           0.000  2.000  \n",
       "MIGUEL RUIZ DE CHAVEZ URBINA                            0.000  2.000  \n",
       "MARCELA GUADALUPE SANCHEZ HERNANDEZ                     1.000  2.000  \n",
       "JUAN OCTAVIO MEJIA NEGRETE                              1.000  2.000  \n",
       "JOSE ARMANDO, LILIANA DE LA SALUD Y FRANCISCO J...      0.000  2.000  \n",
       "JOSE ALFREDO GODINEZ MALFAVON                           0.000  2.000  \n",
       "INMOBILIARIA Y CONSTRUCTORA SOLORZANO S.A. DE C.V.      2.000  2.000  \n",
       "FRIGORIFICO Y RASTRO DE MORELIA, S.A. DE C.V.           1.000  2.000  \n",
       "FRANCISCO OTERO PAJARO                                  2.000  2.000  \n",
       "ESVEYDE MARTINEZ BASURTO                                0.000  2.000  \n",
       "EJIDO COINTZIO                                          0.000  2.000  \n",
       "CRISOBA INDUSTRIAL, S.A. DE C.V.                        0.000  2.000  \n",
       "CRISOBA INDUSTRIAL S.A. DE C.V.                         0.000  2.000  \n",
       "CLUB CAMPESTRE DE MORELIA, PROPIEDAD EN CONDOMINIO      2.000  2.000  \n",
       "CARLOS ALEJANDRO VILLICAÑA MALDONADO                    0.000  2.000  \n",
       "VICTOR MANUEL VILLICAÑA MALDONADO                       0.000  2.000  \n",
       "EJIDO SAN MIGUEL COAPA                                  0.000  1.000  "
      ]
     },
     "execution_count": 43,
     "metadata": {},
     "output_type": "execute_result"
    }
   ],
   "source": [
    "titularUsos"
   ]
  },
  {
   "cell_type": "code",
   "execution_count": 44,
   "metadata": {},
   "outputs": [
    {
     "data": {
      "image/png": "[encoded data removed]",
      "text/plain": [
       "<Figure size 432x288 with 1 Axes>"
      ]
     },
     "metadata": {},
     "output_type": "display_data"
    },
    {
     "data": {
      "image/png": "[encoded data removed]",
      "text/plain": [
       "<Figure size 432x288 with 1 Axes>"
      ]
     },
     "metadata": {},
     "output_type": "display_data"
    },
    {
     "data": {
      "image/png": "[encoded data removed]",
      "text/plain": [
       "<Figure size 432x288 with 1 Axes>"
      ]
     },
     "metadata": {},
     "output_type": "display_data"
    },
    {
     "data": {
      "image/png": "[encoded data removed]",
      "text/plain": [
       "<Figure size 432x288 with 1 Axes>"
      ]
     },
     "metadata": {},
     "output_type": "display_data"
    },
    {
     "data": {
      "image/png": "[encoded data removed]",
      "text/plain": [
       "<Figure size 432x288 with 1 Axes>"
      ]
     },
     "metadata": {},
     "output_type": "display_data"
    }
   ],
   "source": [
    "for col in titularUsos.columns[:-1]:\n",
    "    temp = titularUsos[titularUsos[col]>1].sort_values(by=col, ascending=False)\n",
    "    if temp.shape[0]==0:\n",
    "        continue\n",
    "    sns.barplot(y=temp.index,x=temp[col], color='b')\n",
    "    plt.title(\"Titulares para el uso \"+col.lower(),fontsize=16)\n",
    "    plt.xlabel(\"Cantitdad de títulos\")\n",
    "    plt.xticks(rotation=90)\n",
    "    plt.savefig('./Graficas/Titulares'+col+'.svg',dpi=350,bbox_inches=\"tight\")\n",
    "    plt.show()"
   ]
  },
  {
   "cell_type": "markdown",
   "metadata": {},
   "source": [
    "Vemos que solo para el uso público urbano hay un claro dueño y ese es el OOAPAS."
   ]
  },
  {
   "cell_type": "markdown",
   "metadata": {},
   "source": [
    "Lo siguiente es revisar la cantidad de títulos que tiene cada titular."
   ]
  },
  {
   "cell_type": "code",
   "execution_count": 45,
   "metadata": {},
   "outputs": [
    {
     "data": {
      "image/png": "[encoded data removed]",
      "text/plain": [
       "<Figure size 432x288 with 1 Axes>"
      ]
     },
     "metadata": {},
     "output_type": "display_data"
    }
   ],
   "source": [
    "sns.barplot(y=titularUsos.head(5).index,x=titularUsos.head(5)['TOTAL'], palette='Blues_r')\n",
    "plt.title(\"Los titulares con la mayor cantidad de títulos\",fontsize=16)\n",
    "plt.xlabel(\"Cantitdad de títulos\")\n",
    "plt.xticks(rotation=90)\n",
    "plt.savefig('./Graficas/TitularesTitulos.svg',dpi=350,bbox_inches=\"tight\")\n",
    "plt.show()"
   ]
  },
  {
   "cell_type": "markdown",
   "metadata": {},
   "source": [
    "Vemos que el OOAPAS es por mucho el organismo con la mayor cantidad de títulos."
   ]
  },
  {
   "cell_type": "markdown",
   "metadata": {},
   "source": [
    "Los siguiente es revisar cuánta agua es extraída por cada uno de los títulares."
   ]
  },
  {
   "cell_type": "code",
   "execution_count": 46,
   "metadata": {},
   "outputs": [],
   "source": [
    "titularesExtra = pd.pivot_table(data=repdaMor, index = 'TITULAR', values = 'VOLUMEN DE EXTRACCIÓN ANUAL DE AGUAS NACIONALES QUE AMPARA EL TÍTULO EN m3', aggfunc='sum')\n",
    "titularesExtra.sort_values(by='VOLUMEN DE EXTRACCIÓN ANUAL DE AGUAS NACIONALES QUE AMPARA EL TÍTULO EN m3', ascending=False, inplace=True)"
   ]
  },
  {
   "cell_type": "code",
   "execution_count": 47,
   "metadata": {},
   "outputs": [
    {
     "data": {
      "text/html": [
       "<div>\n",
       "<style scoped>\n",
       "    .dataframe tbody tr th:only-of-type {\n",
       "        vertical-align: middle;\n",
       "    }\n",
       "\n",
       "    .dataframe tbody tr th {\n",
       "        vertical-align: top;\n",
       "    }\n",
       "\n",
       "    .dataframe thead th {\n",
       "        text-align: right;\n",
       "    }\n",
       "</style>\n",
       "<table border=\"1\" class=\"dataframe\">\n",
       "  <thead>\n",
       "    <tr style=\"text-align: right;\">\n",
       "      <th></th>\n",
       "      <th>VOLUMEN DE EXTRACCIÓN ANUAL DE AGUAS NACIONALES QUE AMPARA EL TÍTULO EN m3</th>\n",
       "    </tr>\n",
       "    <tr>\n",
       "      <th>TITULAR</th>\n",
       "      <th></th>\n",
       "    </tr>\n",
       "  </thead>\n",
       "  <tbody>\n",
       "    <tr>\n",
       "      <th>ORGANISMO OPERADOR DE AGUA POTABLE ALCANTARILLADO Y SANEAMIENTO DE MORELIA</th>\n",
       "      <td>87102219.980</td>\n",
       "    </tr>\n",
       "    <tr>\n",
       "      <th>CRISOBA INDUSTRIAL S.A. DE C.V.</th>\n",
       "      <td>22075200.000</td>\n",
       "    </tr>\n",
       "    <tr>\n",
       "      <th>COMISION FEDERAL DE ELECTRICIDAD</th>\n",
       "      <td>17125000.000</td>\n",
       "    </tr>\n",
       "    <tr>\n",
       "      <th>POBLADO \"SAN ANTONIO PARANGARE\"</th>\n",
       "      <td>2488320.000</td>\n",
       "    </tr>\n",
       "    <tr>\n",
       "      <th>EJIDO SANTIAGO UNDAMEO</th>\n",
       "      <td>1531392.000</td>\n",
       "    </tr>\n",
       "    <tr>\n",
       "      <th>...</th>\n",
       "      <td>...</td>\n",
       "    </tr>\n",
       "    <tr>\n",
       "      <th>INSTITUTO TECNOLOGICO DE MORELIA</th>\n",
       "      <td>0.000</td>\n",
       "    </tr>\n",
       "    <tr>\n",
       "      <th>INTEGRA MM, S. A. DE C. V.</th>\n",
       "      <td>0.000</td>\n",
       "    </tr>\n",
       "    <tr>\n",
       "      <th>ISAIAS ARROYO GALLEGOS</th>\n",
       "      <td>0.000</td>\n",
       "    </tr>\n",
       "    <tr>\n",
       "      <th>J. DARIO ANTONIO DE JESUS REYES CORTES</th>\n",
       "      <td>0.000</td>\n",
       "    </tr>\n",
       "    <tr>\n",
       "      <th>YOLANDA LOPEZ MUÑOZ</th>\n",
       "      <td>0.000</td>\n",
       "    </tr>\n",
       "  </tbody>\n",
       "</table>\n",
       "<p>440 rows × 1 columns</p>\n",
       "</div>"
      ],
      "text/plain": [
       "                                                    VOLUMEN DE EXTRACCIÓN ANUAL DE AGUAS NACIONALES QUE AMPARA EL TÍTULO EN m3\n",
       "TITULAR                                                                                                                       \n",
       "ORGANISMO OPERADOR DE AGUA POTABLE ALCANTARILLA...                                       87102219.980                         \n",
       "CRISOBA INDUSTRIAL S.A. DE C.V.                                                          22075200.000                         \n",
       "COMISION FEDERAL DE ELECTRICIDAD                                                         17125000.000                         \n",
       "POBLADO \"SAN ANTONIO PARANGARE\"                                                           2488320.000                         \n",
       "EJIDO SANTIAGO UNDAMEO                                                                    1531392.000                         \n",
       "...                                                                                               ...                         \n",
       "INSTITUTO TECNOLOGICO DE MORELIA                                                                0.000                         \n",
       "INTEGRA MM, S. A. DE C. V.                                                                      0.000                         \n",
       "ISAIAS ARROYO GALLEGOS                                                                          0.000                         \n",
       "J. DARIO ANTONIO DE JESUS REYES CORTES                                                          0.000                         \n",
       "YOLANDA LOPEZ MUÑOZ                                                                             0.000                         \n",
       "\n",
       "[440 rows x 1 columns]"
      ]
     },
     "execution_count": 47,
     "metadata": {},
     "output_type": "execute_result"
    }
   ],
   "source": [
    "titularesExtra"
   ]
  },
  {
   "cell_type": "code",
   "execution_count": 48,
   "metadata": {},
   "outputs": [
    {
     "data": {
      "image/png": "[encoded data removed]",
      "text/plain": [
       "<Figure size 432x288 with 1 Axes>"
      ]
     },
     "metadata": {},
     "output_type": "display_data"
    }
   ],
   "source": [
    "sns.barplot(y=titularesExtra.head(5).index,x=titularesExtra.head(5)['VOLUMEN DE EXTRACCIÓN ANUAL DE AGUAS NACIONALES QUE AMPARA EL TÍTULO EN m3'], color='b')\n",
    "plt.title(\"Los titulares con la mayor extracción de agua\",fontsize=16)\n",
    "plt.xlabel(\"Agua extraída\\n(hm³/año)\")\n",
    "plt.xticks(ticks=[int(i) for i in range(0,int(100e6),int(10e6))],labels=[int(i/1e6) for i in range(0,int(100e6),int(10e6))],rotation=90)\n",
    "plt.savefig('./Graficas/TitularesExtraccion.svg',dpi=350,bbox_inches=\"tight\")\n",
    "plt.show()"
   ]
  },
  {
   "cell_type": "markdown",
   "metadata": {},
   "source": [
    "Una vex más, es el OOAPAS el titular que más destaca, sin embargo, tanto CRISOBA INDUSTRIAL S.A. DE C.V. como la CFE no están presentes en los titulares con más títulos. Por ello valdría la pena revisar el promedio de extracción por los anexos totales que sirven para la extracción."
   ]
  },
  {
   "cell_type": "code",
   "execution_count": 49,
   "metadata": {},
   "outputs": [],
   "source": [
    "titularesExtraAvg = pd.pivot_table(data=repdaMor, index = 'TITULAR', values = ['VOLUMEN DE EXTRACCIÓN ANUAL DE AGUAS NACIONALES QUE AMPARA EL TÍTULO EN m3','APROVECHAMIENTOS SUBTERRÁNEOS QUE AMPARA EL TÍTULO','APROVECHAMIENTOS SUPERFICIALES QUE AMPARA EL TÍTULO'], aggfunc='sum')\n",
    "titularesExtraAvg['ANEXOS DE EXTRACCIÓN'] = titularesExtraAvg['APROVECHAMIENTOS SUPERFICIALES QUE AMPARA EL TÍTULO']+ titularesExtraAvg['APROVECHAMIENTOS SUBTERRÁNEOS QUE AMPARA EL TÍTULO']\n",
    "titularesExtraAvg = titularesExtraAvg[titularesExtraAvg['ANEXOS DE EXTRACCIÓN']>0]\n",
    "titularesExtraAvg['PROMEDIO EN m3'] = titularesExtra['VOLUMEN DE EXTRACCIÓN ANUAL DE AGUAS NACIONALES QUE AMPARA EL TÍTULO EN m3']/ titularesExtraAvg['ANEXOS DE EXTRACCIÓN']\n",
    "titularesExtraAvg.sort_values(by='PROMEDIO EN m3', ascending=False, inplace=True)"
   ]
  },
  {
   "cell_type": "code",
   "execution_count": 50,
   "metadata": {},
   "outputs": [
    {
     "data": {
      "text/html": [
       "<div>\n",
       "<style scoped>\n",
       "    .dataframe tbody tr th:only-of-type {\n",
       "        vertical-align: middle;\n",
       "    }\n",
       "\n",
       "    .dataframe tbody tr th {\n",
       "        vertical-align: top;\n",
       "    }\n",
       "\n",
       "    .dataframe thead th {\n",
       "        text-align: right;\n",
       "    }\n",
       "</style>\n",
       "<table border=\"1\" class=\"dataframe\">\n",
       "  <thead>\n",
       "    <tr style=\"text-align: right;\">\n",
       "      <th></th>\n",
       "      <th>APROVECHAMIENTOS SUBTERRÁNEOS QUE AMPARA EL TÍTULO</th>\n",
       "      <th>APROVECHAMIENTOS SUPERFICIALES QUE AMPARA EL TÍTULO</th>\n",
       "      <th>VOLUMEN DE EXTRACCIÓN ANUAL DE AGUAS NACIONALES QUE AMPARA EL TÍTULO EN m3</th>\n",
       "      <th>ANEXOS DE EXTRACCIÓN</th>\n",
       "      <th>PROMEDIO EN m3</th>\n",
       "    </tr>\n",
       "    <tr>\n",
       "      <th>TITULAR</th>\n",
       "      <th></th>\n",
       "      <th></th>\n",
       "      <th></th>\n",
       "      <th></th>\n",
       "      <th></th>\n",
       "    </tr>\n",
       "  </thead>\n",
       "  <tbody>\n",
       "    <tr>\n",
       "      <th>COMISION FEDERAL DE ELECTRICIDAD</th>\n",
       "      <td>0</td>\n",
       "      <td>1</td>\n",
       "      <td>17125000.000</td>\n",
       "      <td>1</td>\n",
       "      <td>17125000.000</td>\n",
       "    </tr>\n",
       "    <tr>\n",
       "      <th>CRISOBA INDUSTRIAL S.A. DE C.V.</th>\n",
       "      <td>1</td>\n",
       "      <td>1</td>\n",
       "      <td>22075200.000</td>\n",
       "      <td>2</td>\n",
       "      <td>11037600.000</td>\n",
       "    </tr>\n",
       "    <tr>\n",
       "      <th>POBLADO \"SAN ANTONIO PARANGARE\"</th>\n",
       "      <td>0</td>\n",
       "      <td>1</td>\n",
       "      <td>2488320.000</td>\n",
       "      <td>1</td>\n",
       "      <td>2488320.000</td>\n",
       "    </tr>\n",
       "    <tr>\n",
       "      <th>ORGANISMO OPERADOR DE AGUA POTABLE ALCANTARILLADO Y SANEAMIENTO DE MORELIA</th>\n",
       "      <td>81</td>\n",
       "      <td>8</td>\n",
       "      <td>87102219.980</td>\n",
       "      <td>89</td>\n",
       "      <td>978676.629</td>\n",
       "    </tr>\n",
       "    <tr>\n",
       "      <th>URDERAL HUMBERTO GUZMAN</th>\n",
       "      <td>0</td>\n",
       "      <td>1</td>\n",
       "      <td>943388.000</td>\n",
       "      <td>1</td>\n",
       "      <td>943388.000</td>\n",
       "    </tr>\n",
       "    <tr>\n",
       "      <th>...</th>\n",
       "      <td>...</td>\n",
       "      <td>...</td>\n",
       "      <td>...</td>\n",
       "      <td>...</td>\n",
       "      <td>...</td>\n",
       "    </tr>\n",
       "    <tr>\n",
       "      <th>FELIPE RENDON MEDINA</th>\n",
       "      <td>0</td>\n",
       "      <td>1</td>\n",
       "      <td>383.250</td>\n",
       "      <td>1</td>\n",
       "      <td>383.250</td>\n",
       "    </tr>\n",
       "    <tr>\n",
       "      <th>EL PINO, S.A. DE C.V.</th>\n",
       "      <td>1</td>\n",
       "      <td>0</td>\n",
       "      <td>338.000</td>\n",
       "      <td>1</td>\n",
       "      <td>338.000</td>\n",
       "    </tr>\n",
       "    <tr>\n",
       "      <th>FRANCISCO SUAREZ PARRA</th>\n",
       "      <td>1</td>\n",
       "      <td>0</td>\n",
       "      <td>329.000</td>\n",
       "      <td>1</td>\n",
       "      <td>329.000</td>\n",
       "    </tr>\n",
       "    <tr>\n",
       "      <th>C.F.E., GENERACION II</th>\n",
       "      <td>0</td>\n",
       "      <td>1</td>\n",
       "      <td>91.250</td>\n",
       "      <td>1</td>\n",
       "      <td>91.250</td>\n",
       "    </tr>\n",
       "    <tr>\n",
       "      <th>URBASUR</th>\n",
       "      <td>1</td>\n",
       "      <td>0</td>\n",
       "      <td>0.000</td>\n",
       "      <td>1</td>\n",
       "      <td>0.000</td>\n",
       "    </tr>\n",
       "  </tbody>\n",
       "</table>\n",
       "<p>247 rows × 5 columns</p>\n",
       "</div>"
      ],
      "text/plain": [
       "                                                    APROVECHAMIENTOS SUBTERRÁNEOS QUE AMPARA EL TÍTULO  \\\n",
       "TITULAR                                                                                                  \n",
       "COMISION FEDERAL DE ELECTRICIDAD                                                                    0    \n",
       "CRISOBA INDUSTRIAL S.A. DE C.V.                                                                     1    \n",
       "POBLADO \"SAN ANTONIO PARANGARE\"                                                                     0    \n",
       "ORGANISMO OPERADOR DE AGUA POTABLE ALCANTARILLA...                                                 81    \n",
       "URDERAL HUMBERTO GUZMAN                                                                             0    \n",
       "...                                                                                               ...    \n",
       "FELIPE RENDON MEDINA                                                                                0    \n",
       "EL PINO, S.A. DE C.V.                                                                               1    \n",
       "FRANCISCO SUAREZ PARRA                                                                              1    \n",
       "C.F.E., GENERACION II                                                                               0    \n",
       "URBASUR                                                                                             1    \n",
       "\n",
       "                                                    APROVECHAMIENTOS SUPERFICIALES QUE AMPARA EL TÍTULO  \\\n",
       "TITULAR                                                                                                   \n",
       "COMISION FEDERAL DE ELECTRICIDAD                                                                    1     \n",
       "CRISOBA INDUSTRIAL S.A. DE C.V.                                                                     1     \n",
       "POBLADO \"SAN ANTONIO PARANGARE\"                                                                     1     \n",
       "ORGANISMO OPERADOR DE AGUA POTABLE ALCANTARILLA...                                                  8     \n",
       "URDERAL HUMBERTO GUZMAN                                                                             1     \n",
       "...                                                                                               ...     \n",
       "FELIPE RENDON MEDINA                                                                                1     \n",
       "EL PINO, S.A. DE C.V.                                                                               0     \n",
       "FRANCISCO SUAREZ PARRA                                                                              0     \n",
       "C.F.E., GENERACION II                                                                               1     \n",
       "URBASUR                                                                                             0     \n",
       "\n",
       "                                                    VOLUMEN DE EXTRACCIÓN ANUAL DE AGUAS NACIONALES QUE AMPARA EL TÍTULO EN m3  \\\n",
       "TITULAR                                                                                                                          \n",
       "COMISION FEDERAL DE ELECTRICIDAD                                                         17125000.000                            \n",
       "CRISOBA INDUSTRIAL S.A. DE C.V.                                                          22075200.000                            \n",
       "POBLADO \"SAN ANTONIO PARANGARE\"                                                           2488320.000                            \n",
       "ORGANISMO OPERADOR DE AGUA POTABLE ALCANTARILLA...                                       87102219.980                            \n",
       "URDERAL HUMBERTO GUZMAN                                                                    943388.000                            \n",
       "...                                                                                               ...                            \n",
       "FELIPE RENDON MEDINA                                                                          383.250                            \n",
       "EL PINO, S.A. DE C.V.                                                                         338.000                            \n",
       "FRANCISCO SUAREZ PARRA                                                                        329.000                            \n",
       "C.F.E., GENERACION II                                                                          91.250                            \n",
       "URBASUR                                                                                         0.000                            \n",
       "\n",
       "                                                    ANEXOS DE EXTRACCIÓN  \\\n",
       "TITULAR                                                                    \n",
       "COMISION FEDERAL DE ELECTRICIDAD                                       1   \n",
       "CRISOBA INDUSTRIAL S.A. DE C.V.                                        2   \n",
       "POBLADO \"SAN ANTONIO PARANGARE\"                                        1   \n",
       "ORGANISMO OPERADOR DE AGUA POTABLE ALCANTARILLA...                    89   \n",
       "URDERAL HUMBERTO GUZMAN                                                1   \n",
       "...                                                                  ...   \n",
       "FELIPE RENDON MEDINA                                                   1   \n",
       "EL PINO, S.A. DE C.V.                                                  1   \n",
       "FRANCISCO SUAREZ PARRA                                                 1   \n",
       "C.F.E., GENERACION II                                                  1   \n",
       "URBASUR                                                                1   \n",
       "\n",
       "                                                    PROMEDIO EN m3  \n",
       "TITULAR                                                             \n",
       "COMISION FEDERAL DE ELECTRICIDAD                      17125000.000  \n",
       "CRISOBA INDUSTRIAL S.A. DE C.V.                       11037600.000  \n",
       "POBLADO \"SAN ANTONIO PARANGARE\"                        2488320.000  \n",
       "ORGANISMO OPERADOR DE AGUA POTABLE ALCANTARILLA...      978676.629  \n",
       "URDERAL HUMBERTO GUZMAN                                 943388.000  \n",
       "...                                                            ...  \n",
       "FELIPE RENDON MEDINA                                       383.250  \n",
       "EL PINO, S.A. DE C.V.                                      338.000  \n",
       "FRANCISCO SUAREZ PARRA                                     329.000  \n",
       "C.F.E., GENERACION II                                       91.250  \n",
       "URBASUR                                                      0.000  \n",
       "\n",
       "[247 rows x 5 columns]"
      ]
     },
     "execution_count": 50,
     "metadata": {},
     "output_type": "execute_result"
    }
   ],
   "source": [
    "titularesExtraAvg"
   ]
  },
  {
   "cell_type": "code",
   "execution_count": 51,
   "metadata": {},
   "outputs": [
    {
     "data": {
      "image/png": "[encoded data removed]",
      "text/plain": [
       "<Figure size 432x288 with 1 Axes>"
      ]
     },
     "metadata": {},
     "output_type": "display_data"
    }
   ],
   "source": [
    "sns.barplot(y=titularesExtraAvg.head(5).index,x=titularesExtraAvg.head(5)['PROMEDIO EN m3'], color='b')\n",
    "plt.title(\"Los titulares que extraen más agua por título\",fontsize=16)\n",
    "plt.xlabel(\"Agua extraída\\n(hm³/año)\")\n",
    "plt.xticks(ticks=[int(i) for i in range(0,int(17e6),int(1e6))],labels=[int(i/1e6) for i in range(0,int(17e6),int(1e6))],rotation=90)\n",
    "plt.savefig('./Graficas/TitularesExtraccionPromedio.svg',dpi=350,bbox_inches=\"tight\")\n",
    "plt.show()"
   ]
  },
  {
   "cell_type": "markdown",
   "metadata": {},
   "source": [
    "Vemos que en promedio la CFE y CRISOBA INDUSTRIAL S.A. DE C.V. son quienes extraen la mayor cantidad de aguas nacionales en Morelia."
   ]
  },
  {
   "cell_type": "markdown",
   "metadata": {},
   "source": [
    "Lo siguiente es ver la cantidad de anexos que tiene cada titular."
   ]
  },
  {
   "cell_type": "code",
   "execution_count": 52,
   "metadata": {},
   "outputs": [],
   "source": [
    "titularesAnexo = pd.pivot_table(data=repdaMor, index = 'TITULAR', values = 'TOTAL DE ANEXOS', aggfunc='sum')\n",
    "titularesAnexo.sort_values(by='TOTAL DE ANEXOS', ascending=False, inplace=True)"
   ]
  },
  {
   "cell_type": "code",
   "execution_count": 53,
   "metadata": {},
   "outputs": [
    {
     "data": {
      "text/html": [
       "<div>\n",
       "<style scoped>\n",
       "    .dataframe tbody tr th:only-of-type {\n",
       "        vertical-align: middle;\n",
       "    }\n",
       "\n",
       "    .dataframe tbody tr th {\n",
       "        vertical-align: top;\n",
       "    }\n",
       "\n",
       "    .dataframe thead th {\n",
       "        text-align: right;\n",
       "    }\n",
       "</style>\n",
       "<table border=\"1\" class=\"dataframe\">\n",
       "  <thead>\n",
       "    <tr style=\"text-align: right;\">\n",
       "      <th></th>\n",
       "      <th>TOTAL DE ANEXOS</th>\n",
       "    </tr>\n",
       "    <tr>\n",
       "      <th>TITULAR</th>\n",
       "      <th></th>\n",
       "    </tr>\n",
       "  </thead>\n",
       "  <tbody>\n",
       "    <tr>\n",
       "      <th>ORGANISMO OPERADOR DE AGUA POTABLE ALCANTARILLADO Y SANEAMIENTO DE MORELIA</th>\n",
       "      <td>109</td>\n",
       "    </tr>\n",
       "    <tr>\n",
       "      <th>AGROPECUARIA TARASCA, S. DE P.R. DE R.L.</th>\n",
       "      <td>13</td>\n",
       "    </tr>\n",
       "    <tr>\n",
       "      <th>CONSTRUCTORA E INMOBILIARIA VALLADOLID, S.A. DE C.V.</th>\n",
       "      <td>9</td>\n",
       "    </tr>\n",
       "    <tr>\n",
       "      <th>INSTITUTO DE SEGURIDAD Y SERVICIOS SOCIALES DE LOS TRABAJADORES DEL ESTADO</th>\n",
       "      <td>8</td>\n",
       "    </tr>\n",
       "    <tr>\n",
       "      <th>CARLOS ALEJANDRO VILLICAÑA MALDONADO</th>\n",
       "      <td>7</td>\n",
       "    </tr>\n",
       "  </tbody>\n",
       "</table>\n",
       "</div>"
      ],
      "text/plain": [
       "                                                    TOTAL DE ANEXOS\n",
       "TITULAR                                                            \n",
       "ORGANISMO OPERADOR DE AGUA POTABLE ALCANTARILLA...              109\n",
       "AGROPECUARIA TARASCA, S. DE P.R. DE R.L.                         13\n",
       "CONSTRUCTORA E INMOBILIARIA VALLADOLID, S.A. DE...                9\n",
       "INSTITUTO DE SEGURIDAD Y SERVICIOS SOCIALES DE ...                8\n",
       "CARLOS ALEJANDRO VILLICAÑA MALDONADO                              7"
      ]
     },
     "execution_count": 53,
     "metadata": {},
     "output_type": "execute_result"
    }
   ],
   "source": [
    "titularesAnexo.head()"
   ]
  },
  {
   "cell_type": "code",
   "execution_count": 54,
   "metadata": {},
   "outputs": [
    {
     "data": {
      "image/png": "[encoded data removed]",
      "text/plain": [
       "<Figure size 432x288 with 1 Axes>"
      ]
     },
     "metadata": {},
     "output_type": "display_data"
    }
   ],
   "source": [
    "sns.barplot(y=titularesAnexo.head(5).index,x=titularesAnexo.head(5)['TOTAL DE ANEXOS'], color='b')\n",
    "plt.title(\"Los titulares con la mayor cantidad de anexos\",fontsize=16)\n",
    "plt.xlabel(\"Cantitdad de anexos\")\n",
    "plt.xticks(rotation=90)\n",
    "plt.savefig('./Graficas/TitularesAnexos.svg',dpi=350,bbox_inches=\"tight\")\n",
    "plt.show()"
   ]
  },
  {
   "cell_type": "markdown",
   "metadata": {},
   "source": [
    "De nuevo aparece el OOAPAS en primer lugar, pero llama la atención la aparición de otros titulares que no figuraban por tener una gran cantidad de registros o extracción de agua."
   ]
  },
  {
   "cell_type": "markdown",
   "metadata": {},
   "source": [
    "Lo siguiente que podemos revisar es la superficie, teniendo en cuenta que tendremos como resultado unicamente a aquellos que tienen anexos de Zonas Federales."
   ]
  },
  {
   "cell_type": "code",
   "execution_count": 55,
   "metadata": {},
   "outputs": [],
   "source": [
    "titularesSuper = pd.pivot_table(data=repdaMor, index = 'TITULAR', values = 'SUPERFICIE EN m2', aggfunc='sum')\n",
    "titularesSuper.sort_values(by='SUPERFICIE EN m2', ascending=False, inplace=True)"
   ]
  },
  {
   "cell_type": "code",
   "execution_count": 56,
   "metadata": {},
   "outputs": [
    {
     "data": {
      "text/html": [
       "<div>\n",
       "<style scoped>\n",
       "    .dataframe tbody tr th:only-of-type {\n",
       "        vertical-align: middle;\n",
       "    }\n",
       "\n",
       "    .dataframe tbody tr th {\n",
       "        vertical-align: top;\n",
       "    }\n",
       "\n",
       "    .dataframe thead th {\n",
       "        text-align: right;\n",
       "    }\n",
       "</style>\n",
       "<table border=\"1\" class=\"dataframe\">\n",
       "  <thead>\n",
       "    <tr style=\"text-align: right;\">\n",
       "      <th></th>\n",
       "      <th>SUPERFICIE EN m2</th>\n",
       "    </tr>\n",
       "    <tr>\n",
       "      <th>TITULAR</th>\n",
       "      <th></th>\n",
       "    </tr>\n",
       "  </thead>\n",
       "  <tbody>\n",
       "    <tr>\n",
       "      <th>MIGUEL ALVARADO VILLA</th>\n",
       "      <td>40520.000</td>\n",
       "    </tr>\n",
       "    <tr>\n",
       "      <th>CELIN CORTES GALLEGOS</th>\n",
       "      <td>36312.500</td>\n",
       "    </tr>\n",
       "    <tr>\n",
       "      <th>PAROM, S.A. DE C.V.</th>\n",
       "      <td>36100.000</td>\n",
       "    </tr>\n",
       "    <tr>\n",
       "      <th>ORGANISMO OPERADOR DE AGUA POTABLE ALCANTARILLADO Y SANEAMIENTO DE MORELIA</th>\n",
       "      <td>33367.000</td>\n",
       "    </tr>\n",
       "    <tr>\n",
       "      <th>INTEGRA MM, S. A. DE C. V.</th>\n",
       "      <td>33000.000</td>\n",
       "    </tr>\n",
       "    <tr>\n",
       "      <th>...</th>\n",
       "      <td>...</td>\n",
       "    </tr>\n",
       "    <tr>\n",
       "      <th>FRANCISCO AGUILAR CHAVEZ</th>\n",
       "      <td>0.000</td>\n",
       "    </tr>\n",
       "    <tr>\n",
       "      <th>FONDO DE GARANTIA Y FOMENTO PARA LA AGRICULTURA, GANADERIA Y AVICULTURA</th>\n",
       "      <td>0.000</td>\n",
       "    </tr>\n",
       "    <tr>\n",
       "      <th>FONDO DE GARANTIA Y FOMENTO PARA LA AGRICULTURA GANADERIA Y AVICULTURA</th>\n",
       "      <td>0.000</td>\n",
       "    </tr>\n",
       "    <tr>\n",
       "      <th>FLORENTINO NUÑEZ MARTINEZ</th>\n",
       "      <td>0.000</td>\n",
       "    </tr>\n",
       "    <tr>\n",
       "      <th>YOLANDA LOPEZ MUÑOZ</th>\n",
       "      <td>0.000</td>\n",
       "    </tr>\n",
       "  </tbody>\n",
       "</table>\n",
       "<p>440 rows × 1 columns</p>\n",
       "</div>"
      ],
      "text/plain": [
       "                                                    SUPERFICIE EN m2\n",
       "TITULAR                                                             \n",
       "MIGUEL ALVARADO VILLA                                      40520.000\n",
       "CELIN CORTES GALLEGOS                                      36312.500\n",
       "PAROM, S.A. DE C.V.                                        36100.000\n",
       "ORGANISMO OPERADOR DE AGUA POTABLE ALCANTARILLA...         33367.000\n",
       "INTEGRA MM, S. A. DE C. V.                                 33000.000\n",
       "...                                                              ...\n",
       "FRANCISCO AGUILAR CHAVEZ                                       0.000\n",
       "FONDO DE GARANTIA Y FOMENTO PARA LA AGRICULTURA...             0.000\n",
       "FONDO DE GARANTIA Y FOMENTO PARA LA AGRICULTURA...             0.000\n",
       "FLORENTINO NUÑEZ MARTINEZ                                      0.000\n",
       "YOLANDA LOPEZ MUÑOZ                                            0.000\n",
       "\n",
       "[440 rows x 1 columns]"
      ]
     },
     "execution_count": 56,
     "metadata": {},
     "output_type": "execute_result"
    }
   ],
   "source": [
    "titularesSuper"
   ]
  },
  {
   "cell_type": "code",
   "execution_count": 57,
   "metadata": {},
   "outputs": [
    {
     "data": {
      "image/png": "[encoded data removed]",
      "text/plain": [
       "<Figure size 432x288 with 1 Axes>"
      ]
     },
     "metadata": {},
     "output_type": "display_data"
    }
   ],
   "source": [
    "sns.barplot(y=titularesSuper.head(5).index,x=titularesSuper.head(5)['SUPERFICIE EN m2'], color='b')\n",
    "plt.title(\"Titulares con la mayor cantidad de superficie\",fontsize=16)\n",
    "plt.xlabel(\"Superficie m²\")\n",
    "plt.xticks(rotation=90)\n",
    "plt.savefig('./Graficas/TitularesSuperficie.svg',dpi=350,bbox_inches=\"tight\")\n",
    "plt.show()"
   ]
  },
  {
   "cell_type": "markdown",
   "metadata": {},
   "source": [
    "Vemos que la mayor cantidad de superficie la tiene un particular."
   ]
  },
  {
   "cell_type": "markdown",
   "metadata": {},
   "source": [
    "## Fechas"
   ]
  },
  {
   "cell_type": "markdown",
   "metadata": {},
   "source": [
    "### Títulos"
   ]
  },
  {
   "cell_type": "markdown",
   "metadata": {},
   "source": [
    "Una de las cosas que llama la atención es la variadad de formatos que existen para el título, de acuerdo al  [diccionario de datos](https://files.conagua.gob.mx/conagua/Diccionarios/Diccionario_Datos_concesiones.pdf), la longitud del título debería ser de 20 caracteres, son embargo, hay algunos que solo tienen digitos. "
   ]
  },
  {
   "cell_type": "markdown",
   "metadata": {},
   "source": [
    "Para revisar los formatos, nos vamos a enfocar en las longitudes"
   ]
  },
  {
   "cell_type": "code",
   "execution_count": 58,
   "metadata": {},
   "outputs": [
    {
     "data": {
      "text/plain": [
       "20    368\n",
       "19     87\n",
       "6      35\n",
       "9      26\n",
       "11     13\n",
       "Name: TÍTULO, dtype: int64"
      ]
     },
     "execution_count": 58,
     "metadata": {},
     "output_type": "execute_result"
    }
   ],
   "source": [
    "pd.Series(repdaMor.TÍTULO.apply(lambda x: len(x))).value_counts()"
   ]
  },
  {
   "cell_type": "markdown",
   "metadata": {},
   "source": [
    "Veamos ejemplos para cada longitud"
   ]
  },
  {
   "cell_type": "code",
   "execution_count": 59,
   "metadata": {},
   "outputs": [
    {
     "name": "stdout",
     "output_type": "stream",
     "text": [
      "Título con 20 caracteres:\n",
      "08MCH102078/12AOGE00\n",
      "Título con 19 caracteres:\n",
      "4MCH100151/12FMGR94\n",
      "Título con 6 caracteres:\n",
      "814967\n",
      "Título con 9 caracteres:\n",
      "MCH100116\n",
      "Título con 11 caracteres:\n",
      "08MCH104357\n"
     ]
    }
   ],
   "source": [
    "for l in [20,19,6,9,11]:\n",
    "    temp = repdaMor[repdaMor.TÍTULO.apply(lambda x: len(x))==l]['TÍTULO'].head(1)\n",
    "    print(f\"Título con {l} caracteres:\")\n",
    "    print(list(temp)[0])"
   ]
  },
  {
   "cell_type": "markdown",
   "metadata": {},
   "source": [
    "Vemos que parece que la diferencia entre el registro de 20 caracteres y el de 19, es que el de 19 no considera el cero inicial, por lo que podemos revisar todos para comprobar que esto es lo que pasa."
   ]
  },
  {
   "cell_type": "code",
   "execution_count": 60,
   "metadata": {},
   "outputs": [
    {
     "data": {
      "text/plain": [
       "array(['4MCH100151/12FMGR94', '4MCH100152/12FMGR94',\n",
       "       '4MCH100208/12JBSG94', '4MCH100212/12FOSG94',\n",
       "       '4MCH100548/12FDGE94', '4MCH100608/12LCGE94',\n",
       "       '4MCH100896/12LCGE94', '4MCH100995/12COGE94',\n",
       "       '4MCH100996/12IOGE94', '4MCH101002/12COGE94',\n",
       "       '4MCH101009/12HGGE94', '4MCH101064/12FMGE94',\n",
       "       '4MCH101078/12HMGE94', '4MCH101198/12LAGE94',\n",
       "       '4MCH101225/12LCGE94', '4MCH101464/12LCGE94',\n",
       "       '4MCH101576/12LDGE94', '4MCH101637/12HMGE94',\n",
       "       '4MCH101835/12FMGE94', '4MCH101854/12LCGE94',\n",
       "       '4MCH101869/12AOGE94', '4MCH101870/12AAGE94',\n",
       "       '4MCH101884/12LCGE94', '4MCH101958/12LCGE94',\n",
       "       '4MCH102082/12LAGE96', '4MCH102132/12LOGE94',\n",
       "       '4MCH102135/12HMGE94', '4MCH102140/12COGE94',\n",
       "       '4MCH102173/12HOGE95', '4MCH102207/12AMGE95',\n",
       "       '4MCH102273/12HMGE95', '4MCH102283/12FMGE95',\n",
       "       '4MCH102284/12FMGE95', '4MCH102466/12AOGE95',\n",
       "       '4MCH102497/12IMGE95', '4MCH102516/12EMGE95',\n",
       "       '4MCH102518/12IMGE95', '4MCH102553/12AOGE95',\n",
       "       '4MCH102637/12ACGE95', '4MCH102914/12ABGE95',\n",
       "       '4MCH102917/12GCGE95', '4MCH102942/12LCGE95',\n",
       "       '4MCH102980/12COGE95', '4MCH103047/12LCGE95',\n",
       "       '4MCH103056/12LCGE95', '4MCH103057/12AEGE95',\n",
       "       '4MCH103112/12COGE95', '4MCH103238/12LCGE95',\n",
       "       '4MCH103261/12LCGE95', '4MCH103277/12LCGE95',\n",
       "       '4MCH103302/12AEGE95', '4MCH103317/12GBGE95',\n",
       "       '4MCH103319/12ABGE95', '4MCH103328/12EBGE95',\n",
       "       '4MCH103390/12CMGE95', '4MCH103405/12HMGE95',\n",
       "       '4MCH103410/12EMGE95', '4MCH103412/12CMGE95',\n",
       "       '4MCH103519/12HMGE95', '4MCH103566/12COGE95',\n",
       "       '4MCH103869/12HMGE95', '4MCH103917/12COGE95',\n",
       "       '4MCH104502/12AAGE95', '4MCH104630/12HOGE96',\n",
       "       '4MCH104948/12LDGE96', '4MCH105181/12HMGE96',\n",
       "       '4MCH105332/12ICGE96', '4MCH105334/12LDGE96',\n",
       "       '4MCH105339/12APGE96', '4MCH105346/12COGE96',\n",
       "       '4MCH105382/12LDGE96', '4MCH105507/12CMGE96',\n",
       "       '4MCH105826/12FMGE97', '4MCH105876/12AOTA95',\n",
       "       '4MCH101106/12HMGE94', '4MCH100581/12HMGE94',\n",
       "       '4MCH100584/12HMGE94', '4MCH100693/12EMGE94',\n",
       "       '4MCH100724/12EMGE94', '4MCH100728/12FRGE94',\n",
       "       '4MCH101112/12FMGE94', '4MCH100002/12ERGE94',\n",
       "       '4MCH105191/12EOGE96', '4MCH100726/12ERGE94',\n",
       "       '4MCH101743/12HMGE94', '4MCH102172/12FMGE95',\n",
       "       '4MCH101787/12ACGE94'], dtype=object)"
      ]
     },
     "execution_count": 60,
     "metadata": {},
     "output_type": "execute_result"
    }
   ],
   "source": [
    "np.array(repdaMor[repdaMor.TÍTULO.apply(lambda x: len(x))==19]['TÍTULO'])"
   ]
  },
  {
   "cell_type": "markdown",
   "metadata": {},
   "source": [
    "Con esto comprobamos la sospecha existente. Por lo que entre estos dos formatos, lo que se debe de revisar son las fechas, para ver si fue un cambio que se hizo a partir de algún año."
   ]
  },
  {
   "cell_type": "code",
   "execution_count": 61,
   "metadata": {},
   "outputs": [
    {
     "data": {
      "text/plain": [
       "count                              368\n",
       "mean     2008-01-04 07:57:23.478260992\n",
       "min                1994-10-17 00:00:00\n",
       "25%                2000-11-21 06:00:00\n",
       "50%                2008-04-18 00:00:00\n",
       "75%                2015-10-01 00:00:00\n",
       "max                2019-01-21 00:00:00\n",
       "Name: FECHA DE REGISTRO, dtype: object"
      ]
     },
     "execution_count": 61,
     "metadata": {},
     "output_type": "execute_result"
    }
   ],
   "source": [
    "repdaMor[repdaMor.TÍTULO.apply(lambda x: len(x))==20]['FECHA DE REGISTRO'].describe(datetime_is_numeric=True)"
   ]
  },
  {
   "cell_type": "code",
   "execution_count": 62,
   "metadata": {},
   "outputs": [
    {
     "data": {
      "text/plain": [
       "count                               87\n",
       "mean     1995-12-02 15:10:20.689655168\n",
       "min                1994-05-13 00:00:00\n",
       "25%                1995-05-12 00:00:00\n",
       "50%                1996-01-04 00:00:00\n",
       "75%                1996-03-27 00:00:00\n",
       "max                1998-10-03 00:00:00\n",
       "Name: FECHA DE REGISTRO, dtype: object"
      ]
     },
     "execution_count": 62,
     "metadata": {},
     "output_type": "execute_result"
    }
   ],
   "source": [
    "repdaMor[repdaMor.TÍTULO.apply(lambda x: len(x))==19]['FECHA DE REGISTRO'].describe(datetime_is_numeric=True)"
   ]
  },
  {
   "cell_type": "markdown",
   "metadata": {},
   "source": [
    "Podemos darnos cuenta que existe un traslape de fehcas entre ambos formatos, lo que nos indica que se trata de una inconsistencia en los registros."
   ]
  },
  {
   "cell_type": "markdown",
   "metadata": {},
   "source": [
    "Otra similutud entre los formatos es cuando tienen 9 y 11 caracteres, ya que la diferencia parece ser los dos dígitos antes del _MCH_, a su vez parece ser la primera parte de los que tienen 20 caracteres. Así que vamos a revisar lo que pasa con las fechas de los registros."
   ]
  },
  {
   "cell_type": "code",
   "execution_count": 63,
   "metadata": {},
   "outputs": [
    {
     "data": {
      "text/plain": [
       "count                               26\n",
       "mean     2005-05-24 15:41:32.307692288\n",
       "min                1994-08-09 00:00:00\n",
       "25%                1999-12-06 00:00:00\n",
       "50%                2001-04-15 12:00:00\n",
       "75%                2012-09-16 06:00:00\n",
       "max                2018-09-18 00:00:00\n",
       "Name: FECHA DE REGISTRO, dtype: object"
      ]
     },
     "execution_count": 63,
     "metadata": {},
     "output_type": "execute_result"
    }
   ],
   "source": [
    "repdaMor[repdaMor.TÍTULO.apply(lambda x: len(x))==9]['FECHA DE REGISTRO'].describe(datetime_is_numeric=True)"
   ]
  },
  {
   "cell_type": "code",
   "execution_count": 64,
   "metadata": {},
   "outputs": [
    {
     "data": {
      "text/plain": [
       "count                     13\n",
       "mean     2006-06-09 00:00:00\n",
       "min      1994-10-18 00:00:00\n",
       "25%      1996-10-04 00:00:00\n",
       "50%      2008-01-17 00:00:00\n",
       "75%      2014-11-25 00:00:00\n",
       "max      2019-01-14 00:00:00\n",
       "Name: FECHA DE REGISTRO, dtype: object"
      ]
     },
     "execution_count": 64,
     "metadata": {},
     "output_type": "execute_result"
    }
   ],
   "source": [
    "repdaMor[repdaMor.TÍTULO.apply(lambda x: len(x))==11]['FECHA DE REGISTRO'].describe(datetime_is_numeric=True)"
   ]
  },
  {
   "cell_type": "markdown",
   "metadata": {},
   "source": [
    "Vemos que de nuevo se traslpa con el formato correcto de 20 caracteres, por lo que podemos decir que se trata de una inconsistencia de formato."
   ]
  },
  {
   "cell_type": "markdown",
   "metadata": {},
   "source": [
    "Sin embargo, hay un formato que es totalmente diferente al resto y es el de 6 caracteres, ya que no aparece la palabra _MCH_, solo se trata de dígitos. Así que revisemos las fechas en las que este formato está presente."
   ]
  },
  {
   "cell_type": "code",
   "execution_count": 65,
   "metadata": {},
   "outputs": [
    {
     "data": {
      "text/plain": [
       "count                               35\n",
       "mean     2021-01-22 18:30:51.428571392\n",
       "min                2020-01-31 00:00:00\n",
       "25%                2020-08-29 12:00:00\n",
       "50%                2021-01-15 00:00:00\n",
       "75%                2021-07-31 12:00:00\n",
       "max                2021-12-16 00:00:00\n",
       "Name: FECHA DE REGISTRO, dtype: object"
      ]
     },
     "execution_count": 65,
     "metadata": {},
     "output_type": "execute_result"
    }
   ],
   "source": [
    "repdaMor[repdaMor.TÍTULO.apply(lambda x: len(x))==6]['FECHA DE REGISTRO'].describe(datetime_is_numeric=True)"
   ]
  },
  {
   "cell_type": "markdown",
   "metadata": {},
   "source": [
    "Vemos que para este formato no hay un traslape con el de 20 caracteres, y es el que se ha estado usando recientemente, por lo que puede que se trate de un cambio de formato."
   ]
  },
  {
   "cell_type": "code",
   "execution_count": 66,
   "metadata": {},
   "outputs": [
    {
     "data": {
      "image/png": "[encoded data removed]",
      "text/plain": [
       "<Figure size 432x288 with 1 Axes>"
      ]
     },
     "metadata": {},
     "output_type": "display_data"
    }
   ],
   "source": [
    "sns.countplot(x = pd.DatetimeIndex(repdaMor['FECHA DE REGISTRO']).year, color='b')\n",
    "plt.title(\"Distribución de permisos\\npor año\",size=16)\n",
    "plt.ylabel(\"Cantidad de registros\")\n",
    "plt.xlabel(\"Año de registro\")\n",
    "plt.xticks(rotation=90)\n",
    "plt.savefig('./Graficas/AnioPermisos.svg',dpi=350,bbox_inches=\"tight\")\n",
    "plt.show()"
   ]
  },
  {
   "cell_type": "markdown",
   "metadata": {},
   "source": [
    "Vemos que en 2018 hubo la mayor cantidad de registros y en 2011 la menor. También podemos revisar los meses."
   ]
  },
  {
   "cell_type": "code",
   "execution_count": 5,
   "metadata": {},
   "outputs": [
    {
     "data": {
      "image/png": "[encoded data removed]",
      "text/plain": [
       "<Figure size 432x288 with 1 Axes>"
      ]
     },
     "metadata": {},
     "output_type": "display_data"
    }
   ],
   "source": [
    "orden = ['January','February','March','April','May','June','July',\n",
    "         'August','September','October','November','December']\n",
    "meses = ['Enero','Febrero','Marzo','Abril','Mayo','Junio','Julio',\n",
    "        'Agosto','Septiembre','Octubre','Noviembre','Diciembre']\n",
    "sns.countplot(x = pd.DatetimeIndex(repdaMor['FECHA DE REGISTRO']).month_name(), color='b',order=orden)\n",
    "plt.title(\"Cantidad de permisos por mes\",size=16)\n",
    "plt.ylabel(\"Cantidad de registros\")\n",
    "plt.xlabel(\"Mes de registro\")\n",
    "plt.xticks(ticks=list(range(12)),labels=meses,rotation=90)\n",
    "plt.savefig('./Graficas/MesPermisos.svg',dpi=350,bbox_inches=\"tight\")\n",
    "plt.show()"
   ]
  },
  {
   "cell_type": "markdown",
   "metadata": {},
   "source": [
    "Naturalmente, es al inicio del año cuando se hacen más registros."
   ]
  },
  {
   "cell_type": "markdown",
   "metadata": {},
   "source": [
    "## Autoridades que emiten el acto"
   ]
  },
  {
   "cell_type": "code",
   "execution_count": 68,
   "metadata": {},
   "outputs": [
    {
     "data": {
      "text/plain": [
       "DIRECCIÓN LOCAL MICHOACÁN                                            520\n",
       "DIRECCIÓN GENERAL DEL ORGANISMO DE CUENCA LERMA SANTIAGO PACÍFICO      6\n",
       "SUBDIRECCIÓN GENERAL DE ADMINISTRACIÓN DEL AGUA                        2\n",
       "SUBDIRECTOR GENERAL DE ADMINISTRACIÓN DEL AGUA                         1\n",
       "Name: AUTORIDAD QUE EMITE EL ACTO, dtype: int64"
      ]
     },
     "execution_count": 68,
     "metadata": {},
     "output_type": "execute_result"
    }
   ],
   "source": [
    "repdaMor['AUTORIDAD QUE EMITE EL ACTO'].value_counts()"
   ]
  },
  {
   "cell_type": "markdown",
   "metadata": {},
   "source": [
    "Vemos que principalmente es la dirección local de Michoacán quien se encarga de emitir las actas. Sin embargo, llama la atención que una de las autoridades sea la Subdirección General de Administración del agua y otra el subdirector general de administración del agua."
   ]
  },
  {
   "cell_type": "markdown",
   "metadata": {},
   "source": [
    "## Pensamientos finales\n",
    "De manera general, este análisis se complicó más de lo que debería debido a la falta de documentación, en especial por la confusión  de tener dos bases de datos que están presentadas de diferente manera.</br>\n",
    "\n",
    "Revisando el documento de estadísticas del 2018, podemos encontrar un glosario que nos ayuda a entender mejor lo que significa cada tipo de aprovechamiento.\n",
    "\n",
    "* **Agua subterránea**: Agua que satura por completo los poros o intersticios del subsuelo.\n",
    "* **Aguas residuales**: Las aguas de composición variada provenientes de las descargas de usos público urbano, doméstico, industrial, comercial, de servicios, agrícola, pecuario, de las plantas de tratamiento y en general de cualquier otro uso, así como la mezcla de ellas\n",
    "* **Aguas superficiales**: Agua que fluye o se almacena en la superficie de la corteza terrestre en forma de ríos, lagos o embalses artificiales como presas, bordos y canales.\n",
    "* **Zona federal**: Las fajas de diez metros de anchura contiguas al cauce de las corrientes o al vaso de los depósitos de propiedad nacional, medidas horizontalmente a partir del Nivel de Aguas Máximas Ordinarias. La amplitud de la ribera o zona federal será de cinco metros en los cauces con una anchura no mayor de cinco metros.\n",
    "\n",
    "A la par, en este glosario se puede leer lo siguiente. </br>\n",
    "_Nota: El glosario es una compilación de diversas fuentes,\n",
    "con el fin de ilustrar los diversos conceptos empleados en\n",
    "este documento. No constituyen por tanto definiciones con\n",
    "fuerza legal._\n",
    "\n",
    "Otra cosa a destacar es que dentro de este libro de estadísticas no se hace mención de un uso llamado \"Diferentes Usos\""
   ]
  },
  {
   "cell_type": "markdown",
   "metadata": {},
   "source": [
    "## Referencias\n",
    "* [con18] Agua, Comisión N. (Hrsg.): Estadísticas Del Agua En México. http://sina.conagua.gob.mx/publicaciones/EAM_2018.pdf . Version: 2018"
   ]
  },
  {
   "cell_type": "code",
   "execution_count": null,
   "metadata": {},
   "outputs": [],
   "source": []
  }
 ],
 "metadata": {
  "kernelspec": {
   "display_name": "Python 3",
   "language": "python",
   "name": "python3"
  },
  "language_info": {
   "codemirror_mode": {
    "name": "ipython",
    "version": 3
   },
   "file_extension": ".py",
   "mimetype": "text/x-python",
   "name": "python",
   "nbconvert_exporter": "python",
   "pygments_lexer": "ipython3",
   "version": "3.8.10"
  }
 },
 "nbformat": 4,
 "nbformat_minor": 4
}
