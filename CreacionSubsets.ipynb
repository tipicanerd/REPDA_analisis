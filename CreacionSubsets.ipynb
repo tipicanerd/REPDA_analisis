{
 "cells": [
  {
   "cell_type": "code",
   "execution_count": 1,
   "metadata": {},
   "outputs": [
    {
     "name": "stdout",
     "output_type": "stream",
     "text": [
      "Archive:  Otorgamiento_de_Concesiones.zip\n",
      "   creating: CONCESIONES/\n",
      "  inflating: CONCESIONES/ANEXOS_DESCARGAS.csv  \n",
      "  inflating: CONCESIONES/ANEXOS_SUBTERRÁNEOS.csv  \n",
      "  inflating: CONCESIONES/ANEXOS_SUBTERRÁNEOS_DTTOS.csv  \n",
      "  inflating: CONCESIONES/ANEXOS_SUPERFICIALES.csv  \n",
      "  inflating: CONCESIONES/ANEXOS_SUPERFICIALES_DTTOS.csv  \n",
      "  inflating: CONCESIONES/ANEXOS_ZONAS_FEDERALES.csv  \n",
      "  inflating: CONCESIONES/CONCESIONES.csv  \n",
      "  inflating: CONCESIONES/CONCESIONES_DTTOS_DE_RIEGO.csv  \n",
      "   creating: PERMISOS_MATERIALES/\n",
      "  inflating: PERMISOS_MATERIALES/ANEXOS_DE_EXT_MATERIALES.csv  \n",
      "  inflating: PERMISOS_MATERIALES/PERMISOS_DE_EXT_DE_MATERIALES.csv  \n",
      "   creating: REGISTRO_OBRAS_ZLA/\n",
      "  inflating: REGISTRO_OBRAS_ZLA/ANEXOS_DE_OBRAS.csv  \n",
      "  inflating: REGISTRO_OBRAS_ZLA/REGISTRO_OBRAS.csv  \n"
     ]
    }
   ],
   "source": [
    "! wget http://201.116.60.46/DatosAbiertos/Otorgamiento_de_Concesiones.zip\n",
    "! unzip Otorgamiento_de_Concesiones.zip"
   ]
  },
  {
   "cell_type": "code",
   "execution_count": 2,
   "metadata": {},
   "outputs": [],
   "source": [
    "#Librerías necesarias\n",
    "import matplotlib.pyplot as plt\n",
    "import numpy as np\n",
    "import pandas as pd\n",
    "import seaborn as sns"
   ]
  },
  {
   "cell_type": "code",
   "execution_count": 3,
   "metadata": {},
   "outputs": [],
   "source": [
    "folder = './CONCESIONES/'"
   ]
  },
  {
   "cell_type": "code",
   "execution_count": 4,
   "metadata": {},
   "outputs": [],
   "source": [
    "repda = pd.read_csv(folder+'CONCESIONES.csv',parse_dates=['FECHA DE REGISTRO'], infer_datetime_format=True)\n",
    "anexosDes = pd.read_csv(folder+'ANEXOS_DESCARGAS.csv')\n",
    "anexosZonFed = pd.read_csv(folder+'ANEXOS_ZONAS_FEDERALES.csv')\n",
    "anexosSub = pd.read_csv(folder+'ANEXOS_SUBTERRÁNEOS.csv')\n",
    "anexosSup = pd.read_csv(folder+'ANEXOS_SUPERFICIALES.csv')"
   ]
  },
  {
   "cell_type": "code",
   "execution_count": 5,
   "metadata": {},
   "outputs": [
    {
     "name": "stderr",
     "output_type": "stream",
     "text": [
      "<ipython-input-5-5aca89394ddc>:2: SettingWithCopyWarning: \n",
      "A value is trying to be set on a copy of a slice from a DataFrame.\n",
      "Try using .loc[row_indexer,col_indexer] = value instead\n",
      "\n",
      "See the caveats in the documentation: https://pandas.pydata.org/pandas-docs/stable/user_guide/indexing.html#returning-a-view-versus-a-copy\n",
      "  anexosDesMor['TITULAR'] = [list(repda[repda['TÍTULO']==t]['TITULAR'])[0] for  t in list(anexosDesMor['TÍTULO'])]\n",
      "<ipython-input-5-5aca89394ddc>:3: SettingWithCopyWarning: \n",
      "A value is trying to be set on a copy of a slice from a DataFrame.\n",
      "Try using .loc[row_indexer,col_indexer] = value instead\n",
      "\n",
      "See the caveats in the documentation: https://pandas.pydata.org/pandas-docs/stable/user_guide/indexing.html#returning-a-view-versus-a-copy\n",
      "  anexosDesMor['USO'] = [list(repda[repda['TÍTULO']==t]['USO QUE AMPARA EL TÍTULO'])[0] for  t in list(anexosDesMor['TÍTULO'])]\n"
     ]
    }
   ],
   "source": [
    "anexosDesMor = anexosDes[(anexosDes['NOMBRE DE ESTADO']=='MICHOACÁN DE OCAMPO')&(anexosDes['NOMBRE DE MUNICIPIO']=='MORELIA')]\n",
    "anexosDesMor['TITULAR'] = [list(repda[repda['TÍTULO']==t]['TITULAR'])[0] for  t in list(anexosDesMor['TÍTULO'])]\n",
    "anexosDesMor['USO'] = [list(repda[repda['TÍTULO']==t]['USO QUE AMPARA EL TÍTULO'])[0] for  t in list(anexosDesMor['TÍTULO'])]"
   ]
  },
  {
   "cell_type": "code",
   "execution_count": 6,
   "metadata": {},
   "outputs": [
    {
     "name": "stderr",
     "output_type": "stream",
     "text": [
      "<ipython-input-6-48cec353d037>:2: SettingWithCopyWarning: \n",
      "A value is trying to be set on a copy of a slice from a DataFrame.\n",
      "Try using .loc[row_indexer,col_indexer] = value instead\n",
      "\n",
      "See the caveats in the documentation: https://pandas.pydata.org/pandas-docs/stable/user_guide/indexing.html#returning-a-view-versus-a-copy\n",
      "  anexosSubMor['TITULAR'] = [list(repda[repda['TÍTULO']==t]['TITULAR'])[0] for  t in list(anexosSubMor['TÍTULO'])]\n",
      "<ipython-input-6-48cec353d037>:3: SettingWithCopyWarning: \n",
      "A value is trying to be set on a copy of a slice from a DataFrame.\n",
      "Try using .loc[row_indexer,col_indexer] = value instead\n",
      "\n",
      "See the caveats in the documentation: https://pandas.pydata.org/pandas-docs/stable/user_guide/indexing.html#returning-a-view-versus-a-copy\n",
      "  anexosSubMor['USO'] = [list(repda[repda['TÍTULO']==t]['USO QUE AMPARA EL TÍTULO'])[0] for  t in list(anexosSubMor['TÍTULO'])]\n"
     ]
    }
   ],
   "source": [
    "anexosSubMor = anexosSub[(anexosSub['NOMBRE DE ESTADO']=='MICHOACÁN DE OCAMPO')&(anexosSub['NOMBRE DE MUNICIPIO']=='MORELIA')]\n",
    "anexosSubMor['TITULAR'] = [list(repda[repda['TÍTULO']==t]['TITULAR'])[0] for  t in list(anexosSubMor['TÍTULO'])]\n",
    "anexosSubMor['USO'] = [list(repda[repda['TÍTULO']==t]['USO QUE AMPARA EL TÍTULO'])[0] for  t in list(anexosSubMor['TÍTULO'])]"
   ]
  },
  {
   "cell_type": "code",
   "execution_count": 7,
   "metadata": {},
   "outputs": [
    {
     "name": "stderr",
     "output_type": "stream",
     "text": [
      "<ipython-input-7-f7ad1d824a73>:2: SettingWithCopyWarning: \n",
      "A value is trying to be set on a copy of a slice from a DataFrame.\n",
      "Try using .loc[row_indexer,col_indexer] = value instead\n",
      "\n",
      "See the caveats in the documentation: https://pandas.pydata.org/pandas-docs/stable/user_guide/indexing.html#returning-a-view-versus-a-copy\n",
      "  anexosZonFedMor['TITULAR'] = [list(repda[repda['TÍTULO']==t]['TITULAR'])[0] for  t in list(anexosZonFedMor['TÍTULO'])]\n",
      "<ipython-input-7-f7ad1d824a73>:3: SettingWithCopyWarning: \n",
      "A value is trying to be set on a copy of a slice from a DataFrame.\n",
      "Try using .loc[row_indexer,col_indexer] = value instead\n",
      "\n",
      "See the caveats in the documentation: https://pandas.pydata.org/pandas-docs/stable/user_guide/indexing.html#returning-a-view-versus-a-copy\n",
      "  anexosZonFedMor['USO'] = [list(repda[repda['TÍTULO']==t]['USO QUE AMPARA EL TÍTULO'])[0] for  t in list(anexosZonFedMor['TÍTULO'])]\n"
     ]
    }
   ],
   "source": [
    "anexosZonFedMor = anexosZonFed[(anexosZonFed['NOMBRE DE ESTADO']=='MICHOACÁN DE OCAMPO')&(anexosZonFed['NOMBRE DE MUNICIPIO']=='MORELIA')]\n",
    "anexosZonFedMor['TITULAR'] = [list(repda[repda['TÍTULO']==t]['TITULAR'])[0] for  t in list(anexosZonFedMor['TÍTULO'])]\n",
    "anexosZonFedMor['USO'] = [list(repda[repda['TÍTULO']==t]['USO QUE AMPARA EL TÍTULO'])[0] for  t in list(anexosZonFedMor['TÍTULO'])]"
   ]
  },
  {
   "cell_type": "code",
   "execution_count": 8,
   "metadata": {},
   "outputs": [
    {
     "name": "stderr",
     "output_type": "stream",
     "text": [
      "<ipython-input-8-1d4d253b2f7f>:2: SettingWithCopyWarning: \n",
      "A value is trying to be set on a copy of a slice from a DataFrame.\n",
      "Try using .loc[row_indexer,col_indexer] = value instead\n",
      "\n",
      "See the caveats in the documentation: https://pandas.pydata.org/pandas-docs/stable/user_guide/indexing.html#returning-a-view-versus-a-copy\n",
      "  anexosSupMor['TITULAR'] = [list(repda[repda['TÍTULO']==t]['TITULAR'])[0] for  t in list(anexosSupMor['TÍTULO'])]\n",
      "<ipython-input-8-1d4d253b2f7f>:3: SettingWithCopyWarning: \n",
      "A value is trying to be set on a copy of a slice from a DataFrame.\n",
      "Try using .loc[row_indexer,col_indexer] = value instead\n",
      "\n",
      "See the caveats in the documentation: https://pandas.pydata.org/pandas-docs/stable/user_guide/indexing.html#returning-a-view-versus-a-copy\n",
      "  anexosSupMor['USO'] = [list(repda[repda['TÍTULO']==t]['USO QUE AMPARA EL TÍTULO'])[0] for  t in list(anexosSupMor['TÍTULO'])]\n"
     ]
    }
   ],
   "source": [
    "anexosSupMor = anexosSup[(anexosSup['NOMBRE DE ESTADO']=='MICHOACÁN DE OCAMPO')&(anexosSup['NOMBRE DE MUNICIPIO']=='MORELIA')]\n",
    "anexosSupMor['TITULAR'] = [list(repda[repda['TÍTULO']==t]['TITULAR'])[0] for  t in list(anexosSupMor['TÍTULO'])]\n",
    "anexosSupMor['USO'] = [list(repda[repda['TÍTULO']==t]['USO QUE AMPARA EL TÍTULO'])[0] for  t in list(anexosSupMor['TÍTULO'])]"
   ]
  },
  {
   "cell_type": "code",
   "execution_count": 9,
   "metadata": {},
   "outputs": [],
   "source": [
    "titulos = list(anexosDesMor['TÍTULO'])+list(anexosSubMor['TÍTULO'])+list(anexosZonFedMor['TÍTULO'])+list(anexosSupMor['TÍTULO'])"
   ]
  },
  {
   "cell_type": "code",
   "execution_count": 10,
   "metadata": {},
   "outputs": [],
   "source": [
    "repdaMorelia = repda[repda['TÍTULO'].isin(titulos)]"
   ]
  },
  {
   "cell_type": "code",
   "execution_count": 12,
   "metadata": {},
   "outputs": [
    {
     "name": "stderr",
     "output_type": "stream",
     "text": [
      "/home/jazmin/.local/lib/python3.8/site-packages/pandas/core/series.py:4576: SettingWithCopyWarning: \n",
      "A value is trying to be set on a copy of a slice from a DataFrame\n",
      "\n",
      "See the caveats in the documentation: https://pandas.pydata.org/pandas-docs/stable/user_guide/indexing.html#returning-a-view-versus-a-copy\n",
      "  return super().replace(\n"
     ]
    }
   ],
   "source": [
    "repdaMorelia['USO QUE AMPARA EL TÍTULO'].replace('AGR͍COLA','AGRÍCOLA',inplace=True)"
   ]
  },
  {
   "cell_type": "code",
   "execution_count": 13,
   "metadata": {},
   "outputs": [
    {
     "data": {
      "text/plain": [
       "SERVICIOS                           190\n",
       "AGRÍCOLA                            130\n",
       "PÚBLICO URBANO                       90\n",
       "INDUSTRIAL                           38\n",
       "DIFERENTES USOS                      34\n",
       "OTROS                                20\n",
       "DOMÉSTICO                            18\n",
       "PECUARIO                              6\n",
       "ACUACULTURA                           2\n",
       "GENERACIÓN  DE ENERGÍA ELÉCTRICA      1\n",
       "Name: USO QUE AMPARA EL TÍTULO, dtype: int64"
      ]
     },
     "execution_count": 13,
     "metadata": {},
     "output_type": "execute_result"
    }
   ],
   "source": [
    "repdaMorelia['USO QUE AMPARA EL TÍTULO'].value_counts()"
   ]
  },
  {
   "cell_type": "code",
   "execution_count": null,
   "metadata": {},
   "outputs": [],
   "source": [
    "repdaMorelia.info()"
   ]
  },
  {
   "cell_type": "code",
   "execution_count": null,
   "metadata": {},
   "outputs": [],
   "source": [
    "pd.options.display.float_format = '{:.2f}'.format"
   ]
  },
  {
   "cell_type": "code",
   "execution_count": null,
   "metadata": {},
   "outputs": [],
   "source": [
    "repdaMorelia.describe()"
   ]
  },
  {
   "cell_type": "code",
   "execution_count": 14,
   "metadata": {},
   "outputs": [],
   "source": [
    "del repda\n",
    "del anexosDes\n",
    "del anexosSub\n",
    "del anexosSup\n",
    "del anexosZonFed"
   ]
  },
  {
   "cell_type": "code",
   "execution_count": 15,
   "metadata": {},
   "outputs": [],
   "source": [
    "repdaMorelia.to_csv('./datasets/RepdaMorelia.csv',index=False)"
   ]
  },
  {
   "cell_type": "code",
   "execution_count": 16,
   "metadata": {},
   "outputs": [],
   "source": [
    "anexosDesMor.to_csv('./datasets/AnexosDescargasMorelia.csv', index=False)"
   ]
  },
  {
   "cell_type": "code",
   "execution_count": 17,
   "metadata": {},
   "outputs": [],
   "source": [
    "anexosSubMor.to_csv('./datasets/AnexosSubterraneosMorelia.csv', index=False)"
   ]
  },
  {
   "cell_type": "code",
   "execution_count": 18,
   "metadata": {},
   "outputs": [],
   "source": [
    "anexosSupMor.to_csv('./datasets/AnexosSuperficialesMorelia.csv', index=False)"
   ]
  },
  {
   "cell_type": "code",
   "execution_count": 19,
   "metadata": {},
   "outputs": [],
   "source": [
    "anexosZonFedMor.to_csv('./datasets/AnexosZonasFederalesMorelia.csv', index=False)"
   ]
  },
  {
   "cell_type": "code",
   "execution_count": null,
   "metadata": {},
   "outputs": [],
   "source": []
  }
 ],
 "metadata": {
  "kernelspec": {
   "display_name": "Python 3",
   "language": "python",
   "name": "python3"
  },
  "language_info": {
   "codemirror_mode": {
    "name": "ipython",
    "version": 3
   },
   "file_extension": ".py",
   "mimetype": "text/x-python",
   "name": "python",
   "nbconvert_exporter": "python",
   "pygments_lexer": "ipython3",
   "version": "3.8.2"
  }
 },
 "nbformat": 4,
 "nbformat_minor": 4
}
