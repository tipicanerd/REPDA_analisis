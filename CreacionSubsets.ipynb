{
 "cells": [
  {
   "cell_type": "markdown",
   "metadata": {},
   "source": [
    "# Creación de los subconjuntos"
   ]
  },
  {
   "cell_type": "markdown",
   "metadata": {},
   "source": [
    "Lo primero es descargar el conjunto de datos disponible en el portal de datos abiertos"
   ]
  },
  {
   "cell_type": "code",
   "execution_count": null,
   "metadata": {},
   "outputs": [],
   "source": [
    "! wget http://201.116.60.46/DatosAbiertos/Otorgamiento_de_Concesiones.zip\n",
    "! unzip Otorgamiento_de_Concesiones.zip"
   ]
  },
  {
   "cell_type": "code",
   "execution_count": null,
   "metadata": {},
   "outputs": [],
   "source": [
    "#Librerías necesarias\n",
    "import matplotlib.pyplot as plt\n",
    "import numpy as np\n",
    "import pandas as pd\n",
    "import seaborn as sns"
   ]
  },
  {
   "cell_type": "markdown",
   "metadata": {},
   "source": [
    "Cargamos los datos"
   ]
  },
  {
   "cell_type": "code",
   "execution_count": null,
   "metadata": {},
   "outputs": [],
   "source": [
    "folder = './CONCESIONES/'"
   ]
  },
  {
   "cell_type": "code",
   "execution_count": null,
   "metadata": {},
   "outputs": [],
   "source": [
    "repda = pd.read_csv(folder+'CONCESIONES.csv',parse_dates=['FECHA DE REGISTRO'], infer_datetime_format=True)\n",
    "anexosDes = pd.read_csv(folder+'ANEXOS_DESCARGAS.csv')\n",
    "anexosZonFed = pd.read_csv(folder+'ANEXOS_ZONAS_FEDERALES.csv')\n",
    "anexosSub = pd.read_csv(folder+'ANEXOS_SUBTERRÁNEOS.csv')\n",
    "anexosSup = pd.read_csv(folder+'ANEXOS_SUPERFICIALES.csv')"
   ]
  },
  {
   "cell_type": "markdown",
   "metadata": {},
   "source": [
    "Corregimos un error por la codificación"
   ]
  },
  {
   "cell_type": "code",
   "execution_count": null,
   "metadata": {},
   "outputs": [],
   "source": [
    "repda['USO QUE AMPARA EL TÍTULO'].replace('AGR͍COLA', 'AGRÍCOLA', inplace=True)"
   ]
  },
  {
   "cell_type": "markdown",
   "metadata": {},
   "source": [
    "Separamos los anexos del municipio de Morelia"
   ]
  },
  {
   "cell_type": "code",
   "execution_count": null,
   "metadata": {},
   "outputs": [],
   "source": [
    "anexosDesMor = anexosDes[(anexosDes['NOMBRE DE ESTADO']=='MICHOACÁN DE OCAMPO')&(anexosDes['NOMBRE DE MUNICIPIO']=='MORELIA')]\n",
    "anexosDesMor['TITULAR'] = [list(repda[repda['TÍTULO']==t]['TITULAR'])[0] for  t in list(anexosDesMor['TÍTULO'])]\n",
    "anexosDesMor['USO'] = [list(repda[repda['TÍTULO']==t]['USO QUE AMPARA EL TÍTULO'])[0] for  t in list(anexosDesMor['TÍTULO'])]"
   ]
  },
  {
   "cell_type": "code",
   "execution_count": null,
   "metadata": {},
   "outputs": [],
   "source": [
    "anexosSubMor = anexosSub[(anexosSub['NOMBRE DE ESTADO']=='MICHOACÁN DE OCAMPO')&(anexosSub['NOMBRE DE MUNICIPIO']=='MORELIA')]\n",
    "anexosSubMor['TITULAR'] = [list(repda[repda['TÍTULO']==t]['TITULAR'])[0] for  t in list(anexosSubMor['TÍTULO'])]\n",
    "anexosSubMor['USO'] = [list(repda[repda['TÍTULO']==t]['USO QUE AMPARA EL TÍTULO'])[0] for  t in list(anexosSubMor['TÍTULO'])]"
   ]
  },
  {
   "cell_type": "code",
   "execution_count": null,
   "metadata": {},
   "outputs": [],
   "source": [
    "anexosZonFedMor = anexosZonFed[(anexosZonFed['NOMBRE DE ESTADO']=='MICHOACÁN DE OCAMPO')&(anexosZonFed['NOMBRE DE MUNICIPIO']=='MORELIA')]\n",
    "anexosZonFedMor['TITULAR'] = [list(repda[repda['TÍTULO']==t]['TITULAR'])[0] for  t in list(anexosZonFedMor['TÍTULO'])]\n",
    "anexosZonFedMor['USO'] = [list(repda[repda['TÍTULO']==t]['USO QUE AMPARA EL TÍTULO'])[0] for  t in list(anexosZonFedMor['TÍTULO'])]"
   ]
  },
  {
   "cell_type": "code",
   "execution_count": null,
   "metadata": {},
   "outputs": [],
   "source": [
    "anexosSupMor = anexosSup[(anexosSup['NOMBRE DE ESTADO']=='MICHOACÁN DE OCAMPO')&(anexosSup['NOMBRE DE MUNICIPIO']=='MORELIA')]\n",
    "anexosSupMor['TITULAR'] = [list(repda[repda['TÍTULO']==t]['TITULAR'])[0] for  t in list(anexosSupMor['TÍTULO'])]\n",
    "anexosSupMor['USO'] = [list(repda[repda['TÍTULO']==t]['USO QUE AMPARA EL TÍTULO'])[0] for  t in list(anexosSupMor['TÍTULO'])]"
   ]
  },
  {
   "cell_type": "markdown",
   "metadata": {},
   "source": [
    "Seleccionamos los registros que tengan un título dentro de los anexos"
   ]
  },
  {
   "cell_type": "code",
   "execution_count": null,
   "metadata": {},
   "outputs": [],
   "source": [
    "titulos = list(anexosDesMor['TÍTULO'])+list(anexosSubMor['TÍTULO'])+list(anexosZonFedMor['TÍTULO'])+list(anexosSupMor['TÍTULO'])"
   ]
  },
  {
   "cell_type": "code",
   "execution_count": null,
   "metadata": {},
   "outputs": [],
   "source": [
    "repdaMorelia = repda[repda['TÍTULO'].isin(titulos)]"
   ]
  },
  {
   "cell_type": "markdown",
   "metadata": {},
   "source": [
    "Revisamos un poco la información"
   ]
  },
  {
   "cell_type": "code",
   "execution_count": null,
   "metadata": {},
   "outputs": [],
   "source": [
    "repdaMorelia.info()"
   ]
  },
  {
   "cell_type": "code",
   "execution_count": null,
   "metadata": {},
   "outputs": [],
   "source": [
    "pd.options.display.float_format = '{:.2f}'.format"
   ]
  },
  {
   "cell_type": "code",
   "execution_count": null,
   "metadata": {},
   "outputs": [],
   "source": [
    "repdaMorelia.describe()"
   ]
  },
  {
   "cell_type": "markdown",
   "metadata": {},
   "source": [
    "Liberamos espacio"
   ]
  },
  {
   "cell_type": "code",
   "execution_count": null,
   "metadata": {},
   "outputs": [],
   "source": [
    "del repda\n",
    "del anexosDes\n",
    "del anexosSub\n",
    "del anexosSup\n",
    "del anexosZonFed"
   ]
  },
  {
   "cell_type": "markdown",
   "metadata": {},
   "source": [
    "Agregamos las coordenadas decimales, tomando en cuenta que para este caso la longitud es negativa"
   ]
  },
  {
   "cell_type": "code",
   "execution_count": null,
   "metadata": {},
   "outputs": [],
   "source": [
    "anexosDesMor['X'] = -anexosDesMor['SEGUNDOS LONGITUD']/3600 - anexosDesMor['MINUTOS LONGITUD']/60 - anexosDesMor['GRADOS LONGITUD']\n",
    "anexosDesMor['Y'] = anexosDesMor['SEGUNDOS LATITUD']/3600 + anexosDesMor['MINUTOS LATITUD']/60 + anexosDesMor['GRADOS LATITUD']"
   ]
  },
  {
   "cell_type": "code",
   "execution_count": null,
   "metadata": {},
   "outputs": [],
   "source": [
    "anexosSubMor['X'] = -anexosSubMor['SEGUNDOS LONGITUD']/3600 - anexosSubMor['MINUTOS LONGITUD']/60 - anexosSubMor['GRADOS LONGITUD']\n",
    "anexosSubMor['Y'] = anexosSubMor['SEGUNDOS LATITUD']/3600 + anexosSubMor['MINUTOS LATITUD']/60 + anexosSubMor['GRADOS LATITUD']"
   ]
  },
  {
   "cell_type": "code",
   "execution_count": null,
   "metadata": {},
   "outputs": [],
   "source": [
    "anexosSupMor['X'] = -anexosSupMor['SEGUNDOS LONGITUD']/3600 - anexosSupMor['MINUTOS LONGITUD']/60 - anexosSupMor['GRADOS LONGITUD']\n",
    "anexosSupMor['Y'] = anexosSupMor['SEGUNDOS LATITUD']/3600 + anexosSupMor['MINUTOS LATITUD']/60 + anexosSupMor['GRADOS LATITUD']"
   ]
  },
  {
   "cell_type": "code",
   "execution_count": null,
   "metadata": {},
   "outputs": [],
   "source": [
    "anexosZonFedMor['X'] = -anexosZonFedMor['SEGUNDOS LONGITUD']/3600 - anexosZonFedMor['MINUTOS LONGITUD']/60 - anexosZonFedMor['GRADOS LONGITUD']\n",
    "anexosZonFedMor['Y'] = anexosZonFedMor['SEGUNDOS LATITUD']/3600 + anexosZonFedMor['MINUTOS LATITUD']/60 + anexosZonFedMor['GRADOS LATITUD']"
   ]
  },
  {
   "cell_type": "markdown",
   "metadata": {},
   "source": [
    "Exportamos"
   ]
  },
  {
   "cell_type": "code",
   "execution_count": null,
   "metadata": {},
   "outputs": [],
   "source": [
    "repdaMorelia.to_csv('./datasets/RepdaMorelia.csv',index=False)"
   ]
  },
  {
   "cell_type": "code",
   "execution_count": null,
   "metadata": {},
   "outputs": [],
   "source": [
    "anexosDesMor.to_csv('./datasets/AnexosDescargasMorelia.csv', index=False)"
   ]
  },
  {
   "cell_type": "code",
   "execution_count": null,
   "metadata": {},
   "outputs": [],
   "source": [
    "anexosSubMor.to_csv('./datasets/AnexosSubterraneosMorelia.csv', index=False)"
   ]
  },
  {
   "cell_type": "code",
   "execution_count": null,
   "metadata": {},
   "outputs": [],
   "source": [
    "anexosSupMor.to_csv('./datasets/AnexosSuperficialesMorelia.csv', index=False)"
   ]
  },
  {
   "cell_type": "code",
   "execution_count": null,
   "metadata": {},
   "outputs": [],
   "source": [
    "anexosZonFedMor.to_csv('./datasets/AnexosZonasFederalesMorelia.csv', index=False)"
   ]
  },
  {
   "cell_type": "markdown",
   "metadata": {},
   "source": [
    "Borramos las carpetas que ya no nos sirven"
   ]
  },
  {
   "cell_type": "code",
   "execution_count": null,
   "metadata": {},
   "outputs": [],
   "source": [
    "!rm -r Otorgamiento_de_Concesiones.zip\n",
    "!rm -r PERMISOS_MATERIALES\n",
    "!rm -r REGISTRO_OBRAS_ZLA\n",
    "!rm -r CONCESIONES"
   ]
  },
  {
   "cell_type": "code",
   "execution_count": null,
   "metadata": {},
   "outputs": [],
   "source": []
  }
 ],
 "metadata": {
  "kernelspec": {
   "display_name": "Python 3",
   "language": "python",
   "name": "python3"
  },
  "language_info": {
   "codemirror_mode": {
    "name": "ipython",
    "version": 3
   },
   "file_extension": ".py",
   "mimetype": "text/x-python",
   "name": "python",
   "nbconvert_exporter": "python",
   "pygments_lexer": "ipython3",
   "version": "3.8.10"
  }
 },
 "nbformat": 4,
 "nbformat_minor": 4
}
